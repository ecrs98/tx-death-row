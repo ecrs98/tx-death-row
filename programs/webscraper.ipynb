{
 "cells": [
  {
   "cell_type": "markdown",
   "id": "c1088ad3",
   "metadata": {},
   "source": [
    "# Webscraper\n",
    "#### TX Death Row Last Words\n",
    "#### Kwadwo Alfajiri Shah\n",
    "#### 9 July 2024"
   ]
  },
  {
   "cell_type": "markdown",
   "id": "a9e634b5",
   "metadata": {},
   "source": [
    "Webscraping contains two main tasks\n",
    "* Scraping the main table of [TX Death Row Information](https://www.tdcj.texas.gov/death_row/dr_executed_offenders.html), which includes identifying information for prisoners and links to personal details and last words.\n",
    "* Programmatically accessing the links in the main table and scraping prisoner details and last words from all."
   ]
  },
  {
   "cell_type": "code",
   "execution_count": 338,
   "id": "72683af5",
   "metadata": {},
   "outputs": [],
   "source": [
    "import requests\n",
    "import bs4\n",
    "import pandas as pd\n",
    "\n",
    "from datetime import date"
   ]
  },
  {
   "cell_type": "markdown",
   "id": "6458267e",
   "metadata": {},
   "source": [
    "### 1. Scraping the main table"
   ]
  },
  {
   "cell_type": "markdown",
   "id": "d64a9a02",
   "metadata": {},
   "source": [
    "#### Access webpage"
   ]
  },
  {
   "cell_type": "code",
   "execution_count": 216,
   "id": "a303a03e",
   "metadata": {},
   "outputs": [],
   "source": [
    "## review\n",
    "url = 'https://www.tdcj.texas.gov/death_row/dr_executed_offenders.html'\n",
    "headers = {'User-Agent' : 'Mozilla/5.0 (Windows NT 10.0) AppleWebKit/537.36 (KHTML, like Gecko) Chrome/104.0.0.0 Safari/537.36'}"
   ]
  },
  {
   "cell_type": "code",
   "execution_count": 217,
   "id": "cf4291d0",
   "metadata": {},
   "outputs": [
    {
     "name": "stderr",
     "output_type": "stream",
     "text": [
      "C:\\Users\\Alfajiri\\anaconda3\\Lib\\site-packages\\urllib3\\connectionpool.py:1056: InsecureRequestWarning: Unverified HTTPS request is being made to host 'www.tdcj.texas.gov'. Adding certificate verification is strongly advised. See: https://urllib3.readthedocs.io/en/1.26.x/advanced-usage.html#ssl-warnings\n",
      "  warnings.warn(\n"
     ]
    },
    {
     "data": {
      "text/plain": [
       "<Response [200]>"
      ]
     },
     "execution_count": 217,
     "metadata": {},
     "output_type": "execute_result"
    }
   ],
   "source": [
    "## access\n",
    "status = requests.get(url, headers = headers, verify = False) # verify = True results in an SSL error. not the best practice to proceed without verifying TLS, but...\n",
    "status"
   ]
  },
  {
   "cell_type": "code",
   "execution_count": 218,
   "id": "3ac71988",
   "metadata": {},
   "outputs": [],
   "source": [
    "status.close()"
   ]
  },
  {
   "cell_type": "markdown",
   "id": "18be1243",
   "metadata": {},
   "source": [
    "#### Parse results"
   ]
  },
  {
   "cell_type": "code",
   "execution_count": 219,
   "id": "629e8442",
   "metadata": {},
   "outputs": [],
   "source": [
    "## parse\n",
    "soup = bs4.BeautifulSoup(status.text, features = 'html.parser')\n",
    "html_table = soup.find_all('tr')"
   ]
  },
  {
   "cell_type": "markdown",
   "id": "53f6ff61",
   "metadata": {},
   "source": [
    "#### Transform"
   ]
  },
  {
   "cell_type": "markdown",
   "id": "22235220",
   "metadata": {},
   "source": [
    "Get column names:"
   ]
  },
  {
   "cell_type": "code",
   "execution_count": 220,
   "id": "41607d04",
   "metadata": {},
   "outputs": [
    {
     "data": {
      "text/plain": [
       "<tr>\n",
       "<th scope=\"col\" style=\"text-align: center\">Execution</th>\n",
       "<th scope=\"col\" style=\"text-align: center; width: 16%\">Link</th>\n",
       "<th scope=\"col\" style=\"text-align: center; width: 13%\">Link</th>\n",
       "<th scope=\"col\" style=\"text-align: center\">Last Name</th>\n",
       "<th scope=\"col\" style=\"text-align: center\">First Name</th>\n",
       "<th scope=\"col\" style=\"text-align: center; width: 7%\">TDCJ<br/>Number</th>\n",
       "<th scope=\"col\" style=\"text-align: center\">Age</th>\n",
       "<th scope=\"col\" style=\"text-align: center\">Date</th>\n",
       "<th scope=\"col\" style=\"text-align: center\">Race</th>\n",
       "<th scope=\"col\" style=\"text-align: center\">County</th>\n",
       "</tr>"
      ]
     },
     "execution_count": 220,
     "metadata": {},
     "output_type": "execute_result"
    }
   ],
   "source": [
    "columns_html = html_table.pop(0)\n",
    "columns_html"
   ]
  },
  {
   "cell_type": "code",
   "execution_count": 222,
   "id": "2f5c1b55",
   "metadata": {},
   "outputs": [
    {
     "data": {
      "text/plain": [
       "['Execution',\n",
       " 'Inmate Information',\n",
       " 'Last Words',\n",
       " 'Last Name',\n",
       " 'First Name',\n",
       " 'TDCJNumber',\n",
       " 'Age',\n",
       " 'Date',\n",
       " 'Race',\n",
       " 'County']"
      ]
     },
     "execution_count": 222,
     "metadata": {},
     "output_type": "execute_result"
    }
   ],
   "source": [
    "## create list of col names\n",
    "columns = []\n",
    "\n",
    "for tag in columns_html.find_all('th'):\n",
    "    column = tag.text\n",
    "    columns.append(column)\n",
    "\n",
    "# custom names (webpage names are both simply 'Link')\n",
    "columns[1] = \"Inmate Information\"\n",
    "columns[2] = \"Last Words\"\n",
    "\n",
    "\n",
    "columns"
   ]
  },
  {
   "cell_type": "markdown",
   "id": "b5a86276",
   "metadata": {},
   "source": [
    "Create data table:"
   ]
  },
  {
   "cell_type": "code",
   "execution_count": 223,
   "id": "af0fae0c",
   "metadata": {},
   "outputs": [],
   "source": [
    "## create list of table values\n",
    "executed_list = []\n",
    "\n",
    "for row in html_table:\n",
    "    row_values = []\n",
    "    for cell in row.find_all('td'):\n",
    "        if cell.a is None:\n",
    "            cell_value = cell.text\n",
    "        else:\n",
    "            cell_value = cell.a['href']\n",
    "        row_values.append(cell_value)\n",
    "    executed_list.append(row_values)"
   ]
  },
  {
   "cell_type": "code",
   "execution_count": 224,
   "id": "a26a188c",
   "metadata": {},
   "outputs": [
    {
     "data": {
      "text/html": [
       "<div>\n",
       "<style scoped>\n",
       "    .dataframe tbody tr th:only-of-type {\n",
       "        vertical-align: middle;\n",
       "    }\n",
       "\n",
       "    .dataframe tbody tr th {\n",
       "        vertical-align: top;\n",
       "    }\n",
       "\n",
       "    .dataframe thead th {\n",
       "        text-align: right;\n",
       "    }\n",
       "</style>\n",
       "<table border=\"1\" class=\"dataframe\">\n",
       "  <thead>\n",
       "    <tr style=\"text-align: right;\">\n",
       "      <th></th>\n",
       "      <th>Execution</th>\n",
       "      <th>Inmate Information</th>\n",
       "      <th>Last Words</th>\n",
       "      <th>Last Name</th>\n",
       "      <th>First Name</th>\n",
       "      <th>TDCJNumber</th>\n",
       "      <th>Age</th>\n",
       "      <th>Date</th>\n",
       "      <th>Race</th>\n",
       "      <th>County</th>\n",
       "    </tr>\n",
       "  </thead>\n",
       "  <tbody>\n",
       "    <tr>\n",
       "      <th>0</th>\n",
       "      <td>588</td>\n",
       "      <td>dr_info/gonzalesramiro.html</td>\n",
       "      <td>dr_info/gonzalesramirolast.html</td>\n",
       "      <td>Gonzales</td>\n",
       "      <td>Ramiro</td>\n",
       "      <td>999513</td>\n",
       "      <td>41</td>\n",
       "      <td>6/26/2024</td>\n",
       "      <td>Hispanic</td>\n",
       "      <td>Medina</td>\n",
       "    </tr>\n",
       "    <tr>\n",
       "      <th>1</th>\n",
       "      <td>587</td>\n",
       "      <td>dr_info/cantuivan.html</td>\n",
       "      <td>dr_info/cantuivanlast.html</td>\n",
       "      <td>Cantu</td>\n",
       "      <td>Ivan</td>\n",
       "      <td>999399</td>\n",
       "      <td>50</td>\n",
       "      <td>2/28/2024</td>\n",
       "      <td>Hispanic</td>\n",
       "      <td>Collin</td>\n",
       "    </tr>\n",
       "    <tr>\n",
       "      <th>2</th>\n",
       "      <td>586</td>\n",
       "      <td>dr_info/renteriadavid.html</td>\n",
       "      <td>dr_info/renteriadavidlast.html</td>\n",
       "      <td>Renteria</td>\n",
       "      <td>David</td>\n",
       "      <td>999460</td>\n",
       "      <td>53</td>\n",
       "      <td>11/16/2023</td>\n",
       "      <td>Other</td>\n",
       "      <td>El Paso</td>\n",
       "    </tr>\n",
       "    <tr>\n",
       "      <th>3</th>\n",
       "      <td>585</td>\n",
       "      <td>dr_info/brewer.jpg</td>\n",
       "      <td>dr_info/brewerbrentlast.html</td>\n",
       "      <td>Brewer</td>\n",
       "      <td>Brent</td>\n",
       "      <td>999000</td>\n",
       "      <td>53</td>\n",
       "      <td>11/9/2023</td>\n",
       "      <td>White</td>\n",
       "      <td>Randall</td>\n",
       "    </tr>\n",
       "    <tr>\n",
       "      <th>4</th>\n",
       "      <td>584</td>\n",
       "      <td>dr_info/murphyjedidiah.html</td>\n",
       "      <td>dr_info/murphyjedidiahlast.html</td>\n",
       "      <td>Murphy</td>\n",
       "      <td>Jedidiah</td>\n",
       "      <td>999392</td>\n",
       "      <td>48</td>\n",
       "      <td>10/10/2023</td>\n",
       "      <td>White</td>\n",
       "      <td>Dallas</td>\n",
       "    </tr>\n",
       "    <tr>\n",
       "      <th>5</th>\n",
       "      <td>583</td>\n",
       "      <td>dr_info/brownarthur.jpg</td>\n",
       "      <td>dr_info/brownarthurlast.html</td>\n",
       "      <td>Brown, Jr.</td>\n",
       "      <td>Arthur</td>\n",
       "      <td>999110</td>\n",
       "      <td>52</td>\n",
       "      <td>3/9/2023</td>\n",
       "      <td>Black</td>\n",
       "      <td>Harris</td>\n",
       "    </tr>\n",
       "    <tr>\n",
       "      <th>6</th>\n",
       "      <td>582</td>\n",
       "      <td>dr_info/greengary.html</td>\n",
       "      <td>dr_info/greengarylast.html</td>\n",
       "      <td>Green</td>\n",
       "      <td>Gary</td>\n",
       "      <td>999561</td>\n",
       "      <td>51</td>\n",
       "      <td>3/7/2023</td>\n",
       "      <td>Black</td>\n",
       "      <td>Dallas</td>\n",
       "    </tr>\n",
       "    <tr>\n",
       "      <th>7</th>\n",
       "      <td>581</td>\n",
       "      <td>dr_info/balentinejohn.html</td>\n",
       "      <td>dr_info/balentinejohnlast.html</td>\n",
       "      <td>Balentine</td>\n",
       "      <td>John</td>\n",
       "      <td>999315</td>\n",
       "      <td>54</td>\n",
       "      <td>2/9/2023</td>\n",
       "      <td>Black</td>\n",
       "      <td>Potter</td>\n",
       "    </tr>\n",
       "    <tr>\n",
       "      <th>8</th>\n",
       "      <td>580</td>\n",
       "      <td>dr_info/ruizwesley.html</td>\n",
       "      <td>dr_info/ruizwesleylast.html</td>\n",
       "      <td>Ruiz</td>\n",
       "      <td>Wesley</td>\n",
       "      <td>999536</td>\n",
       "      <td>43</td>\n",
       "      <td>2/1/2023</td>\n",
       "      <td>Hispanic</td>\n",
       "      <td>Dallas</td>\n",
       "    </tr>\n",
       "    <tr>\n",
       "      <th>9</th>\n",
       "      <td>579</td>\n",
       "      <td>dr_info/frattarobert.jpg</td>\n",
       "      <td>dr_info/frattarobertlast.html</td>\n",
       "      <td>Fratta</td>\n",
       "      <td>Robert</td>\n",
       "      <td>999189</td>\n",
       "      <td>65</td>\n",
       "      <td>1/10/2023</td>\n",
       "      <td>White</td>\n",
       "      <td>Harris</td>\n",
       "    </tr>\n",
       "  </tbody>\n",
       "</table>\n",
       "</div>"
      ],
      "text/plain": [
       "  Execution           Inmate Information                       Last Words  \\\n",
       "0       588  dr_info/gonzalesramiro.html  dr_info/gonzalesramirolast.html   \n",
       "1       587       dr_info/cantuivan.html       dr_info/cantuivanlast.html   \n",
       "2       586   dr_info/renteriadavid.html   dr_info/renteriadavidlast.html   \n",
       "3       585           dr_info/brewer.jpg     dr_info/brewerbrentlast.html   \n",
       "4       584  dr_info/murphyjedidiah.html  dr_info/murphyjedidiahlast.html   \n",
       "5       583      dr_info/brownarthur.jpg     dr_info/brownarthurlast.html   \n",
       "6       582       dr_info/greengary.html       dr_info/greengarylast.html   \n",
       "7       581   dr_info/balentinejohn.html   dr_info/balentinejohnlast.html   \n",
       "8       580      dr_info/ruizwesley.html      dr_info/ruizwesleylast.html   \n",
       "9       579     dr_info/frattarobert.jpg    dr_info/frattarobertlast.html   \n",
       "\n",
       "    Last Name First Name TDCJNumber Age        Date      Race    County  \n",
       "0    Gonzales     Ramiro     999513  41   6/26/2024  Hispanic    Medina  \n",
       "1       Cantu       Ivan     999399  50   2/28/2024  Hispanic    Collin  \n",
       "2    Renteria      David     999460  53  11/16/2023     Other   El Paso  \n",
       "3      Brewer      Brent     999000  53   11/9/2023     White   Randall  \n",
       "4      Murphy   Jedidiah     999392  48  10/10/2023     White    Dallas  \n",
       "5  Brown, Jr.     Arthur     999110  52    3/9/2023     Black    Harris  \n",
       "6       Green       Gary     999561  51    3/7/2023     Black    Dallas  \n",
       "7   Balentine       John     999315  54    2/9/2023     Black    Potter  \n",
       "8        Ruiz     Wesley     999536  43    2/1/2023  Hispanic    Dallas  \n",
       "9      Fratta     Robert     999189  65   1/10/2023     White    Harris  "
      ]
     },
     "execution_count": 224,
     "metadata": {},
     "output_type": "execute_result"
    }
   ],
   "source": [
    "## convert list to df\n",
    "executed = pd.DataFrame(executed_list, columns = columns)\n",
    "executed.head(10)"
   ]
  },
  {
   "cell_type": "code",
   "execution_count": 225,
   "id": "1a3a69be",
   "metadata": {},
   "outputs": [],
   "source": [
    "## save\n",
    "executed.to_csv('../data/executed_inmates.csv', index=False)"
   ]
  },
  {
   "cell_type": "code",
   "execution_count": null,
   "id": "73efd0b3",
   "metadata": {},
   "outputs": [],
   "source": []
  },
  {
   "cell_type": "markdown",
   "id": "53847553",
   "metadata": {},
   "source": [
    "## 2. Scraping prisoner info and last words"
   ]
  },
  {
   "cell_type": "code",
   "execution_count": 260,
   "id": "ebcf4802",
   "metadata": {},
   "outputs": [
    {
     "data": {
      "text/html": [
       "<div>\n",
       "<style scoped>\n",
       "    .dataframe tbody tr th:only-of-type {\n",
       "        vertical-align: middle;\n",
       "    }\n",
       "\n",
       "    .dataframe tbody tr th {\n",
       "        vertical-align: top;\n",
       "    }\n",
       "\n",
       "    .dataframe thead th {\n",
       "        text-align: right;\n",
       "    }\n",
       "</style>\n",
       "<table border=\"1\" class=\"dataframe\">\n",
       "  <thead>\n",
       "    <tr style=\"text-align: right;\">\n",
       "      <th></th>\n",
       "      <th>Execution</th>\n",
       "      <th>Inmate Information</th>\n",
       "      <th>Last Words</th>\n",
       "      <th>Last Name</th>\n",
       "      <th>First Name</th>\n",
       "      <th>TDCJNumber</th>\n",
       "      <th>Age</th>\n",
       "      <th>Date</th>\n",
       "      <th>Race</th>\n",
       "      <th>County</th>\n",
       "    </tr>\n",
       "  </thead>\n",
       "  <tbody>\n",
       "    <tr>\n",
       "      <th>0</th>\n",
       "      <td>588</td>\n",
       "      <td>dr_info/gonzalesramiro.html</td>\n",
       "      <td>dr_info/gonzalesramirolast.html</td>\n",
       "      <td>Gonzales</td>\n",
       "      <td>Ramiro</td>\n",
       "      <td>999513</td>\n",
       "      <td>41</td>\n",
       "      <td>6/26/2024</td>\n",
       "      <td>Hispanic</td>\n",
       "      <td>Medina</td>\n",
       "    </tr>\n",
       "    <tr>\n",
       "      <th>1</th>\n",
       "      <td>587</td>\n",
       "      <td>dr_info/cantuivan.html</td>\n",
       "      <td>dr_info/cantuivanlast.html</td>\n",
       "      <td>Cantu</td>\n",
       "      <td>Ivan</td>\n",
       "      <td>999399</td>\n",
       "      <td>50</td>\n",
       "      <td>2/28/2024</td>\n",
       "      <td>Hispanic</td>\n",
       "      <td>Collin</td>\n",
       "    </tr>\n",
       "    <tr>\n",
       "      <th>2</th>\n",
       "      <td>586</td>\n",
       "      <td>dr_info/renteriadavid.html</td>\n",
       "      <td>dr_info/renteriadavidlast.html</td>\n",
       "      <td>Renteria</td>\n",
       "      <td>David</td>\n",
       "      <td>999460</td>\n",
       "      <td>53</td>\n",
       "      <td>11/16/2023</td>\n",
       "      <td>Other</td>\n",
       "      <td>El Paso</td>\n",
       "    </tr>\n",
       "    <tr>\n",
       "      <th>3</th>\n",
       "      <td>585</td>\n",
       "      <td>dr_info/brewer.jpg</td>\n",
       "      <td>dr_info/brewerbrentlast.html</td>\n",
       "      <td>Brewer</td>\n",
       "      <td>Brent</td>\n",
       "      <td>999000</td>\n",
       "      <td>53</td>\n",
       "      <td>11/9/2023</td>\n",
       "      <td>White</td>\n",
       "      <td>Randall</td>\n",
       "    </tr>\n",
       "    <tr>\n",
       "      <th>4</th>\n",
       "      <td>584</td>\n",
       "      <td>dr_info/murphyjedidiah.html</td>\n",
       "      <td>dr_info/murphyjedidiahlast.html</td>\n",
       "      <td>Murphy</td>\n",
       "      <td>Jedidiah</td>\n",
       "      <td>999392</td>\n",
       "      <td>48</td>\n",
       "      <td>10/10/2023</td>\n",
       "      <td>White</td>\n",
       "      <td>Dallas</td>\n",
       "    </tr>\n",
       "  </tbody>\n",
       "</table>\n",
       "</div>"
      ],
      "text/plain": [
       "   Execution           Inmate Information                       Last Words  \\\n",
       "0        588  dr_info/gonzalesramiro.html  dr_info/gonzalesramirolast.html   \n",
       "1        587       dr_info/cantuivan.html       dr_info/cantuivanlast.html   \n",
       "2        586   dr_info/renteriadavid.html   dr_info/renteriadavidlast.html   \n",
       "3        585           dr_info/brewer.jpg     dr_info/brewerbrentlast.html   \n",
       "4        584  dr_info/murphyjedidiah.html  dr_info/murphyjedidiahlast.html   \n",
       "\n",
       "  Last Name First Name  TDCJNumber  Age        Date      Race    County  \n",
       "0  Gonzales     Ramiro      999513   41   6/26/2024  Hispanic    Medina  \n",
       "1     Cantu       Ivan      999399   50   2/28/2024  Hispanic    Collin  \n",
       "2  Renteria      David      999460   53  11/16/2023     Other   El Paso  \n",
       "3    Brewer      Brent      999000   53   11/9/2023     White   Randall  \n",
       "4    Murphy   Jedidiah      999392   48  10/10/2023     White    Dallas  "
      ]
     },
     "execution_count": 260,
     "metadata": {},
     "output_type": "execute_result"
    }
   ],
   "source": [
    "executed = pd.read_csv('../data/executed_inmates.csv')\n",
    "executed.head()"
   ]
  },
  {
   "cell_type": "markdown",
   "id": "1ee9db0f",
   "metadata": {},
   "source": [
    "#### Scraping prisoner information"
   ]
  },
  {
   "cell_type": "code",
   "execution_count": 328,
   "id": "acdf19dc",
   "metadata": {},
   "outputs": [],
   "source": [
    "url_base = 'https://www.tdcj.texas.gov/death_row/'"
   ]
  },
  {
   "cell_type": "code",
   "execution_count": 329,
   "id": "7ddc3dcb",
   "metadata": {},
   "outputs": [],
   "source": [
    "def scrape_info(path_name):\n",
    "    '''Scrape prisoner information programatically.'''\n",
    "    \n",
    "    url = url_base + path_name\n",
    "    \n",
    "    if path_name.endswith('.html'):\n",
    "    \n",
    "\n",
    "        print(f'Scraping {url} ...')\n",
    "    \n",
    "        ## access\n",
    "        status = requests.get(url, headers = headers, verify = False) # verify = True results in an SSL error. not the best practice to proceed without verifying TLS, but...\n",
    "        status.close()\n",
    "        \n",
    "        if status.status_code != 200:\n",
    "            print(f'Invalid status code: {status.status_code}. Conintuing...')\n",
    "            pass\n",
    "            \n",
    "        ## parse\n",
    "        soup = bs4.BeautifulSoup(status.text, features = 'html.parser')\n",
    "        html_table = soup.find_all('tr')\n",
    "        \n",
    "        ## transform\n",
    "        table_dict = {}\n",
    "\n",
    "        for row in html_table:\n",
    "                row_content = [x for x in row.text.replace('\\xa0','').split('\\n') if x]\n",
    "                # handle missing data\n",
    "                if len(row_content) < 2:\n",
    "                    row_content.append(None)\n",
    "                if row_content[0] is not None:\n",
    "                    table_dict[row_content[0]] = row_content[1]\n",
    "        \n",
    "        return(table_dict)\n",
    "    \n",
    "    else:\n",
    "        print(f'Invalid filetype {url} . Continuing...')\n",
    "        \n",
    "        \n",
    "        \n",
    "    \n",
    "    "
   ]
  },
  {
   "cell_type": "code",
   "execution_count": 330,
   "id": "32b4a258",
   "metadata": {},
   "outputs": [
    {
     "name": "stdout",
     "output_type": "stream",
     "text": [
      "Scraping https://www.tdcj.texas.gov/death_row/dr_info/gonzalesramiro.html ...\n"
     ]
    },
    {
     "name": "stderr",
     "output_type": "stream",
     "text": [
      "C:\\Users\\Alfajiri\\anaconda3\\Lib\\site-packages\\urllib3\\connectionpool.py:1056: InsecureRequestWarning: Unverified HTTPS request is being made to host 'www.tdcj.texas.gov'. Adding certificate verification is strongly advised. See: https://urllib3.readthedocs.io/en/1.26.x/advanced-usage.html#ssl-warnings\n",
      "  warnings.warn(\n"
     ]
    },
    {
     "name": "stdout",
     "output_type": "stream",
     "text": [
      "Scraping https://www.tdcj.texas.gov/death_row/dr_info/cantuivan.html ...\n"
     ]
    },
    {
     "name": "stderr",
     "output_type": "stream",
     "text": [
      "C:\\Users\\Alfajiri\\anaconda3\\Lib\\site-packages\\urllib3\\connectionpool.py:1056: InsecureRequestWarning: Unverified HTTPS request is being made to host 'www.tdcj.texas.gov'. Adding certificate verification is strongly advised. See: https://urllib3.readthedocs.io/en/1.26.x/advanced-usage.html#ssl-warnings\n",
      "  warnings.warn(\n"
     ]
    },
    {
     "name": "stdout",
     "output_type": "stream",
     "text": [
      "Scraping https://www.tdcj.texas.gov/death_row/dr_info/renteriadavid.html ...\n"
     ]
    },
    {
     "name": "stderr",
     "output_type": "stream",
     "text": [
      "C:\\Users\\Alfajiri\\anaconda3\\Lib\\site-packages\\urllib3\\connectionpool.py:1056: InsecureRequestWarning: Unverified HTTPS request is being made to host 'www.tdcj.texas.gov'. Adding certificate verification is strongly advised. See: https://urllib3.readthedocs.io/en/1.26.x/advanced-usage.html#ssl-warnings\n",
      "  warnings.warn(\n"
     ]
    },
    {
     "name": "stdout",
     "output_type": "stream",
     "text": [
      "Invalid filetype https://www.tdcj.texas.gov/death_row/dr_info/brewer.jpg . Continuing...\n",
      "Scraping https://www.tdcj.texas.gov/death_row/dr_info/murphyjedidiah.html ...\n"
     ]
    },
    {
     "name": "stderr",
     "output_type": "stream",
     "text": [
      "C:\\Users\\Alfajiri\\anaconda3\\Lib\\site-packages\\urllib3\\connectionpool.py:1056: InsecureRequestWarning: Unverified HTTPS request is being made to host 'www.tdcj.texas.gov'. Adding certificate verification is strongly advised. See: https://urllib3.readthedocs.io/en/1.26.x/advanced-usage.html#ssl-warnings\n",
      "  warnings.warn(\n"
     ]
    },
    {
     "name": "stdout",
     "output_type": "stream",
     "text": [
      "Invalid filetype https://www.tdcj.texas.gov/death_row/dr_info/brownarthur.jpg . Continuing...\n",
      "Scraping https://www.tdcj.texas.gov/death_row/dr_info/greengary.html ...\n"
     ]
    },
    {
     "name": "stderr",
     "output_type": "stream",
     "text": [
      "C:\\Users\\Alfajiri\\anaconda3\\Lib\\site-packages\\urllib3\\connectionpool.py:1056: InsecureRequestWarning: Unverified HTTPS request is being made to host 'www.tdcj.texas.gov'. Adding certificate verification is strongly advised. See: https://urllib3.readthedocs.io/en/1.26.x/advanced-usage.html#ssl-warnings\n",
      "  warnings.warn(\n"
     ]
    },
    {
     "name": "stdout",
     "output_type": "stream",
     "text": [
      "Scraping https://www.tdcj.texas.gov/death_row/dr_info/balentinejohn.html ...\n"
     ]
    },
    {
     "name": "stderr",
     "output_type": "stream",
     "text": [
      "C:\\Users\\Alfajiri\\anaconda3\\Lib\\site-packages\\urllib3\\connectionpool.py:1056: InsecureRequestWarning: Unverified HTTPS request is being made to host 'www.tdcj.texas.gov'. Adding certificate verification is strongly advised. See: https://urllib3.readthedocs.io/en/1.26.x/advanced-usage.html#ssl-warnings\n",
      "  warnings.warn(\n"
     ]
    },
    {
     "name": "stdout",
     "output_type": "stream",
     "text": [
      "Scraping https://www.tdcj.texas.gov/death_row/dr_info/ruizwesley.html ...\n"
     ]
    },
    {
     "name": "stderr",
     "output_type": "stream",
     "text": [
      "C:\\Users\\Alfajiri\\anaconda3\\Lib\\site-packages\\urllib3\\connectionpool.py:1056: InsecureRequestWarning: Unverified HTTPS request is being made to host 'www.tdcj.texas.gov'. Adding certificate verification is strongly advised. See: https://urllib3.readthedocs.io/en/1.26.x/advanced-usage.html#ssl-warnings\n",
      "  warnings.warn(\n"
     ]
    },
    {
     "name": "stdout",
     "output_type": "stream",
     "text": [
      "Invalid filetype https://www.tdcj.texas.gov/death_row/dr_info/frattarobert.jpg . Continuing...\n",
      "Scraping https://www.tdcj.texas.gov/death_row/dr_info/barbeestephen.html ...\n"
     ]
    },
    {
     "name": "stderr",
     "output_type": "stream",
     "text": [
      "C:\\Users\\Alfajiri\\anaconda3\\Lib\\site-packages\\urllib3\\connectionpool.py:1056: InsecureRequestWarning: Unverified HTTPS request is being made to host 'www.tdcj.texas.gov'. Adding certificate verification is strongly advised. See: https://urllib3.readthedocs.io/en/1.26.x/advanced-usage.html#ssl-warnings\n",
      "  warnings.warn(\n"
     ]
    },
    {
     "name": "stdout",
     "output_type": "stream",
     "text": [
      "Scraping https://www.tdcj.texas.gov/death_row/dr_info/beattytracy.html ...\n"
     ]
    },
    {
     "name": "stderr",
     "output_type": "stream",
     "text": [
      "C:\\Users\\Alfajiri\\anaconda3\\Lib\\site-packages\\urllib3\\connectionpool.py:1056: InsecureRequestWarning: Unverified HTTPS request is being made to host 'www.tdcj.texas.gov'. Adding certificate verification is strongly advised. See: https://urllib3.readthedocs.io/en/1.26.x/advanced-usage.html#ssl-warnings\n",
      "  warnings.warn(\n"
     ]
    },
    {
     "name": "stdout",
     "output_type": "stream",
     "text": [
      "Scraping https://www.tdcj.texas.gov/death_row/dr_info/ramirezjohn.html ...\n"
     ]
    },
    {
     "name": "stderr",
     "output_type": "stream",
     "text": [
      "C:\\Users\\Alfajiri\\anaconda3\\Lib\\site-packages\\urllib3\\connectionpool.py:1056: InsecureRequestWarning: Unverified HTTPS request is being made to host 'www.tdcj.texas.gov'. Adding certificate verification is strongly advised. See: https://urllib3.readthedocs.io/en/1.26.x/advanced-usage.html#ssl-warnings\n",
      "  warnings.warn(\n"
     ]
    },
    {
     "name": "stdout",
     "output_type": "stream",
     "text": [
      "Scraping https://www.tdcj.texas.gov/death_row/dr_info/chanthakoummanekosoul.html ...\n"
     ]
    },
    {
     "name": "stderr",
     "output_type": "stream",
     "text": [
      "C:\\Users\\Alfajiri\\anaconda3\\Lib\\site-packages\\urllib3\\connectionpool.py:1056: InsecureRequestWarning: Unverified HTTPS request is being made to host 'www.tdcj.texas.gov'. Adding certificate verification is strongly advised. See: https://urllib3.readthedocs.io/en/1.26.x/advanced-usage.html#ssl-warnings\n",
      "  warnings.warn(\n"
     ]
    },
    {
     "name": "stdout",
     "output_type": "stream",
     "text": [
      "Invalid filetype https://www.tdcj.texas.gov/death_row/dr_info/buntionc.jpg . Continuing...\n",
      "Scraping https://www.tdcj.texas.gov/death_row/dr_info/rhoadesrick.html ...\n"
     ]
    },
    {
     "name": "stderr",
     "output_type": "stream",
     "text": [
      "C:\\Users\\Alfajiri\\anaconda3\\Lib\\site-packages\\urllib3\\connectionpool.py:1056: InsecureRequestWarning: Unverified HTTPS request is being made to host 'www.tdcj.texas.gov'. Adding certificate verification is strongly advised. See: https://urllib3.readthedocs.io/en/1.26.x/advanced-usage.html#ssl-warnings\n",
      "  warnings.warn(\n"
     ]
    },
    {
     "name": "stdout",
     "output_type": "stream",
     "text": [
      "Scraping https://www.tdcj.texas.gov/death_row/dr_info/hummeljohn.html ...\n"
     ]
    },
    {
     "name": "stderr",
     "output_type": "stream",
     "text": [
      "C:\\Users\\Alfajiri\\anaconda3\\Lib\\site-packages\\urllib3\\connectionpool.py:1056: InsecureRequestWarning: Unverified HTTPS request is being made to host 'www.tdcj.texas.gov'. Adding certificate verification is strongly advised. See: https://urllib3.readthedocs.io/en/1.26.x/advanced-usage.html#ssl-warnings\n",
      "  warnings.warn(\n"
     ]
    },
    {
     "name": "stdout",
     "output_type": "stream",
     "text": [
      "Scraping https://www.tdcj.texas.gov/death_row/dr_info/jonesquintin.html ...\n"
     ]
    },
    {
     "name": "stderr",
     "output_type": "stream",
     "text": [
      "C:\\Users\\Alfajiri\\anaconda3\\Lib\\site-packages\\urllib3\\connectionpool.py:1056: InsecureRequestWarning: Unverified HTTPS request is being made to host 'www.tdcj.texas.gov'. Adding certificate verification is strongly advised. See: https://urllib3.readthedocs.io/en/1.26.x/advanced-usage.html#ssl-warnings\n",
      "  warnings.warn(\n"
     ]
    },
    {
     "name": "stdout",
     "output_type": "stream",
     "text": [
      "Scraping https://www.tdcj.texas.gov/death_row/dr_info/wardlowbilly.html ...\n"
     ]
    },
    {
     "name": "stderr",
     "output_type": "stream",
     "text": [
      "C:\\Users\\Alfajiri\\anaconda3\\Lib\\site-packages\\urllib3\\connectionpool.py:1056: InsecureRequestWarning: Unverified HTTPS request is being made to host 'www.tdcj.texas.gov'. Adding certificate verification is strongly advised. See: https://urllib3.readthedocs.io/en/1.26.x/advanced-usage.html#ssl-warnings\n",
      "  warnings.warn(\n"
     ]
    },
    {
     "name": "stdout",
     "output_type": "stream",
     "text": [
      "Scraping https://www.tdcj.texas.gov/death_row/dr_info/ochoaabel.html ...\n"
     ]
    },
    {
     "name": "stderr",
     "output_type": "stream",
     "text": [
      "C:\\Users\\Alfajiri\\anaconda3\\Lib\\site-packages\\urllib3\\connectionpool.py:1056: InsecureRequestWarning: Unverified HTTPS request is being made to host 'www.tdcj.texas.gov'. Adding certificate verification is strongly advised. See: https://urllib3.readthedocs.io/en/1.26.x/advanced-usage.html#ssl-warnings\n",
      "  warnings.warn(\n"
     ]
    },
    {
     "name": "stdout",
     "output_type": "stream",
     "text": [
      "Scraping https://www.tdcj.texas.gov/death_row/dr_info/gardnerjohn.html ...\n"
     ]
    },
    {
     "name": "stderr",
     "output_type": "stream",
     "text": [
      "C:\\Users\\Alfajiri\\anaconda3\\Lib\\site-packages\\urllib3\\connectionpool.py:1056: InsecureRequestWarning: Unverified HTTPS request is being made to host 'www.tdcj.texas.gov'. Adding certificate verification is strongly advised. See: https://urllib3.readthedocs.io/en/1.26.x/advanced-usage.html#ssl-warnings\n",
      "  warnings.warn(\n"
     ]
    },
    {
     "name": "stdout",
     "output_type": "stream",
     "text": [
      "Scraping https://www.tdcj.texas.gov/death_row/dr_info/runnelstravis.html ...\n"
     ]
    },
    {
     "name": "stderr",
     "output_type": "stream",
     "text": [
      "C:\\Users\\Alfajiri\\anaconda3\\Lib\\site-packages\\urllib3\\connectionpool.py:1056: InsecureRequestWarning: Unverified HTTPS request is being made to host 'www.tdcj.texas.gov'. Adding certificate verification is strongly advised. See: https://urllib3.readthedocs.io/en/1.26.x/advanced-usage.html#ssl-warnings\n",
      "  warnings.warn(\n"
     ]
    },
    {
     "name": "stdout",
     "output_type": "stream",
     "text": [
      "Scraping https://www.tdcj.texas.gov/death_row/dr_info/halljusten.html ...\n"
     ]
    },
    {
     "name": "stderr",
     "output_type": "stream",
     "text": [
      "C:\\Users\\Alfajiri\\anaconda3\\Lib\\site-packages\\urllib3\\connectionpool.py:1056: InsecureRequestWarning: Unverified HTTPS request is being made to host 'www.tdcj.texas.gov'. Adding certificate verification is strongly advised. See: https://urllib3.readthedocs.io/en/1.26.x/advanced-usage.html#ssl-warnings\n",
      "  warnings.warn(\n"
     ]
    },
    {
     "name": "stdout",
     "output_type": "stream",
     "text": [
      "Scraping https://www.tdcj.texas.gov/death_row/dr_info/sparksrobert.html ...\n"
     ]
    },
    {
     "name": "stderr",
     "output_type": "stream",
     "text": [
      "C:\\Users\\Alfajiri\\anaconda3\\Lib\\site-packages\\urllib3\\connectionpool.py:1056: InsecureRequestWarning: Unverified HTTPS request is being made to host 'www.tdcj.texas.gov'. Adding certificate verification is strongly advised. See: https://urllib3.readthedocs.io/en/1.26.x/advanced-usage.html#ssl-warnings\n",
      "  warnings.warn(\n"
     ]
    },
    {
     "name": "stdout",
     "output_type": "stream",
     "text": [
      "Scraping https://www.tdcj.texas.gov/death_row/dr_info/solizmarkanthony.html ...\n"
     ]
    },
    {
     "name": "stderr",
     "output_type": "stream",
     "text": [
      "C:\\Users\\Alfajiri\\anaconda3\\Lib\\site-packages\\urllib3\\connectionpool.py:1056: InsecureRequestWarning: Unverified HTTPS request is being made to host 'www.tdcj.texas.gov'. Adding certificate verification is strongly advised. See: https://urllib3.readthedocs.io/en/1.26.x/advanced-usage.html#ssl-warnings\n",
      "  warnings.warn(\n"
     ]
    },
    {
     "name": "stdout",
     "output_type": "stream",
     "text": [
      "Scraping https://www.tdcj.texas.gov/death_row/dr_info/crutsingerbilly.html ...\n"
     ]
    },
    {
     "name": "stderr",
     "output_type": "stream",
     "text": [
      "C:\\Users\\Alfajiri\\anaconda3\\Lib\\site-packages\\urllib3\\connectionpool.py:1056: InsecureRequestWarning: Unverified HTTPS request is being made to host 'www.tdcj.texas.gov'. Adding certificate verification is strongly advised. See: https://urllib3.readthedocs.io/en/1.26.x/advanced-usage.html#ssl-warnings\n",
      "  warnings.warn(\n"
     ]
    },
    {
     "name": "stdout",
     "output_type": "stream",
     "text": [
      "Scraping https://www.tdcj.texas.gov/death_row/dr_info/swearingenlarry.html ...\n"
     ]
    },
    {
     "name": "stderr",
     "output_type": "stream",
     "text": [
      "C:\\Users\\Alfajiri\\anaconda3\\Lib\\site-packages\\urllib3\\connectionpool.py:1056: InsecureRequestWarning: Unverified HTTPS request is being made to host 'www.tdcj.texas.gov'. Adding certificate verification is strongly advised. See: https://urllib3.readthedocs.io/en/1.26.x/advanced-usage.html#ssl-warnings\n",
      "  warnings.warn(\n"
     ]
    },
    {
     "name": "stdout",
     "output_type": "stream",
     "text": [
      "Scraping https://www.tdcj.texas.gov/death_row/dr_info/kingjohn.html ...\n"
     ]
    },
    {
     "name": "stderr",
     "output_type": "stream",
     "text": [
      "C:\\Users\\Alfajiri\\anaconda3\\Lib\\site-packages\\urllib3\\connectionpool.py:1056: InsecureRequestWarning: Unverified HTTPS request is being made to host 'www.tdcj.texas.gov'. Adding certificate verification is strongly advised. See: https://urllib3.readthedocs.io/en/1.26.x/advanced-usage.html#ssl-warnings\n",
      "  warnings.warn(\n"
     ]
    },
    {
     "name": "stdout",
     "output_type": "stream",
     "text": [
      "Invalid filetype https://www.tdcj.texas.gov/death_row/dr_info/_coble.jpg . Continuing...\n",
      "Invalid filetype https://www.tdcj.texas.gov/death_row/dr_info/jenningsrobert.jpg . Continuing...\n",
      "Scraping https://www.tdcj.texas.gov/death_row/dr_info/brazielalvin.html ...\n"
     ]
    },
    {
     "name": "stderr",
     "output_type": "stream",
     "text": [
      "C:\\Users\\Alfajiri\\anaconda3\\Lib\\site-packages\\urllib3\\connectionpool.py:1056: InsecureRequestWarning: Unverified HTTPS request is being made to host 'www.tdcj.texas.gov'. Adding certificate verification is strongly advised. See: https://urllib3.readthedocs.io/en/1.26.x/advanced-usage.html#ssl-warnings\n",
      "  warnings.warn(\n"
     ]
    },
    {
     "name": "stdout",
     "output_type": "stream",
     "text": [
      "Scraping https://www.tdcj.texas.gov/death_row/dr_info/garciajoseph.html ...\n"
     ]
    },
    {
     "name": "stderr",
     "output_type": "stream",
     "text": [
      "C:\\Users\\Alfajiri\\anaconda3\\Lib\\site-packages\\urllib3\\connectionpool.py:1056: InsecureRequestWarning: Unverified HTTPS request is being made to host 'www.tdcj.texas.gov'. Adding certificate verification is strongly advised. See: https://urllib3.readthedocs.io/en/1.26.x/advanced-usage.html#ssl-warnings\n",
      "  warnings.warn(\n"
     ]
    },
    {
     "name": "stdout",
     "output_type": "stream",
     "text": [
      "Invalid filetype https://www.tdcj.texas.gov/death_row/dr_info/_ramos.jpg . Continuing...\n",
      "Scraping https://www.tdcj.texas.gov/death_row/dr_info/ackerdaniel.html ...\n"
     ]
    },
    {
     "name": "stderr",
     "output_type": "stream",
     "text": [
      "C:\\Users\\Alfajiri\\anaconda3\\Lib\\site-packages\\urllib3\\connectionpool.py:1056: InsecureRequestWarning: Unverified HTTPS request is being made to host 'www.tdcj.texas.gov'. Adding certificate verification is strongly advised. See: https://urllib3.readthedocs.io/en/1.26.x/advanced-usage.html#ssl-warnings\n",
      "  warnings.warn(\n"
     ]
    },
    {
     "name": "stdout",
     "output_type": "stream",
     "text": [
      "Scraping https://www.tdcj.texas.gov/death_row/dr_info/clarktroy.html ...\n"
     ]
    },
    {
     "name": "stderr",
     "output_type": "stream",
     "text": [
      "C:\\Users\\Alfajiri\\anaconda3\\Lib\\site-packages\\urllib3\\connectionpool.py:1056: InsecureRequestWarning: Unverified HTTPS request is being made to host 'www.tdcj.texas.gov'. Adding certificate verification is strongly advised. See: https://urllib3.readthedocs.io/en/1.26.x/advanced-usage.html#ssl-warnings\n",
      "  warnings.warn(\n"
     ]
    },
    {
     "name": "stdout",
     "output_type": "stream",
     "text": [
      "Scraping https://www.tdcj.texas.gov/death_row/dr_info/youngchristopher.html ...\n"
     ]
    },
    {
     "name": "stderr",
     "output_type": "stream",
     "text": [
      "C:\\Users\\Alfajiri\\anaconda3\\Lib\\site-packages\\urllib3\\connectionpool.py:1056: InsecureRequestWarning: Unverified HTTPS request is being made to host 'www.tdcj.texas.gov'. Adding certificate verification is strongly advised. See: https://urllib3.readthedocs.io/en/1.26.x/advanced-usage.html#ssl-warnings\n",
      "  warnings.warn(\n"
     ]
    },
    {
     "name": "stdout",
     "output_type": "stream",
     "text": [
      "Scraping https://www.tdcj.texas.gov/death_row/dr_info/bibledanny.html ...\n"
     ]
    },
    {
     "name": "stderr",
     "output_type": "stream",
     "text": [
      "C:\\Users\\Alfajiri\\anaconda3\\Lib\\site-packages\\urllib3\\connectionpool.py:1056: InsecureRequestWarning: Unverified HTTPS request is being made to host 'www.tdcj.texas.gov'. Adding certificate verification is strongly advised. See: https://urllib3.readthedocs.io/en/1.26.x/advanced-usage.html#ssl-warnings\n",
      "  warnings.warn(\n"
     ]
    },
    {
     "name": "stdout",
     "output_type": "stream",
     "text": [
      "Scraping https://www.tdcj.texas.gov/death_row/dr_info/castillojuan.html ...\n"
     ]
    },
    {
     "name": "stderr",
     "output_type": "stream",
     "text": [
      "C:\\Users\\Alfajiri\\anaconda3\\Lib\\site-packages\\urllib3\\connectionpool.py:1056: InsecureRequestWarning: Unverified HTTPS request is being made to host 'www.tdcj.texas.gov'. Adding certificate verification is strongly advised. See: https://urllib3.readthedocs.io/en/1.26.x/advanced-usage.html#ssl-warnings\n",
      "  warnings.warn(\n"
     ]
    },
    {
     "name": "stdout",
     "output_type": "stream",
     "text": [
      "Scraping https://www.tdcj.texas.gov/death_row/dr_info/davilaerick.html ...\n"
     ]
    },
    {
     "name": "stderr",
     "output_type": "stream",
     "text": [
      "C:\\Users\\Alfajiri\\anaconda3\\Lib\\site-packages\\urllib3\\connectionpool.py:1056: InsecureRequestWarning: Unverified HTTPS request is being made to host 'www.tdcj.texas.gov'. Adding certificate verification is strongly advised. See: https://urllib3.readthedocs.io/en/1.26.x/advanced-usage.html#ssl-warnings\n",
      "  warnings.warn(\n"
     ]
    },
    {
     "name": "stdout",
     "output_type": "stream",
     "text": [
      "Scraping https://www.tdcj.texas.gov/death_row/dr_info/rodriguezrosendo.html ...\n"
     ]
    },
    {
     "name": "stderr",
     "output_type": "stream",
     "text": [
      "C:\\Users\\Alfajiri\\anaconda3\\Lib\\site-packages\\urllib3\\connectionpool.py:1056: InsecureRequestWarning: Unverified HTTPS request is being made to host 'www.tdcj.texas.gov'. Adding certificate verification is strongly advised. See: https://urllib3.readthedocs.io/en/1.26.x/advanced-usage.html#ssl-warnings\n",
      "  warnings.warn(\n"
     ]
    },
    {
     "name": "stdout",
     "output_type": "stream",
     "text": [
      "Scraping https://www.tdcj.texas.gov/death_row/dr_info/battagliajohn.html ...\n"
     ]
    },
    {
     "name": "stderr",
     "output_type": "stream",
     "text": [
      "C:\\Users\\Alfajiri\\anaconda3\\Lib\\site-packages\\urllib3\\connectionpool.py:1056: InsecureRequestWarning: Unverified HTTPS request is being made to host 'www.tdcj.texas.gov'. Adding certificate verification is strongly advised. See: https://urllib3.readthedocs.io/en/1.26.x/advanced-usage.html#ssl-warnings\n",
      "  warnings.warn(\n"
     ]
    },
    {
     "name": "stdout",
     "output_type": "stream",
     "text": [
      "Scraping https://www.tdcj.texas.gov/death_row/dr_info/rayfordwilliam.html ...\n"
     ]
    },
    {
     "name": "stderr",
     "output_type": "stream",
     "text": [
      "C:\\Users\\Alfajiri\\anaconda3\\Lib\\site-packages\\urllib3\\connectionpool.py:1056: InsecureRequestWarning: Unverified HTTPS request is being made to host 'www.tdcj.texas.gov'. Adding certificate verification is strongly advised. See: https://urllib3.readthedocs.io/en/1.26.x/advanced-usage.html#ssl-warnings\n",
      "  warnings.warn(\n"
     ]
    },
    {
     "name": "stdout",
     "output_type": "stream",
     "text": [
      "Scraping https://www.tdcj.texas.gov/death_row/dr_info/shoreanthony.html ...\n"
     ]
    },
    {
     "name": "stderr",
     "output_type": "stream",
     "text": [
      "C:\\Users\\Alfajiri\\anaconda3\\Lib\\site-packages\\urllib3\\connectionpool.py:1056: InsecureRequestWarning: Unverified HTTPS request is being made to host 'www.tdcj.texas.gov'. Adding certificate verification is strongly advised. See: https://urllib3.readthedocs.io/en/1.26.x/advanced-usage.html#ssl-warnings\n",
      "  warnings.warn(\n"
     ]
    },
    {
     "name": "stdout",
     "output_type": "stream",
     "text": [
      "Scraping https://www.tdcj.texas.gov/death_row/dr_info/cardenasruben.html ...\n"
     ]
    },
    {
     "name": "stderr",
     "output_type": "stream",
     "text": [
      "C:\\Users\\Alfajiri\\anaconda3\\Lib\\site-packages\\urllib3\\connectionpool.py:1056: InsecureRequestWarning: Unverified HTTPS request is being made to host 'www.tdcj.texas.gov'. Adding certificate verification is strongly advised. See: https://urllib3.readthedocs.io/en/1.26.x/advanced-usage.html#ssl-warnings\n",
      "  warnings.warn(\n"
     ]
    },
    {
     "name": "stdout",
     "output_type": "stream",
     "text": [
      "Scraping https://www.tdcj.texas.gov/death_row//death_row/dr_info/pruettrobert.html ...\n"
     ]
    },
    {
     "name": "stderr",
     "output_type": "stream",
     "text": [
      "C:\\Users\\Alfajiri\\anaconda3\\Lib\\site-packages\\urllib3\\connectionpool.py:1056: InsecureRequestWarning: Unverified HTTPS request is being made to host 'www.tdcj.texas.gov'. Adding certificate verification is strongly advised. See: https://urllib3.readthedocs.io/en/1.26.x/advanced-usage.html#ssl-warnings\n",
      "  warnings.warn(\n"
     ]
    },
    {
     "name": "stdout",
     "output_type": "stream",
     "text": [
      "Invalid status code: 404. Conintuing...\n",
      "Scraping https://www.tdcj.texas.gov/death_row/dr_info/preyortaichin.html ...\n"
     ]
    },
    {
     "name": "stderr",
     "output_type": "stream",
     "text": [
      "C:\\Users\\Alfajiri\\anaconda3\\Lib\\site-packages\\urllib3\\connectionpool.py:1056: InsecureRequestWarning: Unverified HTTPS request is being made to host 'www.tdcj.texas.gov'. Adding certificate verification is strongly advised. See: https://urllib3.readthedocs.io/en/1.26.x/advanced-usage.html#ssl-warnings\n",
      "  warnings.warn(\n"
     ]
    },
    {
     "name": "stdout",
     "output_type": "stream",
     "text": [
      "Invalid filetype https://www.tdcj.texas.gov/death_row/dr_info/bigbyjames.jpg . Continuing...\n",
      "Invalid filetype https://www.tdcj.texas.gov/death_row/dr_info/ruizroland.jpg . Continuing...\n",
      "Scraping https://www.tdcj.texas.gov/death_row/dr_info/edwardsterry.html ...\n"
     ]
    },
    {
     "name": "stderr",
     "output_type": "stream",
     "text": [
      "C:\\Users\\Alfajiri\\anaconda3\\Lib\\site-packages\\urllib3\\connectionpool.py:1056: InsecureRequestWarning: Unverified HTTPS request is being made to host 'www.tdcj.texas.gov'. Adding certificate verification is strongly advised. See: https://urllib3.readthedocs.io/en/1.26.x/advanced-usage.html#ssl-warnings\n",
      "  warnings.warn(\n"
     ]
    },
    {
     "name": "stdout",
     "output_type": "stream",
     "text": [
      "Scraping https://www.tdcj.texas.gov/death_row/dr_info/wilkinschristopher.html ...\n"
     ]
    },
    {
     "name": "stderr",
     "output_type": "stream",
     "text": [
      "C:\\Users\\Alfajiri\\anaconda3\\Lib\\site-packages\\urllib3\\connectionpool.py:1056: InsecureRequestWarning: Unverified HTTPS request is being made to host 'www.tdcj.texas.gov'. Adding certificate verification is strongly advised. See: https://urllib3.readthedocs.io/en/1.26.x/advanced-usage.html#ssl-warnings\n",
      "  warnings.warn(\n"
     ]
    },
    {
     "name": "stdout",
     "output_type": "stream",
     "text": [
      "Scraping https://www.tdcj.texas.gov/death_row/dr_info/fullerbarney.html ...\n"
     ]
    },
    {
     "name": "stderr",
     "output_type": "stream",
     "text": [
      "C:\\Users\\Alfajiri\\anaconda3\\Lib\\site-packages\\urllib3\\connectionpool.py:1056: InsecureRequestWarning: Unverified HTTPS request is being made to host 'www.tdcj.texas.gov'. Adding certificate verification is strongly advised. See: https://urllib3.readthedocs.io/en/1.26.x/advanced-usage.html#ssl-warnings\n",
      "  warnings.warn(\n"
     ]
    },
    {
     "name": "stdout",
     "output_type": "stream",
     "text": [
      "Scraping https://www.tdcj.texas.gov/death_row/dr_info/vasquezpablo.html ...\n"
     ]
    },
    {
     "name": "stderr",
     "output_type": "stream",
     "text": [
      "C:\\Users\\Alfajiri\\anaconda3\\Lib\\site-packages\\urllib3\\connectionpool.py:1056: InsecureRequestWarning: Unverified HTTPS request is being made to host 'www.tdcj.texas.gov'. Adding certificate verification is strongly advised. See: https://urllib3.readthedocs.io/en/1.26.x/advanced-usage.html#ssl-warnings\n",
      "  warnings.warn(\n"
     ]
    },
    {
     "name": "stdout",
     "output_type": "stream",
     "text": [
      "Scraping https://www.tdcj.texas.gov/death_row/dr_info/wardadam.html ...\n"
     ]
    },
    {
     "name": "stderr",
     "output_type": "stream",
     "text": [
      "C:\\Users\\Alfajiri\\anaconda3\\Lib\\site-packages\\urllib3\\connectionpool.py:1056: InsecureRequestWarning: Unverified HTTPS request is being made to host 'www.tdcj.texas.gov'. Adding certificate verification is strongly advised. See: https://urllib3.readthedocs.io/en/1.26.x/advanced-usage.html#ssl-warnings\n",
      "  warnings.warn(\n"
     ]
    },
    {
     "name": "stdout",
     "output_type": "stream",
     "text": [
      "Scraping https://www.tdcj.texas.gov/death_row/dr_info/wesbrookcoy.html ...\n"
     ]
    },
    {
     "name": "stderr",
     "output_type": "stream",
     "text": [
      "C:\\Users\\Alfajiri\\anaconda3\\Lib\\site-packages\\urllib3\\connectionpool.py:1056: InsecureRequestWarning: Unverified HTTPS request is being made to host 'www.tdcj.texas.gov'. Adding certificate verification is strongly advised. See: https://urllib3.readthedocs.io/en/1.26.x/advanced-usage.html#ssl-warnings\n",
      "  warnings.warn(\n"
     ]
    },
    {
     "name": "stdout",
     "output_type": "stream",
     "text": [
      "Invalid filetype https://www.tdcj.texas.gov/death_row/dr_info/garciagustavo.jpg . Continuing...\n",
      "Scraping https://www.tdcj.texas.gov/death_row/dr_info/freemanjames.html ...\n"
     ]
    },
    {
     "name": "stderr",
     "output_type": "stream",
     "text": [
      "C:\\Users\\Alfajiri\\anaconda3\\Lib\\site-packages\\urllib3\\connectionpool.py:1056: InsecureRequestWarning: Unverified HTTPS request is being made to host 'www.tdcj.texas.gov'. Adding certificate verification is strongly advised. See: https://urllib3.readthedocs.io/en/1.26.x/advanced-usage.html#ssl-warnings\n",
      "  warnings.warn(\n"
     ]
    },
    {
     "name": "stdout",
     "output_type": "stream",
     "text": [
      "Scraping https://www.tdcj.texas.gov/death_row/dr_info/mastersonrichard.html ...\n"
     ]
    },
    {
     "name": "stderr",
     "output_type": "stream",
     "text": [
      "C:\\Users\\Alfajiri\\anaconda3\\Lib\\site-packages\\urllib3\\connectionpool.py:1056: InsecureRequestWarning: Unverified HTTPS request is being made to host 'www.tdcj.texas.gov'. Adding certificate verification is strongly advised. See: https://urllib3.readthedocs.io/en/1.26.x/advanced-usage.html#ssl-warnings\n",
      "  warnings.warn(\n"
     ]
    },
    {
     "name": "stdout",
     "output_type": "stream",
     "text": [
      "Scraping https://www.tdcj.texas.gov/death_row/dr_info/holidayraphael.html ...\n"
     ]
    },
    {
     "name": "stderr",
     "output_type": "stream",
     "text": [
      "C:\\Users\\Alfajiri\\anaconda3\\Lib\\site-packages\\urllib3\\connectionpool.py:1056: InsecureRequestWarning: Unverified HTTPS request is being made to host 'www.tdcj.texas.gov'. Adding certificate verification is strongly advised. See: https://urllib3.readthedocs.io/en/1.26.x/advanced-usage.html#ssl-warnings\n",
      "  warnings.warn(\n"
     ]
    },
    {
     "name": "stdout",
     "output_type": "stream",
     "text": [
      "Scraping https://www.tdcj.texas.gov/death_row/dr_info/escamillalicho.html ...\n"
     ]
    },
    {
     "name": "stderr",
     "output_type": "stream",
     "text": [
      "C:\\Users\\Alfajiri\\anaconda3\\Lib\\site-packages\\urllib3\\connectionpool.py:1056: InsecureRequestWarning: Unverified HTTPS request is being made to host 'www.tdcj.texas.gov'. Adding certificate verification is strongly advised. See: https://urllib3.readthedocs.io/en/1.26.x/advanced-usage.html#ssl-warnings\n",
      "  warnings.warn(\n"
     ]
    },
    {
     "name": "stdout",
     "output_type": "stream",
     "text": [
      "Scraping https://www.tdcj.texas.gov/death_row/dr_info/garciajuan.html ...\n"
     ]
    },
    {
     "name": "stderr",
     "output_type": "stream",
     "text": [
      "C:\\Users\\Alfajiri\\anaconda3\\Lib\\site-packages\\urllib3\\connectionpool.py:1056: InsecureRequestWarning: Unverified HTTPS request is being made to host 'www.tdcj.texas.gov'. Adding certificate verification is strongly advised. See: https://urllib3.readthedocs.io/en/1.26.x/advanced-usage.html#ssl-warnings\n",
      "  warnings.warn(\n"
     ]
    },
    {
     "name": "stdout",
     "output_type": "stream",
     "text": [
      "Scraping https://www.tdcj.texas.gov/death_row/dr_info/lopezdaniel.html ...\n"
     ]
    },
    {
     "name": "stderr",
     "output_type": "stream",
     "text": [
      "C:\\Users\\Alfajiri\\anaconda3\\Lib\\site-packages\\urllib3\\connectionpool.py:1056: InsecureRequestWarning: Unverified HTTPS request is being made to host 'www.tdcj.texas.gov'. Adding certificate verification is strongly advised. See: https://urllib3.readthedocs.io/en/1.26.x/advanced-usage.html#ssl-warnings\n",
      "  warnings.warn(\n"
     ]
    },
    {
     "name": "stdout",
     "output_type": "stream",
     "text": [
      "Scraping https://www.tdcj.texas.gov/death_row/dr_info/russeaugregory.html ...\n"
     ]
    },
    {
     "name": "stderr",
     "output_type": "stream",
     "text": [
      "C:\\Users\\Alfajiri\\anaconda3\\Lib\\site-packages\\urllib3\\connectionpool.py:1056: InsecureRequestWarning: Unverified HTTPS request is being made to host 'www.tdcj.texas.gov'. Adding certificate verification is strongly advised. See: https://urllib3.readthedocs.io/en/1.26.x/advanced-usage.html#ssl-warnings\n",
      "  warnings.warn(\n"
     ]
    },
    {
     "name": "stdout",
     "output_type": "stream",
     "text": [
      "Invalid filetype https://www.tdcj.texas.gov/death_row/dr_info/bowerlester.jpg . Continuing...\n",
      "Scraping https://www.tdcj.texas.gov/death_row/dr_info/charlesderrick.html ...\n"
     ]
    },
    {
     "name": "stderr",
     "output_type": "stream",
     "text": [
      "C:\\Users\\Alfajiri\\anaconda3\\Lib\\site-packages\\urllib3\\connectionpool.py:1056: InsecureRequestWarning: Unverified HTTPS request is being made to host 'www.tdcj.texas.gov'. Adding certificate verification is strongly advised. See: https://urllib3.readthedocs.io/en/1.26.x/advanced-usage.html#ssl-warnings\n",
      "  warnings.warn(\n"
     ]
    },
    {
     "name": "stdout",
     "output_type": "stream",
     "text": [
      "Scraping https://www.tdcj.texas.gov/death_row/dr_info/garzamanuel.html ...\n"
     ]
    },
    {
     "name": "stderr",
     "output_type": "stream",
     "text": [
      "C:\\Users\\Alfajiri\\anaconda3\\Lib\\site-packages\\urllib3\\connectionpool.py:1056: InsecureRequestWarning: Unverified HTTPS request is being made to host 'www.tdcj.texas.gov'. Adding certificate verification is strongly advised. See: https://urllib3.readthedocs.io/en/1.26.x/advanced-usage.html#ssl-warnings\n",
      "  warnings.warn(\n"
     ]
    },
    {
     "name": "stdout",
     "output_type": "stream",
     "text": [
      "Scraping https://www.tdcj.texas.gov/death_row/dr_info/sprousekent.html ...\n"
     ]
    },
    {
     "name": "stderr",
     "output_type": "stream",
     "text": [
      "C:\\Users\\Alfajiri\\anaconda3\\Lib\\site-packages\\urllib3\\connectionpool.py:1056: InsecureRequestWarning: Unverified HTTPS request is being made to host 'www.tdcj.texas.gov'. Adding certificate verification is strongly advised. See: https://urllib3.readthedocs.io/en/1.26.x/advanced-usage.html#ssl-warnings\n",
      "  warnings.warn(\n"
     ]
    },
    {
     "name": "stdout",
     "output_type": "stream",
     "text": [
      "Scraping https://www.tdcj.texas.gov/death_row/dr_info/vasquezmanuel.html ...\n"
     ]
    },
    {
     "name": "stderr",
     "output_type": "stream",
     "text": [
      "C:\\Users\\Alfajiri\\anaconda3\\Lib\\site-packages\\urllib3\\connectionpool.py:1056: InsecureRequestWarning: Unverified HTTPS request is being made to host 'www.tdcj.texas.gov'. Adding certificate verification is strongly advised. See: https://urllib3.readthedocs.io/en/1.26.x/advanced-usage.html#ssl-warnings\n",
      "  warnings.warn(\n"
     ]
    },
    {
     "name": "stdout",
     "output_type": "stream",
     "text": [
      "Scraping https://www.tdcj.texas.gov/death_row/dr_info/newburydonald.html ...\n"
     ]
    },
    {
     "name": "stderr",
     "output_type": "stream",
     "text": [
      "C:\\Users\\Alfajiri\\anaconda3\\Lib\\site-packages\\urllib3\\connectionpool.py:1056: InsecureRequestWarning: Unverified HTTPS request is being made to host 'www.tdcj.texas.gov'. Adding certificate verification is strongly advised. See: https://urllib3.readthedocs.io/en/1.26.x/advanced-usage.html#ssl-warnings\n",
      "  warnings.warn(\n"
     ]
    },
    {
     "name": "stdout",
     "output_type": "stream",
     "text": [
      "Scraping https://www.tdcj.texas.gov/death_row/dr_info/laddrobert.html ...\n"
     ]
    },
    {
     "name": "stderr",
     "output_type": "stream",
     "text": [
      "C:\\Users\\Alfajiri\\anaconda3\\Lib\\site-packages\\urllib3\\connectionpool.py:1056: InsecureRequestWarning: Unverified HTTPS request is being made to host 'www.tdcj.texas.gov'. Adding certificate verification is strongly advised. See: https://urllib3.readthedocs.io/en/1.26.x/advanced-usage.html#ssl-warnings\n",
      "  warnings.warn(\n"
     ]
    },
    {
     "name": "stdout",
     "output_type": "stream",
     "text": [
      "Invalid filetype https://www.tdcj.texas.gov/death_row/dr_info/prietoarnold.jpg . Continuing...\n",
      "Scraping https://www.tdcj.texas.gov/death_row/dr_info/paredesmiguel.html ...\n"
     ]
    },
    {
     "name": "stderr",
     "output_type": "stream",
     "text": [
      "C:\\Users\\Alfajiri\\anaconda3\\Lib\\site-packages\\urllib3\\connectionpool.py:1056: InsecureRequestWarning: Unverified HTTPS request is being made to host 'www.tdcj.texas.gov'. Adding certificate verification is strongly advised. See: https://urllib3.readthedocs.io/en/1.26.x/advanced-usage.html#ssl-warnings\n",
      "  warnings.warn(\n"
     ]
    },
    {
     "name": "stdout",
     "output_type": "stream",
     "text": [
      "Scraping https://www.tdcj.texas.gov/death_row/dr_info/colemanlisa.html ...\n"
     ]
    },
    {
     "name": "stderr",
     "output_type": "stream",
     "text": [
      "C:\\Users\\Alfajiri\\anaconda3\\Lib\\site-packages\\urllib3\\connectionpool.py:1056: InsecureRequestWarning: Unverified HTTPS request is being made to host 'www.tdcj.texas.gov'. Adding certificate verification is strongly advised. See: https://urllib3.readthedocs.io/en/1.26.x/advanced-usage.html#ssl-warnings\n",
      "  warnings.warn(\n"
     ]
    },
    {
     "name": "stdout",
     "output_type": "stream",
     "text": [
      "Invalid filetype https://www.tdcj.texas.gov/death_row/dr_info/trottiewillie.jpg . Continuing...\n",
      "Scraping https://www.tdcj.texas.gov/death_row/dr_info/villegasjose.html ...\n"
     ]
    },
    {
     "name": "stderr",
     "output_type": "stream",
     "text": [
      "C:\\Users\\Alfajiri\\anaconda3\\Lib\\site-packages\\urllib3\\connectionpool.py:1056: InsecureRequestWarning: Unverified HTTPS request is being made to host 'www.tdcj.texas.gov'. Adding certificate verification is strongly advised. See: https://urllib3.readthedocs.io/en/1.26.x/advanced-usage.html#ssl-warnings\n",
      "  warnings.warn(\n"
     ]
    },
    {
     "name": "stdout",
     "output_type": "stream",
     "text": [
      "Scraping https://www.tdcj.texas.gov/death_row/dr_info/hernandezramiro.html ...\n"
     ]
    },
    {
     "name": "stderr",
     "output_type": "stream",
     "text": [
      "C:\\Users\\Alfajiri\\anaconda3\\Lib\\site-packages\\urllib3\\connectionpool.py:1056: InsecureRequestWarning: Unverified HTTPS request is being made to host 'www.tdcj.texas.gov'. Adding certificate verification is strongly advised. See: https://urllib3.readthedocs.io/en/1.26.x/advanced-usage.html#ssl-warnings\n",
      "  warnings.warn(\n"
     ]
    },
    {
     "name": "stdout",
     "output_type": "stream",
     "text": [
      "Scraping https://www.tdcj.texas.gov/death_row/dr_info/sellstommy.html ...\n"
     ]
    },
    {
     "name": "stderr",
     "output_type": "stream",
     "text": [
      "C:\\Users\\Alfajiri\\anaconda3\\Lib\\site-packages\\urllib3\\connectionpool.py:1056: InsecureRequestWarning: Unverified HTTPS request is being made to host 'www.tdcj.texas.gov'. Adding certificate verification is strongly advised. See: https://urllib3.readthedocs.io/en/1.26.x/advanced-usage.html#ssl-warnings\n",
      "  warnings.warn(\n"
     ]
    },
    {
     "name": "stdout",
     "output_type": "stream",
     "text": [
      "Scraping https://www.tdcj.texas.gov/death_row/dr_info/doyleanthony.html ...\n"
     ]
    },
    {
     "name": "stderr",
     "output_type": "stream",
     "text": [
      "C:\\Users\\Alfajiri\\anaconda3\\Lib\\site-packages\\urllib3\\connectionpool.py:1056: InsecureRequestWarning: Unverified HTTPS request is being made to host 'www.tdcj.texas.gov'. Adding certificate verification is strongly advised. See: https://urllib3.readthedocs.io/en/1.26.x/advanced-usage.html#ssl-warnings\n",
      "  warnings.warn(\n"
     ]
    },
    {
     "name": "stdout",
     "output_type": "stream",
     "text": [
      "Scraping https://www.tdcj.texas.gov/death_row/dr_info/jasperray.html ...\n"
     ]
    },
    {
     "name": "stderr",
     "output_type": "stream",
     "text": [
      "C:\\Users\\Alfajiri\\anaconda3\\Lib\\site-packages\\urllib3\\connectionpool.py:1056: InsecureRequestWarning: Unverified HTTPS request is being made to host 'www.tdcj.texas.gov'. Adding certificate verification is strongly advised. See: https://urllib3.readthedocs.io/en/1.26.x/advanced-usage.html#ssl-warnings\n",
      "  warnings.warn(\n"
     ]
    },
    {
     "name": "stdout",
     "output_type": "stream",
     "text": [
      "Scraping https://www.tdcj.texas.gov/death_row/dr_info/bassosuzanne.html ...\n"
     ]
    },
    {
     "name": "stderr",
     "output_type": "stream",
     "text": [
      "C:\\Users\\Alfajiri\\anaconda3\\Lib\\site-packages\\urllib3\\connectionpool.py:1056: InsecureRequestWarning: Unverified HTTPS request is being made to host 'www.tdcj.texas.gov'. Adding certificate verification is strongly advised. See: https://urllib3.readthedocs.io/en/1.26.x/advanced-usage.html#ssl-warnings\n",
      "  warnings.warn(\n"
     ]
    },
    {
     "name": "stdout",
     "output_type": "stream",
     "text": [
      "Invalid filetype https://www.tdcj.texas.gov/death_row/dr_info/tamayoedgar.jpg . Continuing...\n",
      "Scraping https://www.tdcj.texas.gov/death_row/dr_info/martinjerry.html ...\n"
     ]
    },
    {
     "name": "stderr",
     "output_type": "stream",
     "text": [
      "C:\\Users\\Alfajiri\\anaconda3\\Lib\\site-packages\\urllib3\\connectionpool.py:1056: InsecureRequestWarning: Unverified HTTPS request is being made to host 'www.tdcj.texas.gov'. Adding certificate verification is strongly advised. See: https://urllib3.readthedocs.io/en/1.26.x/advanced-usage.html#ssl-warnings\n",
      "  warnings.warn(\n"
     ]
    },
    {
     "name": "stdout",
     "output_type": "stream",
     "text": [
      "Invalid filetype https://www.tdcj.texas.gov/death_row/dr_info/mccoskeyjamie.jpg . Continuing...\n",
      "Scraping https://www.tdcj.texas.gov/death_row/dr_info/yowellmichael.html ...\n"
     ]
    },
    {
     "name": "stderr",
     "output_type": "stream",
     "text": [
      "C:\\Users\\Alfajiri\\anaconda3\\Lib\\site-packages\\urllib3\\connectionpool.py:1056: InsecureRequestWarning: Unverified HTTPS request is being made to host 'www.tdcj.texas.gov'. Adding certificate verification is strongly advised. See: https://urllib3.readthedocs.io/en/1.26.x/advanced-usage.html#ssl-warnings\n",
      "  warnings.warn(\n"
     ]
    },
    {
     "name": "stdout",
     "output_type": "stream",
     "text": [
      "Scraping https://www.tdcj.texas.gov/death_row/dr_info/diazarturo.html ...\n"
     ]
    },
    {
     "name": "stderr",
     "output_type": "stream",
     "text": [
      "C:\\Users\\Alfajiri\\anaconda3\\Lib\\site-packages\\urllib3\\connectionpool.py:1056: InsecureRequestWarning: Unverified HTTPS request is being made to host 'www.tdcj.texas.gov'. Adding certificate verification is strongly advised. See: https://urllib3.readthedocs.io/en/1.26.x/advanced-usage.html#ssl-warnings\n",
      "  warnings.warn(\n"
     ]
    },
    {
     "name": "stdout",
     "output_type": "stream",
     "text": [
      "Scraping https://www.tdcj.texas.gov/death_row/dr_info/garzarobert.html ...\n"
     ]
    },
    {
     "name": "stderr",
     "output_type": "stream",
     "text": [
      "C:\\Users\\Alfajiri\\anaconda3\\Lib\\site-packages\\urllib3\\connectionpool.py:1056: InsecureRequestWarning: Unverified HTTPS request is being made to host 'www.tdcj.texas.gov'. Adding certificate verification is strongly advised. See: https://urllib3.readthedocs.io/en/1.26.x/advanced-usage.html#ssl-warnings\n",
      "  warnings.warn(\n"
     ]
    },
    {
     "name": "stdout",
     "output_type": "stream",
     "text": [
      "Scraping https://www.tdcj.texas.gov/death_row/dr_info/feldmandouglas.html ...\n"
     ]
    },
    {
     "name": "stderr",
     "output_type": "stream",
     "text": [
      "C:\\Users\\Alfajiri\\anaconda3\\Lib\\site-packages\\urllib3\\connectionpool.py:1056: InsecureRequestWarning: Unverified HTTPS request is being made to host 'www.tdcj.texas.gov'. Adding certificate verification is strongly advised. See: https://urllib3.readthedocs.io/en/1.26.x/advanced-usage.html#ssl-warnings\n",
      "  warnings.warn(\n"
     ]
    },
    {
     "name": "stdout",
     "output_type": "stream",
     "text": [
      "Scraping https://www.tdcj.texas.gov/death_row/dr_info/rossvaughn.html ...\n"
     ]
    },
    {
     "name": "stderr",
     "output_type": "stream",
     "text": [
      "C:\\Users\\Alfajiri\\anaconda3\\Lib\\site-packages\\urllib3\\connectionpool.py:1056: InsecureRequestWarning: Unverified HTTPS request is being made to host 'www.tdcj.texas.gov'. Adding certificate verification is strongly advised. See: https://urllib3.readthedocs.io/en/1.26.x/advanced-usage.html#ssl-warnings\n",
      "  warnings.warn(\n"
     ]
    },
    {
     "name": "stdout",
     "output_type": "stream",
     "text": [
      "Scraping https://www.tdcj.texas.gov/death_row/dr_info/quintanillajohn.html ...\n"
     ]
    },
    {
     "name": "stderr",
     "output_type": "stream",
     "text": [
      "C:\\Users\\Alfajiri\\anaconda3\\Lib\\site-packages\\urllib3\\connectionpool.py:1056: InsecureRequestWarning: Unverified HTTPS request is being made to host 'www.tdcj.texas.gov'. Adding certificate verification is strongly advised. See: https://urllib3.readthedocs.io/en/1.26.x/advanced-usage.html#ssl-warnings\n",
      "  warnings.warn(\n"
     ]
    },
    {
     "name": "stdout",
     "output_type": "stream",
     "text": [
      "Scraping https://www.tdcj.texas.gov/death_row/dr_info/mccarthykimberly.html ...\n"
     ]
    },
    {
     "name": "stderr",
     "output_type": "stream",
     "text": [
      "C:\\Users\\Alfajiri\\anaconda3\\Lib\\site-packages\\urllib3\\connectionpool.py:1056: InsecureRequestWarning: Unverified HTTPS request is being made to host 'www.tdcj.texas.gov'. Adding certificate verification is strongly advised. See: https://urllib3.readthedocs.io/en/1.26.x/advanced-usage.html#ssl-warnings\n",
      "  warnings.warn(\n"
     ]
    },
    {
     "name": "stdout",
     "output_type": "stream",
     "text": [
      "Scraping https://www.tdcj.texas.gov/death_row/dr_info/chesterelroy.html ...\n"
     ]
    },
    {
     "name": "stderr",
     "output_type": "stream",
     "text": [
      "C:\\Users\\Alfajiri\\anaconda3\\Lib\\site-packages\\urllib3\\connectionpool.py:1056: InsecureRequestWarning: Unverified HTTPS request is being made to host 'www.tdcj.texas.gov'. Adding certificate verification is strongly advised. See: https://urllib3.readthedocs.io/en/1.26.x/advanced-usage.html#ssl-warnings\n",
      "  warnings.warn(\n"
     ]
    },
    {
     "name": "stdout",
     "output_type": "stream",
     "text": [
      "Scraping https://www.tdcj.texas.gov/death_row/dr_info/williamsjeffery.html ...\n"
     ]
    },
    {
     "name": "stderr",
     "output_type": "stream",
     "text": [
      "C:\\Users\\Alfajiri\\anaconda3\\Lib\\site-packages\\urllib3\\connectionpool.py:1056: InsecureRequestWarning: Unverified HTTPS request is being made to host 'www.tdcj.texas.gov'. Adding certificate verification is strongly advised. See: https://urllib3.readthedocs.io/en/1.26.x/advanced-usage.html#ssl-warnings\n",
      "  warnings.warn(\n"
     ]
    },
    {
     "name": "stdout",
     "output_type": "stream",
     "text": [
      "Scraping https://www.tdcj.texas.gov/death_row/dr_info/parrcarroll.html ...\n"
     ]
    },
    {
     "name": "stderr",
     "output_type": "stream",
     "text": [
      "C:\\Users\\Alfajiri\\anaconda3\\Lib\\site-packages\\urllib3\\connectionpool.py:1056: InsecureRequestWarning: Unverified HTTPS request is being made to host 'www.tdcj.texas.gov'. Adding certificate verification is strongly advised. See: https://urllib3.readthedocs.io/en/1.26.x/advanced-usage.html#ssl-warnings\n",
      "  warnings.warn(\n"
     ]
    },
    {
     "name": "stdout",
     "output_type": "stream",
     "text": [
      "Scraping https://www.tdcj.texas.gov/death_row/dr_info/cobbrichard.html ...\n"
     ]
    },
    {
     "name": "stderr",
     "output_type": "stream",
     "text": [
      "C:\\Users\\Alfajiri\\anaconda3\\Lib\\site-packages\\urllib3\\connectionpool.py:1056: InsecureRequestWarning: Unverified HTTPS request is being made to host 'www.tdcj.texas.gov'. Adding certificate verification is strongly advised. See: https://urllib3.readthedocs.io/en/1.26.x/advanced-usage.html#ssl-warnings\n",
      "  warnings.warn(\n"
     ]
    },
    {
     "name": "stdout",
     "output_type": "stream",
     "text": [
      "Scraping https://www.tdcj.texas.gov/death_row/dr_info/threadgillronnie.html ...\n"
     ]
    },
    {
     "name": "stderr",
     "output_type": "stream",
     "text": [
      "C:\\Users\\Alfajiri\\anaconda3\\Lib\\site-packages\\urllib3\\connectionpool.py:1056: InsecureRequestWarning: Unverified HTTPS request is being made to host 'www.tdcj.texas.gov'. Adding certificate verification is strongly advised. See: https://urllib3.readthedocs.io/en/1.26.x/advanced-usage.html#ssl-warnings\n",
      "  warnings.warn(\n"
     ]
    },
    {
     "name": "stdout",
     "output_type": "stream",
     "text": [
      "Scraping https://www.tdcj.texas.gov/death_row/dr_info/lewisrickey.html ...\n"
     ]
    },
    {
     "name": "stderr",
     "output_type": "stream",
     "text": [
      "C:\\Users\\Alfajiri\\anaconda3\\Lib\\site-packages\\urllib3\\connectionpool.py:1056: InsecureRequestWarning: Unverified HTTPS request is being made to host 'www.tdcj.texas.gov'. Adding certificate verification is strongly advised. See: https://urllib3.readthedocs.io/en/1.26.x/advanced-usage.html#ssl-warnings\n",
      "  warnings.warn(\n"
     ]
    },
    {
     "name": "stdout",
     "output_type": "stream",
     "text": [
      "Invalid filetype https://www.tdcj.texas.gov/death_row/dr_info/bluecarl.jpg . Continuing...\n",
      "Invalid filetype https://www.tdcj.texas.gov/death_row/dr_info/hughesprestoni.jpg . Continuing...\n",
      "Scraping https://www.tdcj.texas.gov/death_row/dr_info/hernandezramon.html ...\n"
     ]
    },
    {
     "name": "stderr",
     "output_type": "stream",
     "text": [
      "C:\\Users\\Alfajiri\\anaconda3\\Lib\\site-packages\\urllib3\\connectionpool.py:1056: InsecureRequestWarning: Unverified HTTPS request is being made to host 'www.tdcj.texas.gov'. Adding certificate verification is strongly advised. See: https://urllib3.readthedocs.io/en/1.26.x/advanced-usage.html#ssl-warnings\n",
      "  warnings.warn(\n"
     ]
    },
    {
     "name": "stdout",
     "output_type": "stream",
     "text": [
      "Scraping https://www.tdcj.texas.gov/death_row/dr_info/swainmario.html ...\n"
     ]
    },
    {
     "name": "stderr",
     "output_type": "stream",
     "text": [
      "C:\\Users\\Alfajiri\\anaconda3\\Lib\\site-packages\\urllib3\\connectionpool.py:1056: InsecureRequestWarning: Unverified HTTPS request is being made to host 'www.tdcj.texas.gov'. Adding certificate verification is strongly advised. See: https://urllib3.readthedocs.io/en/1.26.x/advanced-usage.html#ssl-warnings\n",
      "  warnings.warn(\n"
     ]
    },
    {
     "name": "stdout",
     "output_type": "stream",
     "text": [
      "Scraping https://www.tdcj.texas.gov/death_row/dr_info/robertsdonnie.html ...\n"
     ]
    },
    {
     "name": "stderr",
     "output_type": "stream",
     "text": [
      "C:\\Users\\Alfajiri\\anaconda3\\Lib\\site-packages\\urllib3\\connectionpool.py:1056: InsecureRequestWarning: Unverified HTTPS request is being made to host 'www.tdcj.texas.gov'. Adding certificate verification is strongly advised. See: https://urllib3.readthedocs.io/en/1.26.x/advanced-usage.html#ssl-warnings\n",
      "  warnings.warn(\n"
     ]
    },
    {
     "name": "stdout",
     "output_type": "stream",
     "text": [
      "Invalid filetype https://www.tdcj.texas.gov/death_row/dr_info/hinesbobby.jpg . Continuing...\n",
      "Scraping https://www.tdcj.texas.gov/death_row/dr_info/greenjonathon.html ...\n"
     ]
    },
    {
     "name": "stderr",
     "output_type": "stream",
     "text": [
      "C:\\Users\\Alfajiri\\anaconda3\\Lib\\site-packages\\urllib3\\connectionpool.py:1056: InsecureRequestWarning: Unverified HTTPS request is being made to host 'www.tdcj.texas.gov'. Adding certificate verification is strongly advised. See: https://urllib3.readthedocs.io/en/1.26.x/advanced-usage.html#ssl-warnings\n",
      "  warnings.warn(\n"
     ]
    },
    {
     "name": "stdout",
     "output_type": "stream",
     "text": [
      "Scraping https://www.tdcj.texas.gov/death_row/dr_info/fostercleve.html ...\n"
     ]
    },
    {
     "name": "stderr",
     "output_type": "stream",
     "text": [
      "C:\\Users\\Alfajiri\\anaconda3\\Lib\\site-packages\\urllib3\\connectionpool.py:1056: InsecureRequestWarning: Unverified HTTPS request is being made to host 'www.tdcj.texas.gov'. Adding certificate verification is strongly advised. See: https://urllib3.readthedocs.io/en/1.26.x/advanced-usage.html#ssl-warnings\n",
      "  warnings.warn(\n"
     ]
    },
    {
     "name": "stdout",
     "output_type": "stream",
     "text": [
      "Scraping https://www.tdcj.texas.gov/death_row/dr_info/harrisrobert.html ...\n"
     ]
    },
    {
     "name": "stderr",
     "output_type": "stream",
     "text": [
      "C:\\Users\\Alfajiri\\anaconda3\\Lib\\site-packages\\urllib3\\connectionpool.py:1056: InsecureRequestWarning: Unverified HTTPS request is being made to host 'www.tdcj.texas.gov'. Adding certificate verification is strongly advised. See: https://urllib3.readthedocs.io/en/1.26.x/advanced-usage.html#ssl-warnings\n",
      "  warnings.warn(\n"
     ]
    },
    {
     "name": "stdout",
     "output_type": "stream",
     "text": [
      "Invalid filetype https://www.tdcj.texas.gov/death_row/dr_info/wilsonmarvin.jpg . Continuing...\n",
      "Scraping https://www.tdcj.texas.gov/death_row/dr_info/hearnyokamon.html ...\n"
     ]
    },
    {
     "name": "stderr",
     "output_type": "stream",
     "text": [
      "C:\\Users\\Alfajiri\\anaconda3\\Lib\\site-packages\\urllib3\\connectionpool.py:1056: InsecureRequestWarning: Unverified HTTPS request is being made to host 'www.tdcj.texas.gov'. Adding certificate verification is strongly advised. See: https://urllib3.readthedocs.io/en/1.26.x/advanced-usage.html#ssl-warnings\n",
      "  warnings.warn(\n"
     ]
    },
    {
     "name": "stdout",
     "output_type": "stream",
     "text": [
      "Scraping https://www.tdcj.texas.gov/death_row/dr_info/adamsbeunka.html ...\n"
     ]
    },
    {
     "name": "stderr",
     "output_type": "stream",
     "text": [
      "C:\\Users\\Alfajiri\\anaconda3\\Lib\\site-packages\\urllib3\\connectionpool.py:1056: InsecureRequestWarning: Unverified HTTPS request is being made to host 'www.tdcj.texas.gov'. Adding certificate verification is strongly advised. See: https://urllib3.readthedocs.io/en/1.26.x/advanced-usage.html#ssl-warnings\n",
      "  warnings.warn(\n"
     ]
    },
    {
     "name": "stdout",
     "output_type": "stream",
     "text": [
      "Scraping https://www.tdcj.texas.gov/death_row/dr_info/hernandezjesse.html ...\n"
     ]
    },
    {
     "name": "stderr",
     "output_type": "stream",
     "text": [
      "C:\\Users\\Alfajiri\\anaconda3\\Lib\\site-packages\\urllib3\\connectionpool.py:1056: InsecureRequestWarning: Unverified HTTPS request is being made to host 'www.tdcj.texas.gov'. Adding certificate verification is strongly advised. See: https://urllib3.readthedocs.io/en/1.26.x/advanced-usage.html#ssl-warnings\n",
      "  warnings.warn(\n"
     ]
    },
    {
     "name": "stdout",
     "output_type": "stream",
     "text": [
      "Scraping https://www.tdcj.texas.gov/death_row/dr_info/thurmondkeith.html ...\n"
     ]
    },
    {
     "name": "stderr",
     "output_type": "stream",
     "text": [
      "C:\\Users\\Alfajiri\\anaconda3\\Lib\\site-packages\\urllib3\\connectionpool.py:1056: InsecureRequestWarning: Unverified HTTPS request is being made to host 'www.tdcj.texas.gov'. Adding certificate verification is strongly advised. See: https://urllib3.readthedocs.io/en/1.26.x/advanced-usage.html#ssl-warnings\n",
      "  warnings.warn(\n"
     ]
    },
    {
     "name": "stdout",
     "output_type": "stream",
     "text": [
      "Scraping https://www.tdcj.texas.gov/death_row/dr_info/rivasgeorge.html ...\n"
     ]
    },
    {
     "name": "stderr",
     "output_type": "stream",
     "text": [
      "C:\\Users\\Alfajiri\\anaconda3\\Lib\\site-packages\\urllib3\\connectionpool.py:1056: InsecureRequestWarning: Unverified HTTPS request is being made to host 'www.tdcj.texas.gov'. Adding certificate verification is strongly advised. See: https://urllib3.readthedocs.io/en/1.26.x/advanced-usage.html#ssl-warnings\n",
      "  warnings.warn(\n"
     ]
    },
    {
     "name": "stdout",
     "output_type": "stream",
     "text": [
      "Scraping https://www.tdcj.texas.gov/death_row/dr_info/hernandezrodrigo.html ...\n"
     ]
    },
    {
     "name": "stderr",
     "output_type": "stream",
     "text": [
      "C:\\Users\\Alfajiri\\anaconda3\\Lib\\site-packages\\urllib3\\connectionpool.py:1056: InsecureRequestWarning: Unverified HTTPS request is being made to host 'www.tdcj.texas.gov'. Adding certificate verification is strongly advised. See: https://urllib3.readthedocs.io/en/1.26.x/advanced-usage.html#ssl-warnings\n",
      "  warnings.warn(\n"
     ]
    },
    {
     "name": "stdout",
     "output_type": "stream",
     "text": [
      "Scraping https://www.tdcj.texas.gov/death_row/dr_info/esparzaguadalupe.html ...\n"
     ]
    },
    {
     "name": "stderr",
     "output_type": "stream",
     "text": [
      "C:\\Users\\Alfajiri\\anaconda3\\Lib\\site-packages\\urllib3\\connectionpool.py:1056: InsecureRequestWarning: Unverified HTTPS request is being made to host 'www.tdcj.texas.gov'. Adding certificate verification is strongly advised. See: https://urllib3.readthedocs.io/en/1.26.x/advanced-usage.html#ssl-warnings\n",
      "  warnings.warn(\n"
     ]
    },
    {
     "name": "stdout",
     "output_type": "stream",
     "text": [
      "Scraping https://www.tdcj.texas.gov/death_row/dr_info/garciafrank.html ...\n"
     ]
    },
    {
     "name": "stderr",
     "output_type": "stream",
     "text": [
      "C:\\Users\\Alfajiri\\anaconda3\\Lib\\site-packages\\urllib3\\connectionpool.py:1056: InsecureRequestWarning: Unverified HTTPS request is being made to host 'www.tdcj.texas.gov'. Adding certificate verification is strongly advised. See: https://urllib3.readthedocs.io/en/1.26.x/advanced-usage.html#ssl-warnings\n",
      "  warnings.warn(\n"
     ]
    },
    {
     "name": "stdout",
     "output_type": "stream",
     "text": [
      "Scraping https://www.tdcj.texas.gov/death_row/dr_info/brewerlawrence.html ...\n"
     ]
    },
    {
     "name": "stderr",
     "output_type": "stream",
     "text": [
      "C:\\Users\\Alfajiri\\anaconda3\\Lib\\site-packages\\urllib3\\connectionpool.py:1056: InsecureRequestWarning: Unverified HTTPS request is being made to host 'www.tdcj.texas.gov'. Adding certificate verification is strongly advised. See: https://urllib3.readthedocs.io/en/1.26.x/advanced-usage.html#ssl-warnings\n",
      "  warnings.warn(\n"
     ]
    },
    {
     "name": "stdout",
     "output_type": "stream",
     "text": [
      "Scraping https://www.tdcj.texas.gov/death_row/dr_info/woodssteven.html ...\n"
     ]
    },
    {
     "name": "stderr",
     "output_type": "stream",
     "text": [
      "C:\\Users\\Alfajiri\\anaconda3\\Lib\\site-packages\\urllib3\\connectionpool.py:1056: InsecureRequestWarning: Unverified HTTPS request is being made to host 'www.tdcj.texas.gov'. Adding certificate verification is strongly advised. See: https://urllib3.readthedocs.io/en/1.26.x/advanced-usage.html#ssl-warnings\n",
      "  warnings.warn(\n"
     ]
    },
    {
     "name": "stdout",
     "output_type": "stream",
     "text": [
      "Scraping https://www.tdcj.texas.gov/death_row/dr_info/roblesmartin.html ...\n"
     ]
    },
    {
     "name": "stderr",
     "output_type": "stream",
     "text": [
      "C:\\Users\\Alfajiri\\anaconda3\\Lib\\site-packages\\urllib3\\connectionpool.py:1056: InsecureRequestWarning: Unverified HTTPS request is being made to host 'www.tdcj.texas.gov'. Adding certificate verification is strongly advised. See: https://urllib3.readthedocs.io/en/1.26.x/advanced-usage.html#ssl-warnings\n",
      "  warnings.warn(\n"
     ]
    },
    {
     "name": "stdout",
     "output_type": "stream",
     "text": [
      "Scraping https://www.tdcj.texas.gov/death_row/dr_info/stromanmark.html ...\n"
     ]
    },
    {
     "name": "stderr",
     "output_type": "stream",
     "text": [
      "C:\\Users\\Alfajiri\\anaconda3\\Lib\\site-packages\\urllib3\\connectionpool.py:1056: InsecureRequestWarning: Unverified HTTPS request is being made to host 'www.tdcj.texas.gov'. Adding certificate verification is strongly advised. See: https://urllib3.readthedocs.io/en/1.26.x/advanced-usage.html#ssl-warnings\n",
      "  warnings.warn(\n"
     ]
    },
    {
     "name": "stdout",
     "output_type": "stream",
     "text": [
      "Invalid filetype https://www.tdcj.texas.gov/death_row/dr_info/lealhumberto.jpg . Continuing...\n",
      "Scraping https://www.tdcj.texas.gov/death_row/dr_info/mathismilton.html ...\n"
     ]
    },
    {
     "name": "stderr",
     "output_type": "stream",
     "text": [
      "C:\\Users\\Alfajiri\\anaconda3\\Lib\\site-packages\\urllib3\\connectionpool.py:1056: InsecureRequestWarning: Unverified HTTPS request is being made to host 'www.tdcj.texas.gov'. Adding certificate verification is strongly advised. See: https://urllib3.readthedocs.io/en/1.26.x/advanced-usage.html#ssl-warnings\n",
      "  warnings.warn(\n"
     ]
    },
    {
     "name": "stdout",
     "output_type": "stream",
     "text": [
      "Scraping https://www.tdcj.texas.gov/death_row/dr_info/taylorlee.html ...\n"
     ]
    },
    {
     "name": "stderr",
     "output_type": "stream",
     "text": [
      "C:\\Users\\Alfajiri\\anaconda3\\Lib\\site-packages\\urllib3\\connectionpool.py:1056: InsecureRequestWarning: Unverified HTTPS request is being made to host 'www.tdcj.texas.gov'. Adding certificate verification is strongly advised. See: https://urllib3.readthedocs.io/en/1.26.x/advanced-usage.html#ssl-warnings\n",
      "  warnings.warn(\n"
     ]
    },
    {
     "name": "stdout",
     "output_type": "stream",
     "text": [
      "Invalid filetype https://www.tdcj.texas.gov/death_row/dr_info/bradfordgayland.jpg . Continuing...\n",
      "Scraping https://www.tdcj.texas.gov/death_row/dr_info/kerrcary.html ...\n"
     ]
    },
    {
     "name": "stderr",
     "output_type": "stream",
     "text": [
      "C:\\Users\\Alfajiri\\anaconda3\\Lib\\site-packages\\urllib3\\connectionpool.py:1056: InsecureRequestWarning: Unverified HTTPS request is being made to host 'www.tdcj.texas.gov'. Adding certificate verification is strongly advised. See: https://urllib3.readthedocs.io/en/1.26.x/advanced-usage.html#ssl-warnings\n",
      "  warnings.warn(\n"
     ]
    },
    {
     "name": "stdout",
     "output_type": "stream",
     "text": [
      "Scraping https://www.tdcj.texas.gov/death_row/dr_info/adamstimothy.html ...\n"
     ]
    },
    {
     "name": "stderr",
     "output_type": "stream",
     "text": [
      "C:\\Users\\Alfajiri\\anaconda3\\Lib\\site-packages\\urllib3\\connectionpool.py:1056: InsecureRequestWarning: Unverified HTTPS request is being made to host 'www.tdcj.texas.gov'. Adding certificate verification is strongly advised. See: https://urllib3.readthedocs.io/en/1.26.x/advanced-usage.html#ssl-warnings\n",
      "  warnings.warn(\n"
     ]
    },
    {
     "name": "stdout",
     "output_type": "stream",
     "text": [
      "Scraping https://www.tdcj.texas.gov/death_row/dr_info/hallmichael.html ...\n"
     ]
    },
    {
     "name": "stderr",
     "output_type": "stream",
     "text": [
      "C:\\Users\\Alfajiri\\anaconda3\\Lib\\site-packages\\urllib3\\connectionpool.py:1056: InsecureRequestWarning: Unverified HTTPS request is being made to host 'www.tdcj.texas.gov'. Adding certificate verification is strongly advised. See: https://urllib3.readthedocs.io/en/1.26.x/advanced-usage.html#ssl-warnings\n",
      "  warnings.warn(\n"
     ]
    },
    {
     "name": "stdout",
     "output_type": "stream",
     "text": [
      "Scraping https://www.tdcj.texas.gov/death_row/dr_info/wootenlarry.html ...\n"
     ]
    },
    {
     "name": "stderr",
     "output_type": "stream",
     "text": [
      "C:\\Users\\Alfajiri\\anaconda3\\Lib\\site-packages\\urllib3\\connectionpool.py:1056: InsecureRequestWarning: Unverified HTTPS request is being made to host 'www.tdcj.texas.gov'. Adding certificate verification is strongly advised. See: https://urllib3.readthedocs.io/en/1.26.x/advanced-usage.html#ssl-warnings\n",
      "  warnings.warn(\n"
     ]
    },
    {
     "name": "stdout",
     "output_type": "stream",
     "text": [
      "Invalid filetype https://www.tdcj.texas.gov/death_row/dr_info/cantup.jpg . Continuing...\n",
      "Scraping https://www.tdcj.texas.gov/death_row/dr_info/jacksonderrick.html ...\n"
     ]
    },
    {
     "name": "stderr",
     "output_type": "stream",
     "text": [
      "C:\\Users\\Alfajiri\\anaconda3\\Lib\\site-packages\\urllib3\\connectionpool.py:1056: InsecureRequestWarning: Unverified HTTPS request is being made to host 'www.tdcj.texas.gov'. Adding certificate verification is strongly advised. See: https://urllib3.readthedocs.io/en/1.26.x/advanced-usage.html#ssl-warnings\n",
      "  warnings.warn(\n"
     ]
    },
    {
     "name": "stdout",
     "output_type": "stream",
     "text": [
      "Scraping https://www.tdcj.texas.gov/death_row/dr_info/perrymichael.html ...\n"
     ]
    },
    {
     "name": "stderr",
     "output_type": "stream",
     "text": [
      "C:\\Users\\Alfajiri\\anaconda3\\Lib\\site-packages\\urllib3\\connectionpool.py:1056: InsecureRequestWarning: Unverified HTTPS request is being made to host 'www.tdcj.texas.gov'. Adding certificate verification is strongly advised. See: https://urllib3.readthedocs.io/en/1.26.x/advanced-usage.html#ssl-warnings\n",
      "  warnings.warn(\n"
     ]
    },
    {
     "name": "stdout",
     "output_type": "stream",
     "text": [
      "Invalid filetype https://www.tdcj.texas.gov/death_row/dr_info/powelldavid.jpg . Continuing...\n",
      "Invalid filetype https://www.tdcj.texas.gov/death_row/dr_info/jonesgeorgealarick.jpg . Continuing...\n",
      "Invalid filetype https://www.tdcj.texas.gov/death_row/dr_info/albajohn.jpg . Continuing...\n",
      "Scraping https://www.tdcj.texas.gov/death_row/dr_info/cannadyrogelio.html ...\n"
     ]
    },
    {
     "name": "stderr",
     "output_type": "stream",
     "text": [
      "C:\\Users\\Alfajiri\\anaconda3\\Lib\\site-packages\\urllib3\\connectionpool.py:1056: InsecureRequestWarning: Unverified HTTPS request is being made to host 'www.tdcj.texas.gov'. Adding certificate verification is strongly advised. See: https://urllib3.readthedocs.io/en/1.26.x/advanced-usage.html#ssl-warnings\n",
      "  warnings.warn(\n"
     ]
    },
    {
     "name": "stdout",
     "output_type": "stream",
     "text": [
      "Scraping https://www.tdcj.texas.gov/death_row/dr_info/gallowaybilly.html ...\n"
     ]
    },
    {
     "name": "stderr",
     "output_type": "stream",
     "text": [
      "C:\\Users\\Alfajiri\\anaconda3\\Lib\\site-packages\\urllib3\\connectionpool.py:1056: InsecureRequestWarning: Unverified HTTPS request is being made to host 'www.tdcj.texas.gov'. Adding certificate verification is strongly advised. See: https://urllib3.readthedocs.io/en/1.26.x/advanced-usage.html#ssl-warnings\n",
      "  warnings.warn(\n"
     ]
    },
    {
     "name": "stdout",
     "output_type": "stream",
     "text": [
      "Scraping https://www.tdcj.texas.gov/death_row/dr_info/vargakevin.html ...\n"
     ]
    },
    {
     "name": "stderr",
     "output_type": "stream",
     "text": [
      "C:\\Users\\Alfajiri\\anaconda3\\Lib\\site-packages\\urllib3\\connectionpool.py:1056: InsecureRequestWarning: Unverified HTTPS request is being made to host 'www.tdcj.texas.gov'. Adding certificate verification is strongly advised. See: https://urllib3.readthedocs.io/en/1.26.x/advanced-usage.html#ssl-warnings\n",
      "  warnings.warn(\n"
     ]
    },
    {
     "name": "stdout",
     "output_type": "stream",
     "text": [
      "Scraping https://www.tdcj.texas.gov/death_row/dr_info/bustamantesamuel.html ...\n"
     ]
    },
    {
     "name": "stderr",
     "output_type": "stream",
     "text": [
      "C:\\Users\\Alfajiri\\anaconda3\\Lib\\site-packages\\urllib3\\connectionpool.py:1056: InsecureRequestWarning: Unverified HTTPS request is being made to host 'www.tdcj.texas.gov'. Adding certificate verification is strongly advised. See: https://urllib3.readthedocs.io/en/1.26.x/advanced-usage.html#ssl-warnings\n",
      "  warnings.warn(\n"
     ]
    },
    {
     "name": "stdout",
     "output_type": "stream",
     "text": [
      "Scraping https://www.tdcj.texas.gov/death_row/dr_info/berkleywilliam.html ...\n"
     ]
    },
    {
     "name": "stderr",
     "output_type": "stream",
     "text": [
      "C:\\Users\\Alfajiri\\anaconda3\\Lib\\site-packages\\urllib3\\connectionpool.py:1056: InsecureRequestWarning: Unverified HTTPS request is being made to host 'www.tdcj.texas.gov'. Adding certificate verification is strongly advised. See: https://urllib3.readthedocs.io/en/1.26.x/advanced-usage.html#ssl-warnings\n",
      "  warnings.warn(\n"
     ]
    },
    {
     "name": "stdout",
     "output_type": "stream",
     "text": [
      "Scraping https://www.tdcj.texas.gov/death_row/dr_info/alixfranklin.html ...\n"
     ]
    },
    {
     "name": "stderr",
     "output_type": "stream",
     "text": [
      "C:\\Users\\Alfajiri\\anaconda3\\Lib\\site-packages\\urllib3\\connectionpool.py:1056: InsecureRequestWarning: Unverified HTTPS request is being made to host 'www.tdcj.texas.gov'. Adding certificate verification is strongly advised. See: https://urllib3.readthedocs.io/en/1.26.x/advanced-usage.html#ssl-warnings\n",
      "  warnings.warn(\n"
     ]
    },
    {
     "name": "stdout",
     "output_type": "stream",
     "text": [
      "Scraping https://www.tdcj.texas.gov/death_row/dr_info/maxwelljoshua.html ...\n"
     ]
    },
    {
     "name": "stderr",
     "output_type": "stream",
     "text": [
      "C:\\Users\\Alfajiri\\anaconda3\\Lib\\site-packages\\urllib3\\connectionpool.py:1056: InsecureRequestWarning: Unverified HTTPS request is being made to host 'www.tdcj.texas.gov'. Adding certificate verification is strongly advised. See: https://urllib3.readthedocs.io/en/1.26.x/advanced-usage.html#ssl-warnings\n",
      "  warnings.warn(\n"
     ]
    },
    {
     "name": "stdout",
     "output_type": "stream",
     "text": [
      "Scraping https://www.tdcj.texas.gov/death_row/dr_info/sigalamichael.html ...\n"
     ]
    },
    {
     "name": "stderr",
     "output_type": "stream",
     "text": [
      "C:\\Users\\Alfajiri\\anaconda3\\Lib\\site-packages\\urllib3\\connectionpool.py:1056: InsecureRequestWarning: Unverified HTTPS request is being made to host 'www.tdcj.texas.gov'. Adding certificate verification is strongly advised. See: https://urllib3.readthedocs.io/en/1.26.x/advanced-usage.html#ssl-warnings\n",
      "  warnings.warn(\n"
     ]
    },
    {
     "name": "stdout",
     "output_type": "stream",
     "text": [
      "Invalid filetype https://www.tdcj.texas.gov/death_row/dr_info/johnsongary.jpg . Continuing...\n",
      "Scraping https://www.tdcj.texas.gov/death_row/dr_info/mosleykenneth.html ...\n"
     ]
    },
    {
     "name": "stderr",
     "output_type": "stream",
     "text": [
      "C:\\Users\\Alfajiri\\anaconda3\\Lib\\site-packages\\urllib3\\connectionpool.py:1056: InsecureRequestWarning: Unverified HTTPS request is being made to host 'www.tdcj.texas.gov'. Adding certificate verification is strongly advised. See: https://urllib3.readthedocs.io/en/1.26.x/advanced-usage.html#ssl-warnings\n",
      "  warnings.warn(\n"
     ]
    },
    {
     "name": "stdout",
     "output_type": "stream",
     "text": [
      "Scraping https://www.tdcj.texas.gov/death_row/dr_info/woodsbobby.html ...\n"
     ]
    },
    {
     "name": "stderr",
     "output_type": "stream",
     "text": [
      "C:\\Users\\Alfajiri\\anaconda3\\Lib\\site-packages\\urllib3\\connectionpool.py:1056: InsecureRequestWarning: Unverified HTTPS request is being made to host 'www.tdcj.texas.gov'. Adding certificate verification is strongly advised. See: https://urllib3.readthedocs.io/en/1.26.x/advanced-usage.html#ssl-warnings\n",
      "  warnings.warn(\n"
     ]
    },
    {
     "name": "stdout",
     "output_type": "stream",
     "text": [
      "Scraping https://www.tdcj.texas.gov/death_row/dr_info/thompsonrobert.html ...\n"
     ]
    },
    {
     "name": "stderr",
     "output_type": "stream",
     "text": [
      "C:\\Users\\Alfajiri\\anaconda3\\Lib\\site-packages\\urllib3\\connectionpool.py:1056: InsecureRequestWarning: Unverified HTTPS request is being made to host 'www.tdcj.texas.gov'. Adding certificate verification is strongly advised. See: https://urllib3.readthedocs.io/en/1.26.x/advanced-usage.html#ssl-warnings\n",
      "  warnings.warn(\n"
     ]
    },
    {
     "name": "stdout",
     "output_type": "stream",
     "text": [
      "Scraping https://www.tdcj.texas.gov/death_row/dr_info/simpsondanielle.html ...\n"
     ]
    },
    {
     "name": "stderr",
     "output_type": "stream",
     "text": [
      "C:\\Users\\Alfajiri\\anaconda3\\Lib\\site-packages\\urllib3\\connectionpool.py:1056: InsecureRequestWarning: Unverified HTTPS request is being made to host 'www.tdcj.texas.gov'. Adding certificate verification is strongly advised. See: https://urllib3.readthedocs.io/en/1.26.x/advanced-usage.html#ssl-warnings\n",
      "  warnings.warn(\n"
     ]
    },
    {
     "name": "stdout",
     "output_type": "stream",
     "text": [
      "Scraping https://www.tdcj.texas.gov/death_row/dr_info/valleyosvanis.html ...\n"
     ]
    },
    {
     "name": "stderr",
     "output_type": "stream",
     "text": [
      "C:\\Users\\Alfajiri\\anaconda3\\Lib\\site-packages\\urllib3\\connectionpool.py:1056: InsecureRequestWarning: Unverified HTTPS request is being made to host 'www.tdcj.texas.gov'. Adding certificate verification is strongly advised. See: https://urllib3.readthedocs.io/en/1.26.x/advanced-usage.html#ssl-warnings\n",
      "  warnings.warn(\n"
     ]
    },
    {
     "name": "stdout",
     "output_type": "stream",
     "text": [
      "Scraping https://www.tdcj.texas.gov/death_row/dr_info/oliverkhristian.html ...\n"
     ]
    },
    {
     "name": "stderr",
     "output_type": "stream",
     "text": [
      "C:\\Users\\Alfajiri\\anaconda3\\Lib\\site-packages\\urllib3\\connectionpool.py:1056: InsecureRequestWarning: Unverified HTTPS request is being made to host 'www.tdcj.texas.gov'. Adding certificate verification is strongly advised. See: https://urllib3.readthedocs.io/en/1.26.x/advanced-usage.html#ssl-warnings\n",
      "  warnings.warn(\n"
     ]
    },
    {
     "name": "stdout",
     "output_type": "stream",
     "text": [
      "Scraping https://www.tdcj.texas.gov/death_row/dr_info/blantonreginald.html ...\n"
     ]
    },
    {
     "name": "stderr",
     "output_type": "stream",
     "text": [
      "C:\\Users\\Alfajiri\\anaconda3\\Lib\\site-packages\\urllib3\\connectionpool.py:1056: InsecureRequestWarning: Unverified HTTPS request is being made to host 'www.tdcj.texas.gov'. Adding certificate verification is strongly advised. See: https://urllib3.readthedocs.io/en/1.26.x/advanced-usage.html#ssl-warnings\n",
      "  warnings.warn(\n"
     ]
    },
    {
     "name": "stdout",
     "output_type": "stream",
     "text": [
      "Scraping https://www.tdcj.texas.gov/death_row/dr_info/colemanchristopher.html ...\n"
     ]
    },
    {
     "name": "stderr",
     "output_type": "stream",
     "text": [
      "C:\\Users\\Alfajiri\\anaconda3\\Lib\\site-packages\\urllib3\\connectionpool.py:1056: InsecureRequestWarning: Unverified HTTPS request is being made to host 'www.tdcj.texas.gov'. Adding certificate verification is strongly advised. See: https://urllib3.readthedocs.io/en/1.26.x/advanced-usage.html#ssl-warnings\n",
      "  warnings.warn(\n"
     ]
    },
    {
     "name": "stdout",
     "output_type": "stream",
     "text": [
      "Invalid filetype https://www.tdcj.texas.gov/death_row/dr_info/moodystephen.jpg . Continuing...\n",
      "Scraping https://www.tdcj.texas.gov/death_row/dr_info/hankinsterry.html ...\n"
     ]
    },
    {
     "name": "stderr",
     "output_type": "stream",
     "text": [
      "C:\\Users\\Alfajiri\\anaconda3\\Lib\\site-packages\\urllib3\\connectionpool.py:1056: InsecureRequestWarning: Unverified HTTPS request is being made to host 'www.tdcj.texas.gov'. Adding certificate verification is strongly advised. See: https://urllib3.readthedocs.io/en/1.26.x/advanced-usage.html#ssl-warnings\n",
      "  warnings.warn(\n"
     ]
    },
    {
     "name": "stdout",
     "output_type": "stream",
     "text": [
      "Invalid filetype https://www.tdcj.texas.gov/death_row/dr_info/rileymichael.jpg . Continuing...\n",
      "Scraping https://www.tdcj.texas.gov/death_row/dr_info/johnsonderrick.html ...\n"
     ]
    },
    {
     "name": "stderr",
     "output_type": "stream",
     "text": [
      "C:\\Users\\Alfajiri\\anaconda3\\Lib\\site-packages\\urllib3\\connectionpool.py:1056: InsecureRequestWarning: Unverified HTTPS request is being made to host 'www.tdcj.texas.gov'. Adding certificate verification is strongly advised. See: https://urllib3.readthedocs.io/en/1.26.x/advanced-usage.html#ssl-warnings\n",
      "  warnings.warn(\n"
     ]
    },
    {
     "name": "stdout",
     "output_type": "stream",
     "text": [
      "Scraping https://www.tdcj.texas.gov/death_row/dr_info/rosalesmichael.html ...\n"
     ]
    },
    {
     "name": "stderr",
     "output_type": "stream",
     "text": [
      "C:\\Users\\Alfajiri\\anaconda3\\Lib\\site-packages\\urllib3\\connectionpool.py:1056: InsecureRequestWarning: Unverified HTTPS request is being made to host 'www.tdcj.texas.gov'. Adding certificate verification is strongly advised. See: https://urllib3.readthedocs.io/en/1.26.x/advanced-usage.html#ssl-warnings\n",
      "  warnings.warn(\n"
     ]
    },
    {
     "name": "stdout",
     "output_type": "stream",
     "text": [
      "Scraping https://www.tdcj.texas.gov/death_row/dr_info/salazarluis.html ...\n"
     ]
    },
    {
     "name": "stderr",
     "output_type": "stream",
     "text": [
      "C:\\Users\\Alfajiri\\anaconda3\\Lib\\site-packages\\urllib3\\connectionpool.py:1056: InsecureRequestWarning: Unverified HTTPS request is being made to host 'www.tdcj.texas.gov'. Adding certificate verification is strongly advised. See: https://urllib3.readthedocs.io/en/1.26.x/advanced-usage.html#ssl-warnings\n",
      "  warnings.warn(\n"
     ]
    },
    {
     "name": "stdout",
     "output_type": "stream",
     "text": [
      "Scraping https://www.tdcj.texas.gov/death_row/dr_info/martinezjames.html ...\n"
     ]
    },
    {
     "name": "stderr",
     "output_type": "stream",
     "text": [
      "C:\\Users\\Alfajiri\\anaconda3\\Lib\\site-packages\\urllib3\\connectionpool.py:1056: InsecureRequestWarning: Unverified HTTPS request is being made to host 'www.tdcj.texas.gov'. Adding certificate verification is strongly advised. See: https://urllib3.readthedocs.io/en/1.26.x/advanced-usage.html#ssl-warnings\n",
      "  warnings.warn(\n"
     ]
    },
    {
     "name": "stdout",
     "output_type": "stream",
     "text": [
      "Invalid filetype https://www.tdcj.texas.gov/death_row/dr_info/morriskenneth.jpg . Continuing...\n",
      "Invalid filetype https://www.tdcj.texas.gov/death_row/dr_info/pondexterwillie.jpg . Continuing...\n",
      "Invalid filetype https://www.tdcj.texas.gov/death_row/dr_info/johnsonjohnny.jpg . Continuing...\n",
      "Scraping https://www.tdcj.texas.gov/death_row/dr_info/scheanettedale.html ...\n"
     ]
    },
    {
     "name": "stderr",
     "output_type": "stream",
     "text": [
      "C:\\Users\\Alfajiri\\anaconda3\\Lib\\site-packages\\urllib3\\connectionpool.py:1056: InsecureRequestWarning: Unverified HTTPS request is being made to host 'www.tdcj.texas.gov'. Adding certificate verification is strongly advised. See: https://urllib3.readthedocs.io/en/1.26.x/advanced-usage.html#ssl-warnings\n",
      "  warnings.warn(\n"
     ]
    },
    {
     "name": "stdout",
     "output_type": "stream",
     "text": [
      "Invalid filetype https://www.tdcj.texas.gov/death_row/dr_info/martinezdavid.jpg . Continuing...\n",
      "Scraping https://www.tdcj.texas.gov/death_row/dr_info/ortizricardo.html ...\n"
     ]
    },
    {
     "name": "stderr",
     "output_type": "stream",
     "text": [
      "C:\\Users\\Alfajiri\\anaconda3\\Lib\\site-packages\\urllib3\\connectionpool.py:1056: InsecureRequestWarning: Unverified HTTPS request is being made to host 'www.tdcj.texas.gov'. Adding certificate verification is strongly advised. See: https://urllib3.readthedocs.io/en/1.26.x/advanced-usage.html#ssl-warnings\n",
      "  warnings.warn(\n"
     ]
    },
    {
     "name": "stdout",
     "output_type": "stream",
     "text": [
      "Scraping https://www.tdcj.texas.gov/death_row/dr_info/martinezvirgil.html ...\n"
     ]
    },
    {
     "name": "stderr",
     "output_type": "stream",
     "text": [
      "C:\\Users\\Alfajiri\\anaconda3\\Lib\\site-packages\\urllib3\\connectionpool.py:1056: InsecureRequestWarning: Unverified HTTPS request is being made to host 'www.tdcj.texas.gov'. Adding certificate verification is strongly advised. See: https://urllib3.readthedocs.io/en/1.26.x/advanced-usage.html#ssl-warnings\n",
      "  warnings.warn(\n"
     ]
    },
    {
     "name": "stdout",
     "output_type": "stream",
     "text": [
      "Scraping https://www.tdcj.texas.gov/death_row/dr_info/perkinsreginald.html ...\n"
     ]
    },
    {
     "name": "stderr",
     "output_type": "stream",
     "text": [
      "C:\\Users\\Alfajiri\\anaconda3\\Lib\\site-packages\\urllib3\\connectionpool.py:1056: InsecureRequestWarning: Unverified HTTPS request is being made to host 'www.tdcj.texas.gov'. Adding certificate verification is strongly advised. See: https://urllib3.readthedocs.io/en/1.26.x/advanced-usage.html#ssl-warnings\n",
      "  warnings.warn(\n"
     ]
    },
    {
     "name": "stdout",
     "output_type": "stream",
     "text": [
      "Invalid filetype https://www.tdcj.texas.gov/death_row/dr_info/moorefrank.jpg . Continuing...\n",
      "Scraping https://www.tdcj.texas.gov/death_row/dr_info/moorecurtis.html ...\n"
     ]
    },
    {
     "name": "stderr",
     "output_type": "stream",
     "text": [
      "C:\\Users\\Alfajiri\\anaconda3\\Lib\\site-packages\\urllib3\\connectionpool.py:1056: InsecureRequestWarning: Unverified HTTPS request is being made to host 'www.tdcj.texas.gov'. Adding certificate verification is strongly advised. See: https://urllib3.readthedocs.io/en/1.26.x/advanced-usage.html#ssl-warnings\n",
      "  warnings.warn(\n"
     ]
    },
    {
     "name": "stdout",
     "output_type": "stream",
     "text": [
      "Scraping https://www.tdcj.texas.gov/death_row/dr_info/hudsonrobert.html ...\n"
     ]
    },
    {
     "name": "stderr",
     "output_type": "stream",
     "text": [
      "C:\\Users\\Alfajiri\\anaconda3\\Lib\\site-packages\\urllib3\\connectionpool.py:1056: InsecureRequestWarning: Unverified HTTPS request is being made to host 'www.tdcj.texas.gov'. Adding certificate verification is strongly advised. See: https://urllib3.readthedocs.io/en/1.26.x/advanced-usage.html#ssl-warnings\n",
      "  warnings.warn(\n"
     ]
    },
    {
     "name": "stdout",
     "output_type": "stream",
     "text": [
      "Scraping https://www.tdcj.texas.gov/death_row/dr_info/mannsdenard.html ...\n"
     ]
    },
    {
     "name": "stderr",
     "output_type": "stream",
     "text": [
      "C:\\Users\\Alfajiri\\anaconda3\\Lib\\site-packages\\urllib3\\connectionpool.py:1056: InsecureRequestWarning: Unverified HTTPS request is being made to host 'www.tdcj.texas.gov'. Adding certificate verification is strongly advised. See: https://urllib3.readthedocs.io/en/1.26.x/advanced-usage.html#ssl-warnings\n",
      "  warnings.warn(\n"
     ]
    },
    {
     "name": "stdout",
     "output_type": "stream",
     "text": [
      "Invalid filetype https://www.tdcj.texas.gov/death_row/dr_info/whitakergeorge.jpg . Continuing...\n",
      "Invalid filetype https://www.tdcj.texas.gov/death_row/dr_info/taylorelkie.jpg . Continuing...\n",
      "Scraping https://www.tdcj.texas.gov/death_row/dr_info/wrightgregory.html ...\n"
     ]
    },
    {
     "name": "stderr",
     "output_type": "stream",
     "text": [
      "C:\\Users\\Alfajiri\\anaconda3\\Lib\\site-packages\\urllib3\\connectionpool.py:1056: InsecureRequestWarning: Unverified HTTPS request is being made to host 'www.tdcj.texas.gov'. Adding certificate verification is strongly advised. See: https://urllib3.readthedocs.io/en/1.26.x/advanced-usage.html#ssl-warnings\n",
      "  warnings.warn(\n"
     ]
    },
    {
     "name": "stdout",
     "output_type": "stream",
     "text": [
      "Invalid filetype https://www.tdcj.texas.gov/death_row/dr_info/nennoeric.jpg . Continuing...\n",
      "Scraping https://www.tdcj.texas.gov/death_row/dr_info/riesjoseph.html ...\n"
     ]
    },
    {
     "name": "stderr",
     "output_type": "stream",
     "text": [
      "C:\\Users\\Alfajiri\\anaconda3\\Lib\\site-packages\\urllib3\\connectionpool.py:1056: InsecureRequestWarning: Unverified HTTPS request is being made to host 'www.tdcj.texas.gov'. Adding certificate verification is strongly advised. See: https://urllib3.readthedocs.io/en/1.26.x/advanced-usage.html#ssl-warnings\n",
      "  warnings.warn(\n"
     ]
    },
    {
     "name": "stdout",
     "output_type": "stream",
     "text": [
      "Scraping https://www.tdcj.texas.gov/death_row/dr_info/wattskevin.html ...\n"
     ]
    },
    {
     "name": "stderr",
     "output_type": "stream",
     "text": [
      "C:\\Users\\Alfajiri\\anaconda3\\Lib\\site-packages\\urllib3\\connectionpool.py:1056: InsecureRequestWarning: Unverified HTTPS request is being made to host 'www.tdcj.texas.gov'. Adding certificate verification is strongly advised. See: https://urllib3.readthedocs.io/en/1.26.x/advanced-usage.html#ssl-warnings\n",
      "  warnings.warn(\n"
     ]
    },
    {
     "name": "stdout",
     "output_type": "stream",
     "text": [
      "Invalid filetype https://www.tdcj.texas.gov/death_row/dr_info/kellyalvin.jpg . Continuing...\n",
      "Scraping https://www.tdcj.texas.gov/death_row/dr_info/murraywilliam.html ...\n"
     ]
    },
    {
     "name": "stderr",
     "output_type": "stream",
     "text": [
      "C:\\Users\\Alfajiri\\anaconda3\\Lib\\site-packages\\urllib3\\connectionpool.py:1056: InsecureRequestWarning: Unverified HTTPS request is being made to host 'www.tdcj.texas.gov'. Adding certificate verification is strongly advised. See: https://urllib3.readthedocs.io/en/1.26.x/advanced-usage.html#ssl-warnings\n",
      "  warnings.warn(\n"
     ]
    },
    {
     "name": "stdout",
     "output_type": "stream",
     "text": [
      "Scraping https://www.tdcj.texas.gov/death_row/dr_info/rodriguezmichael.html ...\n"
     ]
    },
    {
     "name": "stderr",
     "output_type": "stream",
     "text": [
      "C:\\Users\\Alfajiri\\anaconda3\\Lib\\site-packages\\urllib3\\connectionpool.py:1056: InsecureRequestWarning: Unverified HTTPS request is being made to host 'www.tdcj.texas.gov'. Adding certificate verification is strongly advised. See: https://urllib3.readthedocs.io/en/1.26.x/advanced-usage.html#ssl-warnings\n",
      "  warnings.warn(\n"
     ]
    },
    {
     "name": "stdout",
     "output_type": "stream",
     "text": [
      "Scraping https://www.tdcj.texas.gov/death_row/dr_info/dorseyleon.html ...\n"
     ]
    },
    {
     "name": "stderr",
     "output_type": "stream",
     "text": [
      "C:\\Users\\Alfajiri\\anaconda3\\Lib\\site-packages\\urllib3\\connectionpool.py:1056: InsecureRequestWarning: Unverified HTTPS request is being made to host 'www.tdcj.texas.gov'. Adding certificate verification is strongly advised. See: https://urllib3.readthedocs.io/en/1.26.x/advanced-usage.html#ssl-warnings\n",
      "  warnings.warn(\n"
     ]
    },
    {
     "name": "stdout",
     "output_type": "stream",
     "text": [
      "Scraping https://www.tdcj.texas.gov/death_row/dr_info/chiheliberto.html ...\n"
     ]
    },
    {
     "name": "stderr",
     "output_type": "stream",
     "text": [
      "C:\\Users\\Alfajiri\\anaconda3\\Lib\\site-packages\\urllib3\\connectionpool.py:1056: InsecureRequestWarning: Unverified HTTPS request is being made to host 'www.tdcj.texas.gov'. Adding certificate verification is strongly advised. See: https://urllib3.readthedocs.io/en/1.26.x/advanced-usage.html#ssl-warnings\n",
      "  warnings.warn(\n"
     ]
    },
    {
     "name": "stdout",
     "output_type": "stream",
     "text": [
      "Invalid filetype https://www.tdcj.texas.gov/death_row/dr_info/medellinjose.jpg . Continuing...\n",
      "Scraping https://www.tdcj.texas.gov/death_row/dr_info/davislarry.html ...\n"
     ]
    },
    {
     "name": "stderr",
     "output_type": "stream",
     "text": [
      "C:\\Users\\Alfajiri\\anaconda3\\Lib\\site-packages\\urllib3\\connectionpool.py:1056: InsecureRequestWarning: Unverified HTTPS request is being made to host 'www.tdcj.texas.gov'. Adding certificate verification is strongly advised. See: https://urllib3.readthedocs.io/en/1.26.x/advanced-usage.html#ssl-warnings\n",
      "  warnings.warn(\n"
     ]
    },
    {
     "name": "stdout",
     "output_type": "stream",
     "text": [
      "Invalid filetype https://www.tdcj.texas.gov/death_row/dr_info/sonnierderrick.jpg . Continuing...\n",
      "Scraping https://www.tdcj.texas.gov/death_row/dr_info/turnercarlton.html ...\n"
     ]
    },
    {
     "name": "stderr",
     "output_type": "stream",
     "text": [
      "C:\\Users\\Alfajiri\\anaconda3\\Lib\\site-packages\\urllib3\\connectionpool.py:1056: InsecureRequestWarning: Unverified HTTPS request is being made to host 'www.tdcj.texas.gov'. Adding certificate verification is strongly advised. See: https://urllib3.readthedocs.io/en/1.26.x/advanced-usage.html#ssl-warnings\n",
      "  warnings.warn(\n"
     ]
    },
    {
     "name": "stdout",
     "output_type": "stream",
     "text": [
      "Scraping https://www.tdcj.texas.gov/death_row/dr_info/chamberlainkarl.html ...\n"
     ]
    },
    {
     "name": "stderr",
     "output_type": "stream",
     "text": [
      "C:\\Users\\Alfajiri\\anaconda3\\Lib\\site-packages\\urllib3\\connectionpool.py:1056: InsecureRequestWarning: Unverified HTTPS request is being made to host 'www.tdcj.texas.gov'. Adding certificate verification is strongly advised. See: https://urllib3.readthedocs.io/en/1.26.x/advanced-usage.html#ssl-warnings\n",
      "  warnings.warn(\n"
     ]
    },
    {
     "name": "stdout",
     "output_type": "stream",
     "text": [
      "Invalid filetype https://www.tdcj.texas.gov/death_row/dr_info/richardsmichael.jpg . Continuing...\n",
      "Scraping https://www.tdcj.texas.gov/death_row/dr_info/kimmelclifford.html ...\n"
     ]
    },
    {
     "name": "stderr",
     "output_type": "stream",
     "text": [
      "C:\\Users\\Alfajiri\\anaconda3\\Lib\\site-packages\\urllib3\\connectionpool.py:1056: InsecureRequestWarning: Unverified HTTPS request is being made to host 'www.tdcj.texas.gov'. Adding certificate verification is strongly advised. See: https://urllib3.readthedocs.io/en/1.26.x/advanced-usage.html#ssl-warnings\n",
      "  warnings.warn(\n"
     ]
    },
    {
     "name": "stdout",
     "output_type": "stream",
     "text": [
      "Scraping https://www.tdcj.texas.gov/death_row/dr_info/roachtony.html ...\n"
     ]
    },
    {
     "name": "stderr",
     "output_type": "stream",
     "text": [
      "C:\\Users\\Alfajiri\\anaconda3\\Lib\\site-packages\\urllib3\\connectionpool.py:1056: InsecureRequestWarning: Unverified HTTPS request is being made to host 'www.tdcj.texas.gov'. Adding certificate verification is strongly advised. See: https://urllib3.readthedocs.io/en/1.26.x/advanced-usage.html#ssl-warnings\n",
      "  warnings.warn(\n"
     ]
    },
    {
     "name": "stdout",
     "output_type": "stream",
     "text": [
      "Invalid filetype https://www.tdcj.texas.gov/death_row/dr_info/amadorjohn.jpg . Continuing...\n",
      "Invalid filetype https://www.tdcj.texas.gov/death_row/dr_info/mosleydaroyce.jpg . Continuing...\n",
      "Scraping https://www.tdcj.texas.gov/death_row/dr_info/connerjohnny.html ...\n"
     ]
    },
    {
     "name": "stderr",
     "output_type": "stream",
     "text": [
      "C:\\Users\\Alfajiri\\anaconda3\\Lib\\site-packages\\urllib3\\connectionpool.py:1056: InsecureRequestWarning: Unverified HTTPS request is being made to host 'www.tdcj.texas.gov'. Adding certificate verification is strongly advised. See: https://urllib3.readthedocs.io/en/1.26.x/advanced-usage.html#ssl-warnings\n",
      "  warnings.warn(\n"
     ]
    },
    {
     "name": "stdout",
     "output_type": "stream",
     "text": [
      "Scraping https://www.tdcj.texas.gov/death_row/dr_info/parrkenneth.html ...\n"
     ]
    },
    {
     "name": "stderr",
     "output_type": "stream",
     "text": [
      "C:\\Users\\Alfajiri\\anaconda3\\Lib\\site-packages\\urllib3\\connectionpool.py:1056: InsecureRequestWarning: Unverified HTTPS request is being made to host 'www.tdcj.texas.gov'. Adding certificate verification is strongly advised. See: https://urllib3.readthedocs.io/en/1.26.x/advanced-usage.html#ssl-warnings\n",
      "  warnings.warn(\n"
     ]
    },
    {
     "name": "stdout",
     "output_type": "stream",
     "text": [
      "Invalid filetype https://www.tdcj.texas.gov/death_row/dr_info/johnsonlonnie.jpg . Continuing...\n",
      "Invalid filetype https://www.tdcj.texas.gov/death_row/dr_info/knightpatrick.jpg . Continuing...\n",
      "Scraping https://www.tdcj.texas.gov/death_row/dr_info/reyesgilberto.html ...\n"
     ]
    },
    {
     "name": "stderr",
     "output_type": "stream",
     "text": [
      "C:\\Users\\Alfajiri\\anaconda3\\Lib\\site-packages\\urllib3\\connectionpool.py:1056: InsecureRequestWarning: Unverified HTTPS request is being made to host 'www.tdcj.texas.gov'. Adding certificate verification is strongly advised. See: https://urllib3.readthedocs.io/en/1.26.x/advanced-usage.html#ssl-warnings\n",
      "  warnings.warn(\n"
     ]
    },
    {
     "name": "stdout",
     "output_type": "stream",
     "text": [
      "Invalid filetype https://www.tdcj.texas.gov/death_row/dr_info/rodrigezlionell.jpg . Continuing...\n",
      "Invalid filetype https://www.tdcj.texas.gov/death_row/dr_info/griffithmichael.jpg . Continuing...\n",
      "Invalid filetype https://www.tdcj.texas.gov/death_row/dr_info/smithcharles.jpg . Continuing...\n",
      "Scraping https://www.tdcj.texas.gov/death_row/dr_info/dicksonryan.html ...\n"
     ]
    },
    {
     "name": "stderr",
     "output_type": "stream",
     "text": [
      "C:\\Users\\Alfajiri\\anaconda3\\Lib\\site-packages\\urllib3\\connectionpool.py:1056: InsecureRequestWarning: Unverified HTTPS request is being made to host 'www.tdcj.texas.gov'. Adding certificate verification is strongly advised. See: https://urllib3.readthedocs.io/en/1.26.x/advanced-usage.html#ssl-warnings\n",
      "  warnings.warn(\n"
     ]
    },
    {
     "name": "stdout",
     "output_type": "stream",
     "text": [
      "Scraping https://www.tdcj.texas.gov/death_row/dr_info/clarkjames.html ...\n"
     ]
    },
    {
     "name": "stderr",
     "output_type": "stream",
     "text": [
      "C:\\Users\\Alfajiri\\anaconda3\\Lib\\site-packages\\urllib3\\connectionpool.py:1056: InsecureRequestWarning: Unverified HTTPS request is being made to host 'www.tdcj.texas.gov'. Adding certificate verification is strongly advised. See: https://urllib3.readthedocs.io/en/1.26.x/advanced-usage.html#ssl-warnings\n",
      "  warnings.warn(\n"
     ]
    },
    {
     "name": "stdout",
     "output_type": "stream",
     "text": [
      "Invalid filetype https://www.tdcj.texas.gov/death_row/dr_info/pippenroy.jpg . Continuing...\n",
      "Scraping https://www.tdcj.texas.gov/death_row/dr_info/gutierrezvincent.html ...\n"
     ]
    },
    {
     "name": "stderr",
     "output_type": "stream",
     "text": [
      "C:\\Users\\Alfajiri\\anaconda3\\Lib\\site-packages\\urllib3\\connectionpool.py:1056: InsecureRequestWarning: Unverified HTTPS request is being made to host 'www.tdcj.texas.gov'. Adding certificate verification is strongly advised. See: https://urllib3.readthedocs.io/en/1.26.x/advanced-usage.html#ssl-warnings\n",
      "  warnings.warn(\n"
     ]
    },
    {
     "name": "stdout",
     "output_type": "stream",
     "text": [
      "Scraping https://www.tdcj.texas.gov/death_row/dr_info/nealycharles.html ...\n"
     ]
    },
    {
     "name": "stderr",
     "output_type": "stream",
     "text": [
      "C:\\Users\\Alfajiri\\anaconda3\\Lib\\site-packages\\urllib3\\connectionpool.py:1056: InsecureRequestWarning: Unverified HTTPS request is being made to host 'www.tdcj.texas.gov'. Adding certificate verification is strongly advised. See: https://urllib3.readthedocs.io/en/1.26.x/advanced-usage.html#ssl-warnings\n",
      "  warnings.warn(\n"
     ]
    },
    {
     "name": "stdout",
     "output_type": "stream",
     "text": [
      "Invalid filetype https://www.tdcj.texas.gov/death_row/dr_info/nicholsjoseph.jpg . Continuing...\n",
      "Scraping https://www.tdcj.texas.gov/death_row/dr_info/perezrobert.html ...\n"
     ]
    },
    {
     "name": "stderr",
     "output_type": "stream",
     "text": [
      "C:\\Users\\Alfajiri\\anaconda3\\Lib\\site-packages\\urllib3\\connectionpool.py:1056: InsecureRequestWarning: Unverified HTTPS request is being made to host 'www.tdcj.texas.gov'. Adding certificate verification is strongly advised. See: https://urllib3.readthedocs.io/en/1.26.x/advanced-usage.html#ssl-warnings\n",
      "  warnings.warn(\n"
     ]
    },
    {
     "name": "stdout",
     "output_type": "stream",
     "text": [
      "Invalid filetype https://www.tdcj.texas.gov/death_row/dr_info/millerdonald.jpg . Continuing...\n",
      "Scraping https://www.tdcj.texas.gov/death_row/dr_info/andersonnewton.html ...\n"
     ]
    },
    {
     "name": "stderr",
     "output_type": "stream",
     "text": [
      "C:\\Users\\Alfajiri\\anaconda3\\Lib\\site-packages\\urllib3\\connectionpool.py:1056: InsecureRequestWarning: Unverified HTTPS request is being made to host 'www.tdcj.texas.gov'. Adding certificate verification is strongly advised. See: https://urllib3.readthedocs.io/en/1.26.x/advanced-usage.html#ssl-warnings\n",
      "  warnings.warn(\n"
     ]
    },
    {
     "name": "stdout",
     "output_type": "stream",
     "text": [
      "Scraping https://www.tdcj.texas.gov/death_row/dr_info/jacksonjames.html ...\n"
     ]
    },
    {
     "name": "stderr",
     "output_type": "stream",
     "text": [
      "C:\\Users\\Alfajiri\\anaconda3\\Lib\\site-packages\\urllib3\\connectionpool.py:1056: InsecureRequestWarning: Unverified HTTPS request is being made to host 'www.tdcj.texas.gov'. Adding certificate verification is strongly advised. See: https://urllib3.readthedocs.io/en/1.26.x/advanced-usage.html#ssl-warnings\n",
      "  warnings.warn(\n"
     ]
    },
    {
     "name": "stdout",
     "output_type": "stream",
     "text": [
      "Scraping https://www.tdcj.texas.gov/death_row/dr_info/swiftchristopher.html ...\n"
     ]
    },
    {
     "name": "stderr",
     "output_type": "stream",
     "text": [
      "C:\\Users\\Alfajiri\\anaconda3\\Lib\\site-packages\\urllib3\\connectionpool.py:1056: InsecureRequestWarning: Unverified HTTPS request is being made to host 'www.tdcj.texas.gov'. Adding certificate verification is strongly advised. See: https://urllib3.readthedocs.io/en/1.26.x/advanced-usage.html#ssl-warnings\n",
      "  warnings.warn(\n"
     ]
    },
    {
     "name": "stdout",
     "output_type": "stream",
     "text": [
      "Invalid filetype https://www.tdcj.texas.gov/death_row/dr_info/moorejohnathan.jpg . Continuing...\n",
      "Scraping https://www.tdcj.texas.gov/death_row/dr_info/granadoscarlos.html ...\n"
     ]
    },
    {
     "name": "stderr",
     "output_type": "stream",
     "text": [
      "C:\\Users\\Alfajiri\\anaconda3\\Lib\\site-packages\\urllib3\\connectionpool.py:1056: InsecureRequestWarning: Unverified HTTPS request is being made to host 'www.tdcj.texas.gov'. Adding certificate verification is strongly advised. See: https://urllib3.readthedocs.io/en/1.26.x/advanced-usage.html#ssl-warnings\n",
      "  warnings.warn(\n"
     ]
    },
    {
     "name": "stdout",
     "output_type": "stream",
     "text": [
      "Invalid filetype https://www.tdcj.texas.gov/death_row/dr_info/shannonwillie.jpg . Continuing...\n",
      "Invalid filetype https://www.tdcj.texas.gov/death_row/dr_info/jacksondonell.jpg . Continuing...\n",
      "Invalid filetype https://www.tdcj.texas.gov/death_row/dr_info/summersgregory.jpg . Continuing...\n",
      "Invalid filetype https://www.tdcj.texas.gov/death_row/dr_info/matchettfarley.jpg . Continuing...\n",
      "Scraping https://www.tdcj.texas.gov/death_row/dr_info/frazierderrick.html ...\n"
     ]
    },
    {
     "name": "stderr",
     "output_type": "stream",
     "text": [
      "C:\\Users\\Alfajiri\\anaconda3\\Lib\\site-packages\\urllib3\\connectionpool.py:1056: InsecureRequestWarning: Unverified HTTPS request is being made to host 'www.tdcj.texas.gov'. Adding certificate verification is strongly advised. See: https://urllib3.readthedocs.io/en/1.26.x/advanced-usage.html#ssl-warnings\n",
      "  warnings.warn(\n"
     ]
    },
    {
     "name": "stdout",
     "output_type": "stream",
     "text": [
      "Scraping https://www.tdcj.texas.gov/death_row/dr_info/fullerjustin.html ...\n"
     ]
    },
    {
     "name": "stderr",
     "output_type": "stream",
     "text": [
      "C:\\Users\\Alfajiri\\anaconda3\\Lib\\site-packages\\urllib3\\connectionpool.py:1056: InsecureRequestWarning: Unverified HTTPS request is being made to host 'www.tdcj.texas.gov'. Adding certificate verification is strongly advised. See: https://urllib3.readthedocs.io/en/1.26.x/advanced-usage.html#ssl-warnings\n",
      "  warnings.warn(\n"
     ]
    },
    {
     "name": "stdout",
     "output_type": "stream",
     "text": [
      "Scraping https://www.tdcj.texas.gov/death_row/dr_info/hinojosarichard.html ...\n"
     ]
    },
    {
     "name": "stderr",
     "output_type": "stream",
     "text": [
      "C:\\Users\\Alfajiri\\anaconda3\\Lib\\site-packages\\urllib3\\connectionpool.py:1056: InsecureRequestWarning: Unverified HTTPS request is being made to host 'www.tdcj.texas.gov'. Adding certificate verification is strongly advised. See: https://urllib3.readthedocs.io/en/1.26.x/advanced-usage.html#ssl-warnings\n",
      "  warnings.warn(\n"
     ]
    },
    {
     "name": "stdout",
     "output_type": "stream",
     "text": [
      "Scraping https://www.tdcj.texas.gov/death_row/dr_info/wyattwilliam.html ...\n"
     ]
    },
    {
     "name": "stderr",
     "output_type": "stream",
     "text": [
      "C:\\Users\\Alfajiri\\anaconda3\\Lib\\site-packages\\urllib3\\connectionpool.py:1056: InsecureRequestWarning: Unverified HTTPS request is being made to host 'www.tdcj.texas.gov'. Adding certificate verification is strongly advised. See: https://urllib3.readthedocs.io/en/1.26.x/advanced-usage.html#ssl-warnings\n",
      "  warnings.warn(\n"
     ]
    },
    {
     "name": "stdout",
     "output_type": "stream",
     "text": [
      "Invalid filetype https://www.tdcj.texas.gov/death_row/dr_info/andersonrobert.jpg . Continuing...\n",
      "Invalid filetype https://www.tdcj.texas.gov/death_row/dr_info/brownmauriceo.jpg . Continuing...\n",
      "Invalid filetype https://www.tdcj.texas.gov/death_row/dr_info/obrienderrick.jpg . Continuing...\n",
      "Scraping https://www.tdcj.texas.gov/death_row/dr_info/resendizangel.html ...\n"
     ]
    },
    {
     "name": "stderr",
     "output_type": "stream",
     "text": [
      "C:\\Users\\Alfajiri\\anaconda3\\Lib\\site-packages\\urllib3\\connectionpool.py:1056: InsecureRequestWarning: Unverified HTTPS request is being made to host 'www.tdcj.texas.gov'. Adding certificate verification is strongly advised. See: https://urllib3.readthedocs.io/en/1.26.x/advanced-usage.html#ssl-warnings\n",
      "  warnings.warn(\n"
     ]
    },
    {
     "name": "stdout",
     "output_type": "stream",
     "text": [
      "Scraping https://www.tdcj.texas.gov/death_row/dr_info/reeselamont.html ...\n"
     ]
    },
    {
     "name": "stderr",
     "output_type": "stream",
     "text": [
      "C:\\Users\\Alfajiri\\anaconda3\\Lib\\site-packages\\urllib3\\connectionpool.py:1056: InsecureRequestWarning: Unverified HTTPS request is being made to host 'www.tdcj.texas.gov'. Adding certificate verification is strongly advised. See: https://urllib3.readthedocs.io/en/1.26.x/advanced-usage.html#ssl-warnings\n",
      "  warnings.warn(\n"
     ]
    },
    {
     "name": "stdout",
     "output_type": "stream",
     "text": [
      "Invalid filetype https://www.tdcj.texas.gov/death_row/dr_info/titsworthtimothy.jpg . Continuing...\n",
      "Invalid filetype https://www.tdcj.texas.gov/death_row/dr_info/aguilarjesus.jpg . Continuing...\n",
      "Scraping https://www.tdcj.texas.gov/death_row/dr_info/herronjermaine.html ...\n"
     ]
    },
    {
     "name": "stderr",
     "output_type": "stream",
     "text": [
      "C:\\Users\\Alfajiri\\anaconda3\\Lib\\site-packages\\urllib3\\connectionpool.py:1056: InsecureRequestWarning: Unverified HTTPS request is being made to host 'www.tdcj.texas.gov'. Adding certificate verification is strongly advised. See: https://urllib3.readthedocs.io/en/1.26.x/advanced-usage.html#ssl-warnings\n",
      "  warnings.warn(\n"
     ]
    },
    {
     "name": "stdout",
     "output_type": "stream",
     "text": [
      "Invalid filetype https://www.tdcj.texas.gov/death_row/dr_info/wilsonjackie.jpg . Continuing...\n",
      "Invalid filetype https://www.tdcj.texas.gov/death_row/dr_info/kincykevin.jpg . Continuing...\n",
      "Scraping https://www.tdcj.texas.gov/death_row/dr_info/salazarrobert.html ...\n"
     ]
    },
    {
     "name": "stderr",
     "output_type": "stream",
     "text": [
      "C:\\Users\\Alfajiri\\anaconda3\\Lib\\site-packages\\urllib3\\connectionpool.py:1056: InsecureRequestWarning: Unverified HTTPS request is being made to host 'www.tdcj.texas.gov'. Adding certificate verification is strongly advised. See: https://urllib3.readthedocs.io/en/1.26.x/advanced-usage.html#ssl-warnings\n",
      "  warnings.warn(\n"
     ]
    },
    {
     "name": "stdout",
     "output_type": "stream",
     "text": [
      "Scraping https://www.tdcj.texas.gov/death_row/dr_info/hughestommie.html ...\n"
     ]
    },
    {
     "name": "stderr",
     "output_type": "stream",
     "text": [
      "C:\\Users\\Alfajiri\\anaconda3\\Lib\\site-packages\\urllib3\\connectionpool.py:1056: InsecureRequestWarning: Unverified HTTPS request is being made to host 'www.tdcj.texas.gov'. Adding certificate verification is strongly advised. See: https://urllib3.readthedocs.io/en/1.26.x/advanced-usage.html#ssl-warnings\n",
      "  warnings.warn(\n"
     ]
    },
    {
     "name": "stdout",
     "output_type": "stream",
     "text": [
      "Invalid filetype https://www.tdcj.texas.gov/death_row/dr_info/smithclyde.jpg . Continuing...\n",
      "Scraping https://www.tdcj.texas.gov/death_row/dr_info/nevillerobert.html ...\n"
     ]
    },
    {
     "name": "stderr",
     "output_type": "stream",
     "text": [
      "C:\\Users\\Alfajiri\\anaconda3\\Lib\\site-packages\\urllib3\\connectionpool.py:1056: InsecureRequestWarning: Unverified HTTPS request is being made to host 'www.tdcj.texas.gov'. Adding certificate verification is strongly advised. See: https://urllib3.readthedocs.io/en/1.26.x/advanced-usage.html#ssl-warnings\n",
      "  warnings.warn(\n"
     ]
    },
    {
     "name": "stdout",
     "output_type": "stream",
     "text": [
      "Invalid filetype https://www.tdcj.texas.gov/death_row/dr_info/elizaldejaime.jpg . Continuing...\n",
      "Invalid filetype https://www.tdcj.texas.gov/death_row/dr_info/dudleymarion.jpg . Continuing...\n",
      "Invalid filetype https://www.tdcj.texas.gov/death_row/dr_info/thomasshannon.jpg . Continuing...\n",
      "Scraping https://www.tdcj.texas.gov/death_row/dr_info/rowellrobert.html ...\n"
     ]
    },
    {
     "name": "stderr",
     "output_type": "stream",
     "text": [
      "C:\\Users\\Alfajiri\\anaconda3\\Lib\\site-packages\\urllib3\\connectionpool.py:1056: InsecureRequestWarning: Unverified HTTPS request is being made to host 'www.tdcj.texas.gov'. Adding certificate verification is strongly advised. See: https://urllib3.readthedocs.io/en/1.26.x/advanced-usage.html#ssl-warnings\n",
      "  warnings.warn(\n"
     ]
    },
    {
     "name": "stdout",
     "output_type": "stream",
     "text": [
      "Invalid filetype https://www.tdcj.texas.gov/death_row/dr_info/thackercharles.jpg . Continuing...\n",
      "Scraping https://www.tdcj.texas.gov/death_row/dr_info/whitemelvin.html ...\n"
     ]
    },
    {
     "name": "stderr",
     "output_type": "stream",
     "text": [
      "C:\\Users\\Alfajiri\\anaconda3\\Lib\\site-packages\\urllib3\\connectionpool.py:1056: InsecureRequestWarning: Unverified HTTPS request is being made to host 'www.tdcj.texas.gov'. Adding certificate verification is strongly advised. See: https://urllib3.readthedocs.io/en/1.26.x/advanced-usage.html#ssl-warnings\n",
      "  warnings.warn(\n"
     ]
    },
    {
     "name": "stdout",
     "output_type": "stream",
     "text": [
      "Scraping https://www.tdcj.texas.gov/death_row/dr_info/ramirezluis.html ...\n"
     ]
    },
    {
     "name": "stderr",
     "output_type": "stream",
     "text": [
      "C:\\Users\\Alfajiri\\anaconda3\\Lib\\site-packages\\urllib3\\connectionpool.py:1056: InsecureRequestWarning: Unverified HTTPS request is being made to host 'www.tdcj.texas.gov'. Adding certificate verification is strongly advised. See: https://urllib3.readthedocs.io/en/1.26.x/advanced-usage.html#ssl-warnings\n",
      "  warnings.warn(\n"
     ]
    },
    {
     "name": "stdout",
     "output_type": "stream",
     "text": [
      "Invalid filetype https://www.tdcj.texas.gov/death_row/dr_info/howardronald.jpg . Continuing...\n",
      "Invalid filetype https://www.tdcj.texas.gov/death_row/dr_info/newtonfrancis.jpg . Continuing...\n",
      "Invalid filetype https://www.tdcj.texas.gov/death_row/dr_info/shieldsrobert.jpg . Continuing...\n",
      "Invalid filetype https://www.tdcj.texas.gov/death_row/dr_info/sterlinggary.jpg . Continuing...\n",
      "Scraping https://www.tdcj.texas.gov/death_row/dr_info/martinezdavid.html ...\n"
     ]
    },
    {
     "name": "stderr",
     "output_type": "stream",
     "text": [
      "C:\\Users\\Alfajiri\\anaconda3\\Lib\\site-packages\\urllib3\\connectionpool.py:1056: InsecureRequestWarning: Unverified HTTPS request is being made to host 'www.tdcj.texas.gov'. Adding certificate verification is strongly advised. See: https://urllib3.readthedocs.io/en/1.26.x/advanced-usage.html#ssl-warnings\n",
      "  warnings.warn(\n"
     ]
    },
    {
     "name": "stdout",
     "output_type": "stream",
     "text": [
      "Scraping https://www.tdcj.texas.gov/death_row/dr_info/martinezalexander.html ...\n"
     ]
    },
    {
     "name": "stderr",
     "output_type": "stream",
     "text": [
      "C:\\Users\\Alfajiri\\anaconda3\\Lib\\site-packages\\urllib3\\connectionpool.py:1056: InsecureRequestWarning: Unverified HTTPS request is being made to host 'www.tdcj.texas.gov'. Adding certificate verification is strongly advised. See: https://urllib3.readthedocs.io/en/1.26.x/advanced-usage.html#ssl-warnings\n",
      "  warnings.warn(\n"
     ]
    },
    {
     "name": "stdout",
     "output_type": "stream",
     "text": [
      "Invalid filetype https://www.tdcj.texas.gov/death_row/dr_info/cartwrightrichard.jpg . Continuing...\n",
      "Invalid filetype https://www.tdcj.texas.gov/death_row/dr_info/wolfebryan.jpg . Continuing...\n",
      "Scraping https://www.tdcj.texas.gov/death_row/dr_info/pursleylonnie.html ...\n"
     ]
    },
    {
     "name": "stderr",
     "output_type": "stream",
     "text": [
      "C:\\Users\\Alfajiri\\anaconda3\\Lib\\site-packages\\urllib3\\connectionpool.py:1056: InsecureRequestWarning: Unverified HTTPS request is being made to host 'www.tdcj.texas.gov'. Adding certificate verification is strongly advised. See: https://urllib3.readthedocs.io/en/1.26.x/advanced-usage.html#ssl-warnings\n",
      "  warnings.warn(\n"
     ]
    },
    {
     "name": "stdout",
     "output_type": "stream",
     "text": [
      "Invalid filetype https://www.tdcj.texas.gov/death_row/dr_info/robertsdouglas.jpg . Continuing...\n",
      "Invalid filetype https://www.tdcj.texas.gov/death_row/dr_info/hoppergeorge.jpg . Continuing...\n",
      "Invalid filetype https://www.tdcj.texas.gov/death_row/dr_info/bagwelldennis.jpg . Continuing...\n",
      "Invalid filetype https://www.tdcj.texas.gov/death_row/dr_info/kunkletroy.jpg . Continuing...\n",
      "Scraping https://www.tdcj.texas.gov/death_row/dr_info/porterjames.html ...\n"
     ]
    },
    {
     "name": "stderr",
     "output_type": "stream",
     "text": [
      "C:\\Users\\Alfajiri\\anaconda3\\Lib\\site-packages\\urllib3\\connectionpool.py:1056: InsecureRequestWarning: Unverified HTTPS request is being made to host 'www.tdcj.texas.gov'. Adding certificate verification is strongly advised. See: https://urllib3.readthedocs.io/en/1.26.x/advanced-usage.html#ssl-warnings\n",
      "  warnings.warn(\n"
     ]
    },
    {
     "name": "stdout",
     "output_type": "stream",
     "text": [
      "Invalid filetype https://www.tdcj.texas.gov/death_row/dr_info/fuentesanthony.jpg . Continuing...\n",
      "Scraping https://www.tdcj.texas.gov/death_row/dr_info/mcwilliamsfrederick.html ...\n"
     ]
    },
    {
     "name": "stderr",
     "output_type": "stream",
     "text": [
      "C:\\Users\\Alfajiri\\anaconda3\\Lib\\site-packages\\urllib3\\connectionpool.py:1056: InsecureRequestWarning: Unverified HTTPS request is being made to host 'www.tdcj.texas.gov'. Adding certificate verification is strongly advised. See: https://urllib3.readthedocs.io/en/1.26.x/advanced-usage.html#ssl-warnings\n",
      "  warnings.warn(\n"
     ]
    },
    {
     "name": "stdout",
     "output_type": "stream",
     "text": [
      "Invalid filetype https://www.tdcj.texas.gov/death_row/dr_info/mccullumdemarco.jpg . Continuing...\n",
      "Scraping https://www.tdcj.texas.gov/death_row/dr_info/morrowrobert.html ...\n"
     ]
    },
    {
     "name": "stderr",
     "output_type": "stream",
     "text": [
      "C:\\Users\\Alfajiri\\anaconda3\\Lib\\site-packages\\urllib3\\connectionpool.py:1056: InsecureRequestWarning: Unverified HTTPS request is being made to host 'www.tdcj.texas.gov'. Adding certificate verification is strongly advised. See: https://urllib3.readthedocs.io/en/1.26.x/advanced-usage.html#ssl-warnings\n",
      "  warnings.warn(\n"
     ]
    },
    {
     "name": "stdout",
     "output_type": "stream",
     "text": [
      "Invalid filetype https://www.tdcj.texas.gov/death_row/dr_info/morrislorenzo.jpg . Continuing...\n",
      "Invalid filetype https://www.tdcj.texas.gov/death_row/dr_info/greendominique.jpg . Continuing...\n",
      "Invalid filetype https://www.tdcj.texas.gov/death_row/dr_info/morrowricky.jpg . Continuing...\n",
      "Invalid filetype https://www.tdcj.texas.gov/death_row/dr_info/aldrichdonald.jpg . Continuing...\n",
      "Invalid filetype https://www.tdcj.texas.gov/death_row/dr_info/minielpeter.jpg . Continuing...\n",
      "Invalid filetype https://www.tdcj.texas.gov/death_row/dr_info/greenedward.jpg . Continuing...\n",
      "Invalid filetype https://www.tdcj.texas.gov/death_row/dr_info/floresandrew.jpg . Continuing...\n",
      "Invalid filetype https://www.tdcj.texas.gov/death_row/dr_info/allridgejames.jpg . Continuing...\n",
      "Invalid filetype https://www.tdcj.texas.gov/death_row/dr_info/busbyjasen.jpg . Continuing...\n",
      "Invalid filetype https://www.tdcj.texas.gov/death_row/dr_info/harrisdavid.jpg . Continuing...\n",
      "Invalid filetype https://www.tdcj.texas.gov/death_row/dr_info/pattersonkelsey.jpg . Continuing...\n",
      "Scraping https://www.tdcj.texas.gov/death_row/dr_info/cottonmarcus.html ...\n"
     ]
    },
    {
     "name": "stderr",
     "output_type": "stream",
     "text": [
      "C:\\Users\\Alfajiri\\anaconda3\\Lib\\site-packages\\urllib3\\connectionpool.py:1056: InsecureRequestWarning: Unverified HTTPS request is being made to host 'www.tdcj.texas.gov'. Adding certificate verification is strongly advised. See: https://urllib3.readthedocs.io/en/1.26.x/advanced-usage.html#ssl-warnings\n",
      "  warnings.warn(\n"
     ]
    },
    {
     "name": "stdout",
     "output_type": "stream",
     "text": [
      "Invalid filetype https://www.tdcj.texas.gov/death_row/dr_info/willinghamcameron.jpg . Continuing...\n",
      "Invalid filetype https://www.tdcj.texas.gov/death_row/dr_info/hopkinsbobby.jpg . Continuing...\n",
      "Invalid filetype https://www.tdcj.texas.gov/death_row/dr_info/lagroneedward.jpg . Continuing...\n",
      "Invalid filetype https://www.tdcj.texas.gov/death_row/dr_info/vickersbilly.jpg . Continuing...\n",
      "Invalid filetype https://www.tdcj.texas.gov/death_row/dr_info/zimmermankevin.jpg . Continuing...\n",
      "Invalid filetype https://www.tdcj.texas.gov/death_row/dr_info/brucekenneth.jpg . Continuing...\n",
      "Scraping https://www.tdcj.texas.gov/death_row/dr_info/matthewsynobe.html ...\n"
     ]
    },
    {
     "name": "stderr",
     "output_type": "stream",
     "text": [
      "C:\\Users\\Alfajiri\\anaconda3\\Lib\\site-packages\\urllib3\\connectionpool.py:1056: InsecureRequestWarning: Unverified HTTPS request is being made to host 'www.tdcj.texas.gov'. Adding certificate verification is strongly advised. See: https://urllib3.readthedocs.io/en/1.26.x/advanced-usage.html#ssl-warnings\n",
      "  warnings.warn(\n"
     ]
    },
    {
     "name": "stdout",
     "output_type": "stream",
     "text": [
      "Invalid filetype https://www.tdcj.texas.gov/death_row/dr_info/murphyivan.jpg . Continuing...\n",
      "Invalid filetype https://www.tdcj.texas.gov/death_row/dr_info/duncanrichard.jpg . Continuing...\n",
      "Invalid filetype https://www.tdcj.texas.gov/death_row/dr_info/henryrobert.jpg . Continuing...\n",
      "Scraping https://www.tdcj.texas.gov/death_row/dr_info/hayeslarry.html ...\n"
     ]
    },
    {
     "name": "stderr",
     "output_type": "stream",
     "text": [
      "C:\\Users\\Alfajiri\\anaconda3\\Lib\\site-packages\\urllib3\\connectionpool.py:1056: InsecureRequestWarning: Unverified HTTPS request is being made to host 'www.tdcj.texas.gov'. Adding certificate verification is strongly advised. See: https://urllib3.readthedocs.io/en/1.26.x/advanced-usage.html#ssl-warnings\n",
      "  warnings.warn(\n"
     ]
    },
    {
     "name": "stdout",
     "output_type": "stream",
     "text": [
      "Invalid filetype https://www.tdcj.texas.gov/death_row/dr_info/janeckaallen.jpg . Continuing...\n",
      "Invalid filetype https://www.tdcj.texas.gov/death_row/dr_info/ransomcedric.jpg . Continuing...\n",
      "Scraping https://www.tdcj.texas.gov/death_row/dr_info/blackchristopher.html ...\n"
     ]
    },
    {
     "name": "stderr",
     "output_type": "stream",
     "text": [
      "C:\\Users\\Alfajiri\\anaconda3\\Lib\\site-packages\\urllib3\\connectionpool.py:1056: InsecureRequestWarning: Unverified HTTPS request is being made to host 'www.tdcj.texas.gov'. Adding certificate verification is strongly advised. See: https://urllib3.readthedocs.io/en/1.26.x/advanced-usage.html#ssl-warnings\n",
      "  warnings.warn(\n"
     ]
    },
    {
     "name": "stdout",
     "output_type": "stream",
     "text": [
      "Invalid filetype https://www.tdcj.texas.gov/death_row/dr_info/crawfordhilton.jpg . Continuing...\n",
      "Invalid filetype https://www.tdcj.texas.gov/death_row/dr_info/johnsonkia.jpg . Continuing...\n",
      "Invalid filetype https://www.tdcj.texas.gov/death_row/dr_info/jacobsbruce.jpg . Continuing...\n",
      "Invalid filetype https://www.tdcj.texas.gov/death_row/dr_info/vaughnroger.jpg . Continuing...\n",
      "Invalid filetype https://www.tdcj.texas.gov/death_row/dr_info/chavezjohn.jpg . Continuing...\n",
      "Invalid filetype https://www.tdcj.texas.gov/death_row/dr_info/colburnjames.jpg . Continuing...\n",
      "Scraping https://www.tdcj.texas.gov/death_row/dr_info/claykeith.html ...\n"
     ]
    },
    {
     "name": "stderr",
     "output_type": "stream",
     "text": [
      "C:\\Users\\Alfajiri\\anaconda3\\Lib\\site-packages\\urllib3\\connectionpool.py:1056: InsecureRequestWarning: Unverified HTTPS request is being made to host 'www.tdcj.texas.gov'. Adding certificate verification is strongly advised. See: https://urllib3.readthedocs.io/en/1.26.x/advanced-usage.html#ssl-warnings\n",
      "  warnings.warn(\n"
     ]
    },
    {
     "name": "stdout",
     "output_type": "stream",
     "text": [
      "Invalid filetype https://www.tdcj.texas.gov/death_row/dr_info/cookbobby.jpg . Continuing...\n",
      "Scraping https://www.tdcj.texas.gov/death_row/dr_info/williamsrichard.html ...\n"
     ]
    },
    {
     "name": "stderr",
     "output_type": "stream",
     "text": [
      "C:\\Users\\Alfajiri\\anaconda3\\Lib\\site-packages\\urllib3\\connectionpool.py:1056: InsecureRequestWarning: Unverified HTTPS request is being made to host 'www.tdcj.texas.gov'. Adding certificate verification is strongly advised. See: https://urllib3.readthedocs.io/en/1.26.x/advanced-usage.html#ssl-warnings\n",
      "  warnings.warn(\n"
     ]
    },
    {
     "name": "stdout",
     "output_type": "stream",
     "text": [
      "Invalid filetype https://www.tdcj.texas.gov/death_row/dr_info/dunnhenry.jpg . Continuing...\n",
      "Invalid filetype https://www.tdcj.texas.gov/death_row/dr_info/elliottjohn.jpg . Continuing...\n",
      "Invalid filetype https://www.tdcj.texas.gov/death_row/dr_info/riddlegranville.jpg . Continuing...\n",
      "Invalid filetype https://www.tdcj.texas.gov/death_row/dr_info/dinkinsrichard.jpg . Continuing...\n",
      "Invalid filetype https://www.tdcj.texas.gov/death_row/dr_info/curryalva.jpg . Continuing...\n",
      "Invalid filetype https://www.tdcj.texas.gov/death_row/dr_info/lookingbillrobert.jpg . Continuing...\n",
      "Scraping https://www.tdcj.texas.gov/death_row/dr_info/baltazarjohn.html ...\n"
     ]
    },
    {
     "name": "stderr",
     "output_type": "stream",
     "text": [
      "C:\\Users\\Alfajiri\\anaconda3\\Lib\\site-packages\\urllib3\\connectionpool.py:1056: InsecureRequestWarning: Unverified HTTPS request is being made to host 'www.tdcj.texas.gov'. Adding certificate verification is strongly advised. See: https://urllib3.readthedocs.io/en/1.26.x/advanced-usage.html#ssl-warnings\n",
      "  warnings.warn(\n"
     ]
    },
    {
     "name": "stdout",
     "output_type": "stream",
     "text": [
      "Invalid filetype https://www.tdcj.texas.gov/death_row/dr_info/gallamoresamuel.jpg . Continuing...\n",
      "Invalid filetype https://www.tdcj.texas.gov/death_row/dr_info/collierjames.jpg . Continuing...\n",
      "Invalid filetype https://www.tdcj.texas.gov/death_row/dr_info/rojasleonard.jpg . Continuing...\n",
      "Invalid filetype https://www.tdcj.texas.gov/death_row/dr_info/chappellwilliam.jpg . Continuing...\n",
      "Invalid filetype https://www.tdcj.texas.gov/death_row/dr_info/ogancraig.jpg . Continuing...\n",
      "Invalid filetype https://www.tdcj.texas.gov/death_row/dr_info/powelljames.jpg . Continuing...\n",
      "Invalid filetype https://www.tdcj.texas.gov/death_row/dr_info/kingcalvin.jpg . Continuing...\n",
      "Invalid filetype https://www.tdcj.texas.gov/death_row/dr_info/maysrex.jpg . Continuing...\n",
      "Invalid filetype https://www.tdcj.texas.gov/death_row/dr_info/shamburgerron.jpg . Continuing...\n",
      "Invalid filetype https://www.tdcj.texas.gov/death_row/dr_info/patrickjessie.jpg . Continuing...\n",
      "Invalid filetype https://www.tdcj.texas.gov/death_row/dr_info/walkertony.jpg . Continuing...\n",
      "Invalid filetype https://www.tdcj.texas.gov/death_row/dr_info/pattersontoronto.jpg . Continuing...\n",
      "Invalid filetype https://www.tdcj.texas.gov/death_row/dr_info/etheridgegary.jpg . Continuing...\n",
      "Invalid filetype https://www.tdcj.texas.gov/death_row/dr_info/medinajavier.jpg . Continuing...\n",
      "Invalid filetype https://www.tdcj.texas.gov/death_row/dr_info/jonestj.jpg . Continuing...\n",
      "Invalid filetype https://www.tdcj.texas.gov/death_row/dr_info/kutznerrichard.jpg . Continuing...\n",
      "Invalid filetype https://www.tdcj.texas.gov/death_row/dr_info/williamsjeffrey.jpg . Continuing...\n",
      "Invalid filetype https://www.tdcj.texas.gov/death_row/dr_info/coulsonrobert.jpg . Continuing...\n",
      "Invalid filetype https://www.tdcj.texas.gov/death_row/dr_info/reneaudaniel.jpg . Continuing...\n",
      "Invalid filetype https://www.tdcj.texas.gov/death_row/dr_info/bakerstanley.jpg . Continuing...\n",
      "Invalid filetype https://www.tdcj.texas.gov/death_row/dr_info/beazleynapolean.jpg . Continuing...\n",
      "Invalid filetype https://www.tdcj.texas.gov/death_row/dr_info/martinezjohnny.jpg . Continuing...\n",
      "Invalid filetype https://www.tdcj.texas.gov/death_row/dr_info/styronronford.jpg . Continuing...\n",
      "Invalid filetype https://www.tdcj.texas.gov/death_row/dr_info/reevesreginald.jpg . Continuing...\n",
      "Invalid filetype https://www.tdcj.texas.gov/death_row/dr_info/hernandezrodolfo.jpg . Continuing...\n",
      "Invalid filetype https://www.tdcj.texas.gov/death_row/dr_info/caseygerald.jpg . Continuing...\n",
      "Invalid filetype https://www.tdcj.texas.gov/death_row/dr_info/burnswilliam.jpg . Continuing...\n",
      "Scraping https://www.tdcj.texas.gov/death_row/dr_info/santellanjose.html ...\n"
     ]
    },
    {
     "name": "stderr",
     "output_type": "stream",
     "text": [
      "C:\\Users\\Alfajiri\\anaconda3\\Lib\\site-packages\\urllib3\\connectionpool.py:1056: InsecureRequestWarning: Unverified HTTPS request is being made to host 'www.tdcj.texas.gov'. Adding certificate verification is strongly advised. See: https://urllib3.readthedocs.io/en/1.26.x/advanced-usage.html#ssl-warnings\n",
      "  warnings.warn(\n"
     ]
    },
    {
     "name": "stdout",
     "output_type": "stream",
     "text": [
      "Invalid filetype https://www.tdcj.texas.gov/death_row/dr_info/tignergerald.jpg . Continuing...\n",
      "Invalid filetype https://www.tdcj.texas.gov/death_row/dr_info/delkmonty.jpg . Continuing...\n",
      "Invalid filetype https://www.tdcj.texas.gov/death_row/dr_info/hafdahlrandall.jpg . Continuing...\n",
      "Invalid filetype https://www.tdcj.texas.gov/death_row/dr_info/brousardwindell.jpg . Continuing...\n",
      "Invalid filetype https://www.tdcj.texas.gov/death_row/dr_info/arnoldjermarr.jpg . Continuing...\n",
      "Invalid filetype https://www.tdcj.texas.gov/death_row/dr_info/mooremichael.jpg . Continuing...\n",
      "Invalid filetype https://www.tdcj.texas.gov/death_row/dr_info/cooksvincent.jpg . Continuing...\n",
      "Invalid filetype https://www.tdcj.texas.gov/death_row/dr_info/ruddemerson.jpg . Continuing...\n",
      "Invalid filetype https://www.tdcj.texas.gov/death_row/dr_info/tuckerjefferey.jpg . Continuing...\n",
      "Invalid filetype https://www.tdcj.texas.gov/death_row/dr_info/mitchellgerald.jpg . Continuing...\n",
      "Invalid filetype https://www.tdcj.texas.gov/death_row/dr_info/knoxroy.jpg . Continuing...\n",
      "Invalid filetype https://www.tdcj.texas.gov/death_row/dr_info/doughtiejeffery.jpg . Continuing...\n",
      "Invalid filetype https://www.tdcj.texas.gov/death_row/dr_info/hillmack.jpg . Continuing...\n",
      "Invalid filetype https://www.tdcj.texas.gov/death_row/dr_info/wilkensjames.jpg . Continuing...\n",
      "Invalid filetype https://www.tdcj.texas.gov/death_row/dr_info/richardsonmiguel.jpg . Continuing...\n",
      "Invalid filetype https://www.tdcj.texas.gov/death_row/dr_info/wheatjohn.jpg . Continuing...\n",
      "Invalid filetype https://www.tdcj.texas.gov/death_row/dr_info/goffdavid.jpg . Continuing...\n",
      "Invalid filetype https://www.tdcj.texas.gov/death_row/dr_info/masseyjason.jpg . Continuing...\n",
      "Invalid filetype https://www.tdcj.texas.gov/death_row/dr_info/dowthittdennis.jpg . Continuing...\n",
      "Invalid filetype https://www.tdcj.texas.gov/death_row/dr_info/hernadezadolph.jpg . Continuing...\n",
      "Invalid filetype https://www.tdcj.texas.gov/death_row/dr_info/alexandercaruthers.jpg . Continuing...\n",
      "Invalid filetype https://www.tdcj.texas.gov/death_row/dr_info/goodwinalvin.jpg . Continuing...\n",
      "Invalid filetype https://www.tdcj.texas.gov/death_row/dr_info/clarkjack.jpg . Continuing...\n",
      "Invalid filetype https://www.tdcj.texas.gov/death_row/dr_info/jonesclaude.jpg . Continuing...\n",
      "Invalid filetype https://www.tdcj.texas.gov/death_row/dr_info/hittledaniel.jpg . Continuing...\n",
      "Invalid filetype https://www.tdcj.texas.gov/death_row/dr_info/millergarry.jpg . Continuing...\n",
      "Invalid filetype https://www.tdcj.texas.gov/death_row/dr_info/chamberstony.jpg . Continuing...\n",
      "Invalid filetype https://www.tdcj.texas.gov/death_row/dr_info/lawtonstacey.jpg . Continuing...\n",
      "Scraping https://www.tdcj.texas.gov/death_row/dr_info/floresmiguel.html ...\n"
     ]
    },
    {
     "name": "stderr",
     "output_type": "stream",
     "text": [
      "C:\\Users\\Alfajiri\\anaconda3\\Lib\\site-packages\\urllib3\\connectionpool.py:1056: InsecureRequestWarning: Unverified HTTPS request is being made to host 'www.tdcj.texas.gov'. Adding certificate verification is strongly advised. See: https://urllib3.readthedocs.io/en/1.26.x/advanced-usage.html#ssl-warnings\n",
      "  warnings.warn(\n"
     ]
    },
    {
     "name": "stdout",
     "output_type": "stream",
     "text": [
      "Invalid filetype https://www.tdcj.texas.gov/death_row/dr_info/dillinghamjeffery.jpg . Continuing...\n",
      "Invalid filetype https://www.tdcj.texas.gov/death_row/dr_info/mcginnricky.jpg . Continuing...\n",
      "Invalid filetype https://www.tdcj.texas.gov/death_row/dr_info/caldwelljeffrey.jpg . Continuing...\n",
      "Invalid filetype https://www.tdcj.texas.gov/death_row/dr_info/gibbsdavid.jpg . Continuing...\n",
      "Invalid filetype https://www.tdcj.texas.gov/death_row/dr_info/jonesrichard.jpg . Continuing...\n",
      "Invalid filetype https://www.tdcj.texas.gov/death_row/dr_info/satterwhitejohn.jpg . Continuing...\n",
      "Invalid filetype https://www.tdcj.texas.gov/death_row/dr_info/cruzoliver.jpg . Continuing...\n",
      "Invalid filetype https://www.tdcj.texas.gov/death_row/dr_info/robersonbrian.jpg . Continuing...\n",
      "Invalid filetype https://www.tdcj.texas.gov/death_row/dr_info/soriajuan.jpg . Continuing...\n",
      "Invalid filetype https://www.tdcj.texas.gov/death_row/dr_info/joinerorien.jpg . Continuing...\n",
      "Invalid filetype https://www.tdcj.texas.gov/death_row/dr_info/sanmigueljessy.jpg . Continuing...\n",
      "Invalid filetype https://www.tdcj.texas.gov/death_row/dr_info/grahamgary.jpg . Continuing...\n",
      "Invalid filetype https://www.tdcj.texas.gov/death_row/dr_info/nunciopaul.jpg . Continuing...\n",
      "Invalid filetype https://www.tdcj.texas.gov/death_row/dr_info/burksjohn.jpg . Continuing...\n",
      "Invalid filetype https://www.tdcj.texas.gov/death_row/dr_info/masonthomas.jpg . Continuing...\n",
      "Invalid filetype https://www.tdcj.texas.gov/death_row/dr_info/carterrobertearl.jpg . Continuing...\n",
      "Invalid filetype https://www.tdcj.texas.gov/death_row/dr_info/claytonjames.jpg . Continuing...\n",
      "Invalid filetype https://www.tdcj.texas.gov/death_row/dr_info/fosterrichard.jpg . Continuing...\n",
      "Invalid filetype https://www.tdcj.texas.gov/death_row/dr_info/richardsonjames.jpg . Continuing...\n",
      "Invalid filetype https://www.tdcj.texas.gov/death_row/dr_info/mcbridemichael.jpg . Continuing...\n",
      "Invalid filetype https://www.tdcj.texas.gov/death_row/dr_info/kitchenswilliam.jpg . Continuing...\n",
      "Invalid filetype https://www.tdcj.texas.gov/death_row/dr_info/jacksontommy.jpg . Continuing...\n",
      "Invalid filetype https://www.tdcj.texas.gov/death_row/dr_info/gribbletimothy.jpg . Continuing...\n",
      "Invalid filetype https://www.tdcj.texas.gov/death_row/dr_info/wilkersonponchai.jpg . Continuing...\n",
      "Invalid filetype https://www.tdcj.texas.gov/death_row/dr_info/barnesodell.jpg . Continuing...\n",
      "Invalid filetype https://www.tdcj.texas.gov/death_row/dr_info/beetsbetty.jpg . Continuing...\n",
      "Invalid filetype https://www.tdcj.texas.gov/death_row/dr_info/gosscornelius.jpg . Continuing...\n",
      "Invalid filetype https://www.tdcj.texas.gov/death_row/dr_info/morelandjames.jpg . Continuing...\n",
      "Invalid filetype https://www.tdcj.texas.gov/death_row/dr_info/mcginnisglen.jpg . Continuing...\n",
      "Scraping https://www.tdcj.texas.gov/death_row/dr_info/hughesbilly.html ...\n"
     ]
    },
    {
     "name": "stderr",
     "output_type": "stream",
     "text": [
      "C:\\Users\\Alfajiri\\anaconda3\\Lib\\site-packages\\urllib3\\connectionpool.py:1056: InsecureRequestWarning: Unverified HTTPS request is being made to host 'www.tdcj.texas.gov'. Adding certificate verification is strongly advised. See: https://urllib3.readthedocs.io/en/1.26.x/advanced-usage.html#ssl-warnings\n",
      "  warnings.warn(\n"
     ]
    },
    {
     "name": "stdout",
     "output_type": "stream",
     "text": [
      "Invalid filetype https://www.tdcj.texas.gov/death_row/dr_info/robisonlarry.jpg . Continuing...\n",
      "Invalid filetype https://www.tdcj.texas.gov/death_row/dr_info/hicksdavid.jpg . Continuing...\n",
      "Invalid filetype https://www.tdcj.texas.gov/death_row/dr_info/goodmanspencer.jpg . Continuing...\n",
      "Invalid filetype https://www.tdcj.texas.gov/death_row/dr_info/heiselbetzearl.jpg . Continuing...\n",
      "Invalid filetype https://www.tdcj.texas.gov/death_row/dr_info/feldersammie.jpg . Continuing...\n",
      "Invalid filetype https://www.tdcj.texas.gov/death_row/dr_info/atworthrobert.jpg . Continuing...\n",
      "Invalid filetype https://www.tdcj.texas.gov/death_row/dr_info/beathardjames.jpg . Continuing...\n",
      "Invalid filetype https://www.tdcj.texas.gov/death_row/dr_info/longdavid.jpg . Continuing...\n",
      "Invalid filetype https://www.tdcj.texas.gov/death_row/dr_info/gutierrezjose.jpg . Continuing...\n",
      "Invalid filetype https://www.tdcj.texas.gov/death_row/dr_info/lambjohn.jpg . Continuing...\n",
      "Invalid filetype https://www.tdcj.texas.gov/death_row/dr_info/jenningsdesmond.jpg . Continuing...\n",
      "Invalid filetype https://www.tdcj.texas.gov/death_row/dr_info/cantudomingo.jpg . Continuing...\n",
      "Invalid filetype https://www.tdcj.texas.gov/death_row/dr_info/mcfaddenjerry.jpg . Continuing...\n",
      "Invalid filetype https://www.tdcj.texas.gov/death_row/dr_info/cranealvin.jpg . Continuing...\n",
      "Invalid filetype https://www.tdcj.texas.gov/death_row/dr_info/smithrichard.jpg . Continuing...\n",
      "Invalid filetype https://www.tdcj.texas.gov/death_row/dr_info/daviswilliam.jpg . Continuing...\n",
      "Invalid filetype https://www.tdcj.texas.gov/death_row/dr_info/barneswillis.jpg . Continuing...\n",
      "Invalid filetype https://www.tdcj.texas.gov/death_row/dr_info/_jonesrj.jpg . Continuing...\n",
      "Invalid filetype https://www.tdcj.texas.gov/death_row/dr_info/trevinojoe.jpg . Continuing...\n",
      "Invalid filetype https://www.tdcj.texas.gov/death_row/dr_info/earhartjames.jpg . Continuing...\n",
      "Invalid filetype https://www.tdcj.texas.gov/death_row/dr_info/dunnkenneth.jpg . Continuing...\n",
      "Invalid filetype https://www.tdcj.texas.gov/death_row/dr_info/boydcharles.jpg . Continuing...\n",
      "Invalid filetype https://www.tdcj.texas.gov/death_row/dr_info/blackmonricky.jpg . Continuing...\n",
      "Invalid filetype https://www.tdcj.texas.gov/death_row/dr_info/fullertyrone.jpg . Continuing...\n",
      "Invalid filetype https://www.tdcj.texas.gov/death_row/dr_info/tuttlecharles.jpg . Continuing...\n",
      "Invalid filetype https://www.tdcj.texas.gov/death_row/dr_info/faulderjoseph.jpg . Continuing...\n",
      "Invalid filetype https://www.tdcj.texas.gov/death_row/dr_info/littlewilliam.jpg . Continuing...\n",
      "Invalid filetype https://www.tdcj.texas.gov/death_row/dr_info/colemanclydell.jpg . Continuing...\n",
      "Invalid filetype https://www.tdcj.texas.gov/death_row/dr_info/delacruzjose.jpg . Continuing...\n",
      "Scraping https://www.tdcj.texas.gov/death_row/dr_info/foustaaron.html ...\n"
     ]
    },
    {
     "name": "stderr",
     "output_type": "stream",
     "text": [
      "C:\\Users\\Alfajiri\\anaconda3\\Lib\\site-packages\\urllib3\\connectionpool.py:1056: InsecureRequestWarning: Unverified HTTPS request is being made to host 'www.tdcj.texas.gov'. Adding certificate verification is strongly advised. See: https://urllib3.readthedocs.io/en/1.26.x/advanced-usage.html#ssl-warnings\n",
      "  warnings.warn(\n"
     ]
    },
    {
     "name": "stdout",
     "output_type": "stream",
     "text": [
      "Invalid filetype https://www.tdcj.texas.gov/death_row/dr_info/whiteexcell.jpg . Continuing...\n",
      "Invalid filetype https://www.tdcj.texas.gov/death_row/dr_info/rectorcharles.jpg . Continuing...\n",
      "Invalid filetype https://www.tdcj.texas.gov/death_row/dr_info/greennorman.jpg . Continuing...\n",
      "Invalid filetype https://www.tdcj.texas.gov/death_row/dr_info/cantuandrew.jpg . Continuing...\n",
      "Invalid filetype https://www.tdcj.texas.gov/death_row/dr_info/barberdanny.jpg . Continuing...\n",
      "Invalid filetype https://www.tdcj.texas.gov/death_row/dr_info/cordovageorge.jpg . Continuing...\n",
      "Invalid filetype https://www.tdcj.texas.gov/death_row/dr_info/vegamartin.jpg . Continuing...\n",
      "Invalid filetype https://www.tdcj.texas.gov/death_row/dr_info/farristroy.jpg . Continuing...\n",
      "Invalid filetype https://www.tdcj.texas.gov/death_row/dr_info/moodyjohn.jpg . Continuing...\n",
      "Invalid filetype https://www.tdcj.texas.gov/death_row/dr_info/meanesjames.jpg . Continuing...\n",
      "Invalid filetype https://www.tdcj.texas.gov/death_row/dr_info/emeryjeff.jpg . Continuing...\n",
      "Invalid filetype https://www.tdcj.texas.gov/death_row/dr_info/corwindaniel.jpg . Continuing...\n",
      "Invalid filetype https://www.tdcj.texas.gov/death_row/dr_info/mcduffkenneth.jpg . Continuing...\n",
      "Invalid filetype https://www.tdcj.texas.gov/death_row/dr_info/noblesjohnathan.jpg . Continuing...\n",
      "Invalid filetype https://www.tdcj.texas.gov/death_row/dr_info/cruzjavier.jpg . Continuing...\n",
      "Invalid filetype https://www.tdcj.texas.gov/death_row/dr_info/castillodavid.jpg . Continuing...\n",
      "Invalid filetype https://www.tdcj.texas.gov/death_row/dr_info/teaguedelbert.jpg . Continuing...\n",
      "Invalid filetype https://www.tdcj.texas.gov/death_row/dr_info/camachogenero.jpg . Continuing...\n",
      "Invalid filetype https://www.tdcj.texas.gov/death_row/dr_info/narvaizleopoldo.jpg . Continuing...\n",
      "Invalid filetype https://www.tdcj.texas.gov/death_row/dr_info/pylesjohnny.jpg . Continuing...\n",
      "Scraping https://www.tdcj.texas.gov/death_row/dr_info/boggessclifford.html ...\n"
     ]
    },
    {
     "name": "stderr",
     "output_type": "stream",
     "text": [
      "C:\\Users\\Alfajiri\\anaconda3\\Lib\\site-packages\\urllib3\\connectionpool.py:1056: InsecureRequestWarning: Unverified HTTPS request is being made to host 'www.tdcj.texas.gov'. Adding certificate verification is strongly advised. See: https://urllib3.readthedocs.io/en/1.26.x/advanced-usage.html#ssl-warnings\n",
      "  warnings.warn(\n"
     ]
    },
    {
     "name": "stdout",
     "output_type": "stream",
     "text": [
      "Invalid filetype https://www.tdcj.texas.gov/death_row/dr_info/munizpedro.jpg . Continuing...\n",
      "Invalid filetype https://www.tdcj.texas.gov/death_row/dr_info/carterrobertanthony.jpg . Continuing...\n",
      "Invalid filetype https://www.tdcj.texas.gov/death_row/dr_info/mcfarlandfrank.jpg . Continuing...\n",
      "Invalid filetype https://www.tdcj.texas.gov/death_row/dr_info/goschlesley.jpg . Continuing...\n",
      "Invalid filetype https://www.tdcj.texas.gov/death_row/dr_info/cannonjoseph.jpg . Continuing...\n",
      "Invalid filetype https://www.tdcj.texas.gov/death_row/dr_info/hoguejerry.jpg . Continuing...\n",
      "Invalid filetype https://www.tdcj.texas.gov/death_row/dr_info/renfrosteven.jpg . Continuing...\n",
      "Invalid filetype https://www.tdcj.texas.gov/death_row/dr_info/tuckerkarla.jpg . Continuing...\n",
      "Invalid filetype https://www.tdcj.texas.gov/death_row/dr_info/lockhartmichael.jpg . Continuing...\n",
      "Invalid filetype https://www.tdcj.texas.gov/death_row/dr_info/livingstoncharlie.jpg . Continuing...\n",
      "Invalid filetype https://www.tdcj.texas.gov/death_row/dr_info/sharpmichael.jpg . Continuing...\n",
      "Invalid filetype https://www.tdcj.texas.gov/death_row/dr_info/fulleraaron.jpg . Continuing...\n",
      "Invalid filetype https://www.tdcj.texas.gov/death_row/dr_info/lautiaua.jpg . Continuing...\n",
      "Invalid filetype https://www.tdcj.texas.gov/death_row/dr_info/ransomkenneth.jpg . Continuing...\n",
      "Invalid filetype https://www.tdcj.texas.gov/death_row/dr_info/greenricky.jpg . Continuing...\n",
      "Invalid filetype https://www.tdcj.texas.gov/death_row/dr_info/adanandusdwight.jpg . Continuing...\n",
      "Invalid filetype https://www.tdcj.texas.gov/death_row/dr_info/cockrumjohn.jpg . Continuing...\n",
      "Invalid filetype https://www.tdcj.texas.gov/death_row/dr_info/stonebenjamin.jpg . Continuing...\n",
      "Invalid filetype https://www.tdcj.texas.gov/death_row/dr_info/turnerjessel.jpg . Continuing...\n",
      "Invalid filetype https://www.tdcj.texas.gov/death_row/dr_info/davisjames.jpg . Continuing...\n",
      "Invalid filetype https://www.tdcj.texas.gov/death_row/dr_info/westrobert.jpg . Continuing...\n",
      "Invalid filetype https://www.tdcj.texas.gov/death_row/dr_info/montoyairineo.jpg . Continuing...\n",
      "Invalid filetype https://www.tdcj.texas.gov/death_row/dr_info/johnsoneddie.jpg . Continuing...\n",
      "Invalid filetype https://www.tdcj.texas.gov/death_row/dr_info/stokerdavid.jpg . Continuing...\n",
      "Invalid filetype https://www.tdcj.texas.gov/death_row/dr_info/behringerearl.jpg . Continuing...\n",
      "Invalid filetype https://www.tdcj.texas.gov/death_row/dr_info/losadadavis.jpg . Continuing...\n",
      "Invalid filetype https://www.tdcj.texas.gov/death_row/dr_info/johnsondorsie.jpg . Continuing...\n",
      "Invalid filetype https://www.tdcj.texas.gov/death_row/dr_info/harriskenneth.jpg . Continuing...\n",
      "Invalid filetype https://www.tdcj.texas.gov/death_row/dr_info/rogerspatrick.jpg . Continuing...\n",
      "Invalid filetype https://www.tdcj.texas.gov/death_row/dr_info/maddenrobert.jpg . Continuing...\n",
      "Invalid filetype https://www.tdcj.texas.gov/death_row/dr_info/whitelarry.jpg . Continuing...\n",
      "Invalid filetype https://www.tdcj.texas.gov/death_row/dr_info/callinsbruce.jpg . Continuing...\n",
      "Invalid filetype https://www.tdcj.texas.gov/death_row/dr_info/lackeyclarence.jpg . Continuing...\n",
      "Invalid filetype https://www.tdcj.texas.gov/death_row/dr_info/drinkardrichard.jpg . Continuing...\n",
      "Invalid filetype https://www.tdcj.texas.gov/death_row/dr_info/belyeuclifton.jpg . Continuing...\n",
      "Invalid filetype https://www.tdcj.texas.gov/death_row/dr_info/westleyanthony.jpg . Continuing...\n",
      "Invalid filetype https://www.tdcj.texas.gov/death_row/dr_info/washingtonterry.jpg . Continuing...\n",
      "Invalid filetype https://www.tdcj.texas.gov/death_row/dr_info/baldreeernest.jpg . Continuing...\n",
      "Invalid filetype https://www.tdcj.texas.gov/death_row/dr_info/boylebenjamin.jpg . Continuing...\n",
      "Invalid filetype https://www.tdcj.texas.gov/death_row/dr_info/gentrykenneth.jpg . Continuing...\n",
      "Invalid filetype https://www.tdcj.texas.gov/death_row/dr_info/woodsbillyjoe.jpg . Continuing...\n",
      "Invalid filetype https://www.tdcj.texas.gov/death_row/dr_info/spencedavid.jpg . Continuing...\n",
      "Invalid filetype https://www.tdcj.texas.gov/death_row/dr_info/hermandavid.jpg . Continuing...\n",
      "Invalid filetype https://www.tdcj.texas.gov/death_row/dr_info/barefieldjohn.jpg . Continuing...\n",
      "Invalid filetype https://www.tdcj.texas.gov/death_row/dr_info/brimagerichard.jpg . Continuing...\n",
      "Invalid filetype https://www.tdcj.texas.gov/death_row/dr_info/gonzalesjoe.jpg . Continuing...\n",
      "Invalid filetype https://www.tdcj.texas.gov/death_row/dr_info/granvielkenneth.jpg . Continuing...\n",
      "Invalid filetype https://www.tdcj.texas.gov/death_row/dr_info/jenkinsleo.jpg . Continuing...\n",
      "Invalid filetype https://www.tdcj.texas.gov/death_row/dr_info/briddlejames.jpg . Continuing...\n",
      "Invalid filetype https://www.tdcj.texas.gov/death_row/dr_info/bandaesequel.jpg . Continuing...\n",
      "Invalid filetype https://www.tdcj.texas.gov/death_row/dr_info/vuonghai.jpg . Continuing...\n",
      "Invalid filetype https://www.tdcj.texas.gov/death_row/dr_info/amosbernard.jpg . Continuing...\n",
      "Invalid filetype https://www.tdcj.texas.gov/death_row/dr_info/laneharold.jpg . Continuing...\n",
      "Invalid filetype https://www.tdcj.texas.gov/death_row/dr_info/johnsoncarl.jpg . Continuing...\n",
      "Invalid filetype https://www.tdcj.texas.gov/death_row/dr_info/sattiewhitevernon.jpg . Continuing...\n",
      "Invalid filetype https://www.tdcj.texas.gov/death_row/dr_info/hammondkarl.jpg . Continuing...\n",
      "Invalid filetype https://www.tdcj.texas.gov/death_row/dr_info/fearancejohn.jpg . Continuing...\n",
      "Invalid filetype https://www.tdcj.texas.gov/death_row/dr_info/allridgeronald.jpg . Continuing...\n",
      "Invalid filetype https://www.tdcj.texas.gov/death_row/dr_info/mannfletcher.jpg . Continuing...\n",
      "Invalid filetype https://www.tdcj.texas.gov/death_row/dr_info/maysnoble.jpg . Continuing...\n",
      "Invalid filetype https://www.tdcj.texas.gov/death_row/dr_info/hawkinssamuel.jpg . Continuing...\n",
      "Invalid filetype https://www.tdcj.texas.gov/death_row/dr_info/gardnerbilly.jpg . Continuing...\n",
      "Invalid filetype https://www.tdcj.texas.gov/death_row/dr_info/motleyjeffery.jpg . Continuing...\n",
      "Invalid filetype https://www.tdcj.texas.gov/death_row/dr_info/wiliamwillie.jpg . Continuing...\n",
      "Invalid filetype https://www.tdcj.texas.gov/death_row/dr_info/russellclifton.jpg . Continuing...\n",
      "Invalid filetype https://www.tdcj.texas.gov/death_row/dr_info/marquezmario.jpg . Continuing...\n",
      "Invalid filetype https://www.tdcj.texas.gov/death_row/dr_info/jacobsjesse.jpg . Continuing...\n",
      "Invalid filetype https://www.tdcj.texas.gov/death_row/dr_info/kinnamonraymond.jpg . Continuing...\n",
      "Invalid filetype https://www.tdcj.texas.gov/death_row/dr_info/clarkherman.jpg . Continuing...\n",
      "Invalid filetype https://www.tdcj.texas.gov/death_row/dr_info/bridgewarren.jpg . Continuing...\n",
      "Invalid filetype https://www.tdcj.texas.gov/death_row/dr_info/williamswalter.jpg . Continuing...\n",
      "Invalid filetype https://www.tdcj.texas.gov/death_row/dr_info/lottgeorge.jpg . Continuing...\n",
      "Invalid filetype https://www.tdcj.texas.gov/death_row/dr_info/gutierrezjessie.jpg . Continuing...\n",
      "Invalid filetype https://www.tdcj.texas.gov/death_row/dr_info/drewrobert.jpg . Continuing...\n",
      "Invalid filetype https://www.tdcj.texas.gov/death_row/dr_info/crankdenton.jpg . Continuing...\n",
      "Invalid filetype https://www.tdcj.texas.gov/death_row/dr_info/netherystephen.jpg . Continuing...\n",
      "Invalid filetype https://www.tdcj.texas.gov/death_row/dr_info/rougeaupaul.jpg . Continuing...\n",
      "Invalid filetype https://www.tdcj.texas.gov/death_row/dr_info/andersonlarry.jpg . Continuing...\n",
      "Invalid filetype https://www.tdcj.texas.gov/death_row/dr_info/beaversrichard.jpg . Continuing...\n",
      "Invalid filetype https://www.tdcj.texas.gov/death_row/dr_info/webbfreddie.jpg . Continuing...\n",
      "Invalid filetype https://www.tdcj.texas.gov/death_row/dr_info/barnardharold.jpg . Continuing...\n",
      "Invalid filetype https://www.tdcj.texas.gov/death_row/dr_info/phillipsclifford.jpg . Continuing...\n",
      "Invalid filetype https://www.tdcj.texas.gov/death_row/dr_info/cookanthony.jpg . Continuing...\n",
      "Invalid filetype https://www.tdcj.texas.gov/death_row/dr_info/bonhamanotnio.jpg . Continuing...\n",
      "Invalid filetype https://www.tdcj.texas.gov/death_row/dr_info/jamesjohnny.jpg . Continuing...\n",
      "Invalid filetype https://www.tdcj.texas.gov/death_row/dr_info/wilkersonrichard.jpg . Continuing...\n",
      "Scraping https://www.tdcj.texas.gov/death_row/dr_info/canturuben.html ...\n"
     ]
    },
    {
     "name": "stderr",
     "output_type": "stream",
     "text": [
      "C:\\Users\\Alfajiri\\anaconda3\\Lib\\site-packages\\urllib3\\connectionpool.py:1056: InsecureRequestWarning: Unverified HTTPS request is being made to host 'www.tdcj.texas.gov'. Adding certificate verification is strongly advised. See: https://urllib3.readthedocs.io/en/1.26.x/advanced-usage.html#ssl-warnings\n",
      "  warnings.warn(\n"
     ]
    },
    {
     "name": "stdout",
     "output_type": "stream",
     "text": [
      "Invalid filetype https://www.tdcj.texas.gov/death_row/dr_info/kellycarl.jpg . Continuing...\n",
      "Invalid filetype https://www.tdcj.texas.gov/death_row/dr_info/hollanddavid.jpg . Continuing...\n",
      "Invalid filetype https://www.tdcj.texas.gov/death_row/dr_info/jerniganjoseph.jpg . Continuing...\n",
      "Invalid filetype https://www.tdcj.texas.gov/death_row/dr_info/harrisdanny.jpg . Continuing...\n",
      "Invalid filetype https://www.tdcj.texas.gov/death_row/dr_info/harriscurtis.jpg . Continuing...\n",
      "Invalid filetype https://www.tdcj.texas.gov/death_row/dr_info/duffsmithmarkum.jpg . Continuing...\n",
      "Invalid filetype https://www.tdcj.texas.gov/death_row/dr_info/sawyersjohn.jpg . Continuing...\n",
      "Invalid filetype https://www.tdcj.texas.gov/death_row/dr_info/herreraleonel.jpg . Continuing...\n",
      "Invalid filetype https://www.tdcj.texas.gov/death_row/dr_info/stewartdarryl.jpg . Continuing...\n",
      "Invalid filetype https://www.tdcj.texas.gov/death_row/dr_info/montoyaramon.jpg . Continuing...\n",
      "Invalid filetype https://www.tdcj.texas.gov/death_row/dr_info/santanacarlos.jpg . Continuing...\n",
      "Scraping https://www.tdcj.texas.gov/death_row/dr_info/no_info_available.html ...\n"
     ]
    },
    {
     "name": "stderr",
     "output_type": "stream",
     "text": [
      "C:\\Users\\Alfajiri\\anaconda3\\Lib\\site-packages\\urllib3\\connectionpool.py:1056: InsecureRequestWarning: Unverified HTTPS request is being made to host 'www.tdcj.texas.gov'. Adding certificate verification is strongly advised. See: https://urllib3.readthedocs.io/en/1.26.x/advanced-usage.html#ssl-warnings\n",
      "  warnings.warn(\n"
     ]
    },
    {
     "name": "stdout",
     "output_type": "stream",
     "text": [
      "Scraping https://www.tdcj.texas.gov/death_row/dr_info/no_info_available.html ...\n"
     ]
    },
    {
     "name": "stderr",
     "output_type": "stream",
     "text": [
      "C:\\Users\\Alfajiri\\anaconda3\\Lib\\site-packages\\urllib3\\connectionpool.py:1056: InsecureRequestWarning: Unverified HTTPS request is being made to host 'www.tdcj.texas.gov'. Adding certificate verification is strongly advised. See: https://urllib3.readthedocs.io/en/1.26.x/advanced-usage.html#ssl-warnings\n",
      "  warnings.warn(\n"
     ]
    },
    {
     "name": "stdout",
     "output_type": "stream",
     "text": [
      "Invalid filetype https://www.tdcj.texas.gov/death_row/dr_info/demouchettejames.jpg . Continuing...\n",
      "Scraping https://www.tdcj.texas.gov/death_row/dr_info/no_info_available.html ...\n"
     ]
    },
    {
     "name": "stderr",
     "output_type": "stream",
     "text": [
      "C:\\Users\\Alfajiri\\anaconda3\\Lib\\site-packages\\urllib3\\connectionpool.py:1056: InsecureRequestWarning: Unverified HTTPS request is being made to host 'www.tdcj.texas.gov'. Adding certificate verification is strongly advised. See: https://urllib3.readthedocs.io/en/1.26.x/advanced-usage.html#ssl-warnings\n",
      "  warnings.warn(\n"
     ]
    },
    {
     "name": "stdout",
     "output_type": "stream",
     "text": [
      "Scraping https://www.tdcj.texas.gov/death_row/dr_info/no_info_available.html ...\n"
     ]
    },
    {
     "name": "stderr",
     "output_type": "stream",
     "text": [
      "C:\\Users\\Alfajiri\\anaconda3\\Lib\\site-packages\\urllib3\\connectionpool.py:1056: InsecureRequestWarning: Unverified HTTPS request is being made to host 'www.tdcj.texas.gov'. Adding certificate verification is strongly advised. See: https://urllib3.readthedocs.io/en/1.26.x/advanced-usage.html#ssl-warnings\n",
      "  warnings.warn(\n"
     ]
    },
    {
     "name": "stdout",
     "output_type": "stream",
     "text": [
      "Invalid filetype https://www.tdcj.texas.gov/death_row/dr_info/romerojesus.jpg . Continuing...\n",
      "Invalid filetype https://www.tdcj.texas.gov/death_row/dr_info/mayjustin.jpg . Continuing...\n",
      "Invalid filetype https://www.tdcj.texas.gov/death_row/dr_info/whitebilly.jpg . Continuing...\n",
      "Invalid filetype https://www.tdcj.texas.gov/death_row/dr_info/ellisedward.jpg . Continuing...\n",
      "Invalid filetype https://www.tdcj.texas.gov/death_row/dr_info/clarkdavid.jpg . Continuing...\n",
      "Invalid filetype https://www.tdcj.texas.gov/death_row/dr_info/garrettjohnny.jpg . Continuing...\n",
      "Scraping https://www.tdcj.texas.gov/death_row/dr_info/no_info_available.html ...\n"
     ]
    },
    {
     "name": "stderr",
     "output_type": "stream",
     "text": [
      "C:\\Users\\Alfajiri\\anaconda3\\Lib\\site-packages\\urllib3\\connectionpool.py:1056: InsecureRequestWarning: Unverified HTTPS request is being made to host 'www.tdcj.texas.gov'. Adding certificate verification is strongly advised. See: https://urllib3.readthedocs.io/en/1.26.x/advanced-usage.html#ssl-warnings\n",
      "  warnings.warn(\n"
     ]
    },
    {
     "name": "stdout",
     "output_type": "stream",
     "text": [
      "Invalid filetype https://www.tdcj.texas.gov/death_row/dr_info/greengw.jpg . Continuing...\n",
      "Invalid filetype https://www.tdcj.texas.gov/death_row/dr_info/russelljames.jpg . Continuing...\n",
      "Scraping https://www.tdcj.texas.gov/death_row/dr_info/no_info_available.html ...\n"
     ]
    },
    {
     "name": "stderr",
     "output_type": "stream",
     "text": [
      "C:\\Users\\Alfajiri\\anaconda3\\Lib\\site-packages\\urllib3\\connectionpool.py:1056: InsecureRequestWarning: Unverified HTTPS request is being made to host 'www.tdcj.texas.gov'. Adding certificate verification is strongly advised. See: https://urllib3.readthedocs.io/en/1.26.x/advanced-usage.html#ssl-warnings\n",
      "  warnings.warn(\n"
     ]
    },
    {
     "name": "stdout",
     "output_type": "stream",
     "text": [
      "Invalid filetype https://www.tdcj.texas.gov/death_row/dr_info/cuevasignacio.jpg . Continuing...\n",
      "Invalid filetype https://www.tdcj.texas.gov/death_row/dr_info/buxtonlawrence.jpg . Continuing...\n",
      "Invalid filetype https://www.tdcj.texas.gov/death_row/dr_info/derrickmikel.jpg . Continuing...\n",
      "Invalid filetype https://www.tdcj.texas.gov/death_row/dr_info/smithjames.jpg . Continuing...\n",
      "Invalid filetype https://www.tdcj.texas.gov/death_row/dr_info/andersonjohnny.jpg . Continuing...\n",
      "Invalid filetype https://www.tdcj.texas.gov/death_row/dr_info/butlerjerome.jpg . Continuing...\n",
      "Invalid filetype https://www.tdcj.texas.gov/death_row/dr_info/delunacarlos.jpg . Continuing...\n",
      "Invalid filetype https://www.tdcj.texas.gov/death_row/dr_info/pasterjames.jpg . Continuing...\n",
      "Invalid filetype https://www.tdcj.texas.gov/death_row/dr_info/mccoystephen.jpg . Continuing...\n",
      "Invalid filetype https://www.tdcj.texas.gov/death_row/dr_info/kingleon.jpg . Continuing...\n",
      "Invalid filetype https://www.tdcj.texas.gov/death_row/dr_info/landryraymond.jpg . Continuing...\n",
      "Invalid filetype https://www.tdcj.texas.gov/death_row/dr_info/franklindonald.jpg . Continuing...\n",
      "Invalid filetype https://www.tdcj.texas.gov/death_row/dr_info/streetmanrobert.jpg . Continuing...\n",
      "Invalid filetype https://www.tdcj.texas.gov/death_row/dr_info/starvaggijoseph.jpg . Continuing...\n",
      "Invalid filetype https://www.tdcj.texas.gov/death_row/dr_info/thompsonjohn.jpg . Continuing...\n",
      "Scraping https://www.tdcj.texas.gov/death_row/dr_info/no_info_available.html ...\n"
     ]
    },
    {
     "name": "stderr",
     "output_type": "stream",
     "text": [
      "C:\\Users\\Alfajiri\\anaconda3\\Lib\\site-packages\\urllib3\\connectionpool.py:1056: InsecureRequestWarning: Unverified HTTPS request is being made to host 'www.tdcj.texas.gov'. Adding certificate verification is strongly advised. See: https://urllib3.readthedocs.io/en/1.26.x/advanced-usage.html#ssl-warnings\n",
      "  warnings.warn(\n"
     ]
    },
    {
     "name": "stdout",
     "output_type": "stream",
     "text": [
      "Invalid filetype https://www.tdcj.texas.gov/death_row/dr_info/williamsanthony.jpg . Continuing...\n",
      "Invalid filetype https://www.tdcj.texas.gov/death_row/dr_info/morenoeliseo.jpg . Continuing...\n",
      "Scraping https://www.tdcj.texas.gov/death_row/dr_info/hernandezramonpedro667.html ...\n"
     ]
    },
    {
     "name": "stderr",
     "output_type": "stream",
     "text": [
      "C:\\Users\\Alfajiri\\anaconda3\\Lib\\site-packages\\urllib3\\connectionpool.py:1056: InsecureRequestWarning: Unverified HTTPS request is being made to host 'www.tdcj.texas.gov'. Adding certificate verification is strongly advised. See: https://urllib3.readthedocs.io/en/1.26.x/advanced-usage.html#ssl-warnings\n",
      "  warnings.warn(\n"
     ]
    },
    {
     "name": "stdout",
     "output_type": "stream",
     "text": [
      "Scraping https://www.tdcj.texas.gov/death_row/dr_info/no_info_available.html ...\n"
     ]
    },
    {
     "name": "stderr",
     "output_type": "stream",
     "text": [
      "C:\\Users\\Alfajiri\\anaconda3\\Lib\\site-packages\\urllib3\\connectionpool.py:1056: InsecureRequestWarning: Unverified HTTPS request is being made to host 'www.tdcj.texas.gov'. Adding certificate verification is strongly advised. See: https://urllib3.readthedocs.io/en/1.26.x/advanced-usage.html#ssl-warnings\n",
      "  warnings.warn(\n"
     ]
    },
    {
     "name": "stdout",
     "output_type": "stream",
     "text": [
      "Invalid filetype https://www.tdcj.texas.gov/death_row/dr_info/evansmichael.jpg . Continuing...\n",
      "Scraping https://www.tdcj.texas.gov/death_row/dr_info/no_info_available.html ...\n"
     ]
    },
    {
     "name": "stderr",
     "output_type": "stream",
     "text": [
      "C:\\Users\\Alfajiri\\anaconda3\\Lib\\site-packages\\urllib3\\connectionpool.py:1056: InsecureRequestWarning: Unverified HTTPS request is being made to host 'www.tdcj.texas.gov'. Adding certificate verification is strongly advised. See: https://urllib3.readthedocs.io/en/1.26.x/advanced-usage.html#ssl-warnings\n",
      "  warnings.warn(\n"
     ]
    },
    {
     "name": "stdout",
     "output_type": "stream",
     "text": [
      "Invalid filetype https://www.tdcj.texas.gov/death_row/dr_info/smithlarry.jpg . Continuing...\n",
      "Invalid filetype https://www.tdcj.texas.gov/death_row/dr_info/woollsrandy.jpg . Continuing...\n",
      "Scraping https://www.tdcj.texas.gov/death_row/dr_info/no_info_available.html ...\n"
     ]
    },
    {
     "name": "stderr",
     "output_type": "stream",
     "text": [
      "C:\\Users\\Alfajiri\\anaconda3\\Lib\\site-packages\\urllib3\\connectionpool.py:1056: InsecureRequestWarning: Unverified HTTPS request is being made to host 'www.tdcj.texas.gov'. Adding certificate verification is strongly advised. See: https://urllib3.readthedocs.io/en/1.26.x/advanced-usage.html#ssl-warnings\n",
      "  warnings.warn(\n"
     ]
    },
    {
     "name": "stdout",
     "output_type": "stream",
     "text": [
      "Scraping https://www.tdcj.texas.gov/death_row/dr_info/no_info_available.html ...\n"
     ]
    },
    {
     "name": "stderr",
     "output_type": "stream",
     "text": [
      "C:\\Users\\Alfajiri\\anaconda3\\Lib\\site-packages\\urllib3\\connectionpool.py:1056: InsecureRequestWarning: Unverified HTTPS request is being made to host 'www.tdcj.texas.gov'. Adding certificate verification is strongly advised. See: https://urllib3.readthedocs.io/en/1.26.x/advanced-usage.html#ssl-warnings\n",
      "  warnings.warn(\n"
     ]
    },
    {
     "name": "stdout",
     "output_type": "stream",
     "text": [
      "Invalid filetype https://www.tdcj.texas.gov/death_row/dr_info/pinkertonjay.jpg . Continuing...\n",
      "Invalid filetype https://www.tdcj.texas.gov/death_row/dr_info/barneyjeffery.jpg . Continuing...\n",
      "Invalid filetype https://www.tdcj.texas.gov/death_row/dr_info/basscharles.jpg . Continuing...\n",
      "Invalid filetype https://www.tdcj.texas.gov/death_row/dr_info/rumbaugh.jpg . Continuing...\n",
      "Invalid filetype https://www.tdcj.texas.gov/death_row/dr_info/porterhenry.jpg . Continuing...\n",
      "Invalid filetype https://www.tdcj.texas.gov/death_row/dr_info/miltoncharles.jpg . Continuing...\n",
      "Invalid filetype https://www.tdcj.texas.gov/death_row/dr_info/delarosajesse.jpg . Continuing...\n",
      "Invalid filetype https://www.tdcj.texas.gov/death_row/dr_info/morinstephen.jpg . Continuing...\n",
      "Invalid filetype https://www.tdcj.texas.gov/death_row/dr_info/skillerndoyle.jpg . Continuing...\n",
      "Invalid filetype https://www.tdcj.texas.gov/death_row/dr_info/barefootthomas.jpg . Continuing...\n",
      "Invalid filetype https://www.tdcj.texas.gov/death_row/dr_info/obryanronald.jpg . Continuing...\n",
      "Scraping https://www.tdcj.texas.gov/death_row/dr_info/autryjames.html ...\n"
     ]
    },
    {
     "name": "stderr",
     "output_type": "stream",
     "text": [
      "C:\\Users\\Alfajiri\\anaconda3\\Lib\\site-packages\\urllib3\\connectionpool.py:1056: InsecureRequestWarning: Unverified HTTPS request is being made to host 'www.tdcj.texas.gov'. Adding certificate verification is strongly advised. See: https://urllib3.readthedocs.io/en/1.26.x/advanced-usage.html#ssl-warnings\n",
      "  warnings.warn(\n"
     ]
    },
    {
     "name": "stdout",
     "output_type": "stream",
     "text": [
      "Scraping https://www.tdcj.texas.gov/death_row/dr_info/brookscharlie.html ...\n"
     ]
    },
    {
     "name": "stderr",
     "output_type": "stream",
     "text": [
      "C:\\Users\\Alfajiri\\anaconda3\\Lib\\site-packages\\urllib3\\connectionpool.py:1056: InsecureRequestWarning: Unverified HTTPS request is being made to host 'www.tdcj.texas.gov'. Adding certificate verification is strongly advised. See: https://urllib3.readthedocs.io/en/1.26.x/advanced-usage.html#ssl-warnings\n",
      "  warnings.warn(\n"
     ]
    }
   ],
   "source": [
    "# scraped_info = [scrape_info(pathname) for pathname in info['Inmate Information']]\n",
    "\n",
    "# using for loop allows to save results even if there's an error in the process\n",
    "info_list = []\n",
    "for pathname in executed['Inmate Information']:\n",
    "    scraped_info = scrape_info(pathname)\n",
    "    info_list.append(scraped_info)"
   ]
  },
  {
   "cell_type": "code",
   "execution_count": 331,
   "id": "cce3d50f",
   "metadata": {
    "scrolled": true
   },
   "outputs": [
    {
     "data": {
      "text/html": [
       "<div>\n",
       "<style scoped>\n",
       "    .dataframe tbody tr th:only-of-type {\n",
       "        vertical-align: middle;\n",
       "    }\n",
       "\n",
       "    .dataframe tbody tr th {\n",
       "        vertical-align: top;\n",
       "    }\n",
       "\n",
       "    .dataframe thead th {\n",
       "        text-align: right;\n",
       "    }\n",
       "</style>\n",
       "<table border=\"1\" class=\"dataframe\">\n",
       "  <thead>\n",
       "    <tr style=\"text-align: right;\">\n",
       "      <th></th>\n",
       "      <th>Name</th>\n",
       "      <th>TDCJ Number</th>\n",
       "      <th>Date of Birth</th>\n",
       "      <th>Date Received</th>\n",
       "      <th>Age (when Received)</th>\n",
       "      <th>Education Level (Highest Grade Completed)</th>\n",
       "      <th>Date of Offense</th>\n",
       "      <th>Age (at the time of Offense)</th>\n",
       "      <th>County</th>\n",
       "      <th>Race</th>\n",
       "      <th>...</th>\n",
       "      <th>Eye Color</th>\n",
       "      <th>Native County</th>\n",
       "      <th>Native State</th>\n",
       "      <th>Age (when    Received)</th>\n",
       "      <th>Height</th>\n",
       "      <th>Weight</th>\n",
       "      <th>Native Country</th>\n",
       "      <th>Age</th>\n",
       "      <th>Age (when shoulReceived)</th>\n",
       "      <th>Photo not available</th>\n",
       "    </tr>\n",
       "  </thead>\n",
       "  <tbody>\n",
       "    <tr>\n",
       "      <th>0</th>\n",
       "      <td>Gonzales, Ramiro</td>\n",
       "      <td>999513</td>\n",
       "      <td>11/05/1982</td>\n",
       "      <td>09/27/2006</td>\n",
       "      <td>23</td>\n",
       "      <td>7th Grade</td>\n",
       "      <td>01/15/2001</td>\n",
       "      <td>18</td>\n",
       "      <td>Medina</td>\n",
       "      <td>Hispanic</td>\n",
       "      <td>...</td>\n",
       "      <td>Brown</td>\n",
       "      <td>Frio</td>\n",
       "      <td>Texas</td>\n",
       "      <td>NaN</td>\n",
       "      <td>NaN</td>\n",
       "      <td>NaN</td>\n",
       "      <td>NaN</td>\n",
       "      <td>NaN</td>\n",
       "      <td>NaN</td>\n",
       "      <td>NaN</td>\n",
       "    </tr>\n",
       "    <tr>\n",
       "      <th>1</th>\n",
       "      <td>Cantu, Ivan Abner</td>\n",
       "      <td>999399</td>\n",
       "      <td>06/14/1973</td>\n",
       "      <td>11/08/2001</td>\n",
       "      <td>NaN</td>\n",
       "      <td>12</td>\n",
       "      <td>11/04/2000</td>\n",
       "      <td>27</td>\n",
       "      <td>Collin</td>\n",
       "      <td>Hispanic</td>\n",
       "      <td>...</td>\n",
       "      <td>Brown</td>\n",
       "      <td>Dallas</td>\n",
       "      <td>Texas</td>\n",
       "      <td>28</td>\n",
       "      <td>NaN</td>\n",
       "      <td>NaN</td>\n",
       "      <td>NaN</td>\n",
       "      <td>NaN</td>\n",
       "      <td>NaN</td>\n",
       "      <td>NaN</td>\n",
       "    </tr>\n",
       "    <tr>\n",
       "      <th>2</th>\n",
       "      <td>Renteria, David Santiago</td>\n",
       "      <td>999460</td>\n",
       "      <td>11/22/1969</td>\n",
       "      <td>11/20/2003</td>\n",
       "      <td>33</td>\n",
       "      <td>12</td>\n",
       "      <td>11/18/2001</td>\n",
       "      <td>31</td>\n",
       "      <td>El Paso</td>\n",
       "      <td>Other, (Native American)</td>\n",
       "      <td>...</td>\n",
       "      <td>Brown</td>\n",
       "      <td>El Paso</td>\n",
       "      <td>Texas</td>\n",
       "      <td>NaN</td>\n",
       "      <td>NaN</td>\n",
       "      <td>NaN</td>\n",
       "      <td>NaN</td>\n",
       "      <td>NaN</td>\n",
       "      <td>NaN</td>\n",
       "      <td>NaN</td>\n",
       "    </tr>\n",
       "    <tr>\n",
       "      <th>3</th>\n",
       "      <td>Murphy, Jedidiah Isaac</td>\n",
       "      <td>999392</td>\n",
       "      <td>09/01/1975</td>\n",
       "      <td>07/26/2001</td>\n",
       "      <td>NaN</td>\n",
       "      <td>12</td>\n",
       "      <td>10/04/2000</td>\n",
       "      <td>25</td>\n",
       "      <td>Dallas</td>\n",
       "      <td>White</td>\n",
       "      <td>...</td>\n",
       "      <td>Brown</td>\n",
       "      <td>Sutton</td>\n",
       "      <td>Texas</td>\n",
       "      <td>25</td>\n",
       "      <td>NaN</td>\n",
       "      <td>NaN</td>\n",
       "      <td>NaN</td>\n",
       "      <td>NaN</td>\n",
       "      <td>NaN</td>\n",
       "      <td>NaN</td>\n",
       "    </tr>\n",
       "    <tr>\n",
       "      <th>4</th>\n",
       "      <td>Green, Gary</td>\n",
       "      <td>999561</td>\n",
       "      <td>03/14/1971</td>\n",
       "      <td>11/22/2010</td>\n",
       "      <td>39</td>\n",
       "      <td>None</td>\n",
       "      <td>09/22/2009</td>\n",
       "      <td>37</td>\n",
       "      <td>Dallas</td>\n",
       "      <td>Black</td>\n",
       "      <td>...</td>\n",
       "      <td>Brown</td>\n",
       "      <td>None</td>\n",
       "      <td>None</td>\n",
       "      <td>NaN</td>\n",
       "      <td>NaN</td>\n",
       "      <td>NaN</td>\n",
       "      <td>NaN</td>\n",
       "      <td>NaN</td>\n",
       "      <td>NaN</td>\n",
       "      <td>NaN</td>\n",
       "    </tr>\n",
       "    <tr>\n",
       "      <th>...</th>\n",
       "      <td>...</td>\n",
       "      <td>...</td>\n",
       "      <td>...</td>\n",
       "      <td>...</td>\n",
       "      <td>...</td>\n",
       "      <td>...</td>\n",
       "      <td>...</td>\n",
       "      <td>...</td>\n",
       "      <td>...</td>\n",
       "      <td>...</td>\n",
       "      <td>...</td>\n",
       "      <td>...</td>\n",
       "      <td>...</td>\n",
       "      <td>...</td>\n",
       "      <td>...</td>\n",
       "      <td>...</td>\n",
       "      <td>...</td>\n",
       "      <td>...</td>\n",
       "      <td>...</td>\n",
       "      <td>...</td>\n",
       "      <td>...</td>\n",
       "    </tr>\n",
       "    <tr>\n",
       "      <th>187</th>\n",
       "      <td>NaN</td>\n",
       "      <td>887</td>\n",
       "      <td>6/11/1965</td>\n",
       "      <td>10/23/1987</td>\n",
       "      <td>22</td>\n",
       "      <td>12</td>\n",
       "      <td>7/23/1986</td>\n",
       "      <td>21</td>\n",
       "      <td>Clay (change of venue from Montague)</td>\n",
       "      <td>White</td>\n",
       "      <td>...</td>\n",
       "      <td>Brown</td>\n",
       "      <td>Brunswick</td>\n",
       "      <td>Georgia</td>\n",
       "      <td>NaN</td>\n",
       "      <td>NaN</td>\n",
       "      <td>NaN</td>\n",
       "      <td>NaN</td>\n",
       "      <td>NaN</td>\n",
       "      <td>NaN</td>\n",
       "      <td>Name</td>\n",
       "    </tr>\n",
       "    <tr>\n",
       "      <th>188</th>\n",
       "      <td>Cantu, Ruben Montoya</td>\n",
       "      <td>804</td>\n",
       "      <td>12/5/66</td>\n",
       "      <td>9/10/85</td>\n",
       "      <td>18</td>\n",
       "      <td>9 years</td>\n",
       "      <td>11/8/84</td>\n",
       "      <td>17</td>\n",
       "      <td>Bexar</td>\n",
       "      <td>Hispanic</td>\n",
       "      <td>...</td>\n",
       "      <td>Brown</td>\n",
       "      <td>Bexar</td>\n",
       "      <td>Texas</td>\n",
       "      <td>NaN</td>\n",
       "      <td>NaN</td>\n",
       "      <td>NaN</td>\n",
       "      <td>NaN</td>\n",
       "      <td>NaN</td>\n",
       "      <td>NaN</td>\n",
       "      <td>NaN</td>\n",
       "    </tr>\n",
       "    <tr>\n",
       "      <th>189</th>\n",
       "      <td>Hernandez, Ramon Pedro</td>\n",
       "      <td>667</td>\n",
       "      <td>03/02/1942</td>\n",
       "      <td>09/30/1980</td>\n",
       "      <td>38</td>\n",
       "      <td>9</td>\n",
       "      <td>06/20/1980</td>\n",
       "      <td>38</td>\n",
       "      <td>El Paso</td>\n",
       "      <td>Hispanic</td>\n",
       "      <td>...</td>\n",
       "      <td>Brown</td>\n",
       "      <td>El Paso</td>\n",
       "      <td>Texas</td>\n",
       "      <td>NaN</td>\n",
       "      <td>NaN</td>\n",
       "      <td>NaN</td>\n",
       "      <td>NaN</td>\n",
       "      <td>NaN</td>\n",
       "      <td>NaN</td>\n",
       "      <td>NaN</td>\n",
       "    </tr>\n",
       "    <tr>\n",
       "      <th>190</th>\n",
       "      <td>Autry, James David</td>\n",
       "      <td>670</td>\n",
       "      <td>9/27/1954</td>\n",
       "      <td>10/10/1980</td>\n",
       "      <td>NaN</td>\n",
       "      <td>6</td>\n",
       "      <td>4/20/1980</td>\n",
       "      <td>25</td>\n",
       "      <td>Jefferson</td>\n",
       "      <td>White</td>\n",
       "      <td>...</td>\n",
       "      <td>Brown</td>\n",
       "      <td>Potter</td>\n",
       "      <td>Texas</td>\n",
       "      <td>26</td>\n",
       "      <td>NaN</td>\n",
       "      <td>NaN</td>\n",
       "      <td>NaN</td>\n",
       "      <td>NaN</td>\n",
       "      <td>NaN</td>\n",
       "      <td>NaN</td>\n",
       "    </tr>\n",
       "    <tr>\n",
       "      <th>191</th>\n",
       "      <td>NaN</td>\n",
       "      <td>592</td>\n",
       "      <td>9/1/1942</td>\n",
       "      <td>4/25/1978</td>\n",
       "      <td>NaN</td>\n",
       "      <td>12</td>\n",
       "      <td>12/14/1976</td>\n",
       "      <td>34</td>\n",
       "      <td>Tarrant</td>\n",
       "      <td>Black</td>\n",
       "      <td>...</td>\n",
       "      <td>mar (according to DPS records)</td>\n",
       "      <td>Tarrant</td>\n",
       "      <td>Texas</td>\n",
       "      <td>35</td>\n",
       "      <td>NaN</td>\n",
       "      <td>NaN</td>\n",
       "      <td>NaN</td>\n",
       "      <td>NaN</td>\n",
       "      <td>NaN</td>\n",
       "      <td>Name</td>\n",
       "    </tr>\n",
       "  </tbody>\n",
       "</table>\n",
       "<p>192 rows × 24 columns</p>\n",
       "</div>"
      ],
      "text/plain": [
       "                         Name TDCJ Number Date of Birth Date Received  \\\n",
       "0            Gonzales, Ramiro      999513    11/05/1982    09/27/2006   \n",
       "1           Cantu, Ivan Abner      999399    06/14/1973    11/08/2001   \n",
       "2    Renteria, David Santiago      999460    11/22/1969    11/20/2003   \n",
       "3      Murphy, Jedidiah Isaac      999392    09/01/1975    07/26/2001   \n",
       "4                 Green, Gary      999561    03/14/1971    11/22/2010   \n",
       "..                        ...         ...           ...           ...   \n",
       "187                       NaN         887     6/11/1965    10/23/1987   \n",
       "188      Cantu, Ruben Montoya         804       12/5/66       9/10/85   \n",
       "189    Hernandez, Ramon Pedro         667    03/02/1942    09/30/1980   \n",
       "190        Autry, James David         670     9/27/1954    10/10/1980   \n",
       "191                       NaN         592      9/1/1942     4/25/1978   \n",
       "\n",
       "    Age (when Received) Education Level (Highest Grade Completed)  \\\n",
       "0                    23                                 7th Grade   \n",
       "1                   NaN                                        12   \n",
       "2                    33                                        12   \n",
       "3                   NaN                                        12   \n",
       "4                    39                                      None   \n",
       "..                  ...                                       ...   \n",
       "187                  22                                        12   \n",
       "188                  18                                   9 years   \n",
       "189                  38                                         9   \n",
       "190                 NaN                                         6   \n",
       "191                 NaN                                        12   \n",
       "\n",
       "    Date of Offense Age (at the time of Offense)  \\\n",
       "0        01/15/2001                           18   \n",
       "1        11/04/2000                           27   \n",
       "2        11/18/2001                           31   \n",
       "3        10/04/2000                           25   \n",
       "4        09/22/2009                           37   \n",
       "..              ...                          ...   \n",
       "187       7/23/1986                           21   \n",
       "188         11/8/84                           17   \n",
       "189      06/20/1980                           38   \n",
       "190       4/20/1980                           25   \n",
       "191      12/14/1976                           34   \n",
       "\n",
       "                                   County                      Race  ...  \\\n",
       "0                                  Medina                  Hispanic  ...   \n",
       "1                                  Collin                  Hispanic  ...   \n",
       "2                                 El Paso  Other, (Native American)  ...   \n",
       "3                                  Dallas                     White  ...   \n",
       "4                                  Dallas                     Black  ...   \n",
       "..                                    ...                       ...  ...   \n",
       "187  Clay (change of venue from Montague)                     White  ...   \n",
       "188                                 Bexar                  Hispanic  ...   \n",
       "189                              El Paso                   Hispanic  ...   \n",
       "190                             Jefferson                     White  ...   \n",
       "191                               Tarrant                     Black  ...   \n",
       "\n",
       "                          Eye Color Native County Native State  \\\n",
       "0                             Brown          Frio        Texas   \n",
       "1                             Brown        Dallas        Texas   \n",
       "2                             Brown       El Paso        Texas   \n",
       "3                             Brown        Sutton        Texas   \n",
       "4                             Brown          None         None   \n",
       "..                              ...           ...          ...   \n",
       "187                           Brown     Brunswick      Georgia   \n",
       "188                           Brown         Bexar        Texas   \n",
       "189                           Brown       El Paso        Texas   \n",
       "190                           Brown        Potter        Texas   \n",
       "191  mar (according to DPS records)       Tarrant        Texas   \n",
       "\n",
       "    Age (when    Received) Height Weight Native Country  Age  \\\n",
       "0                      NaN    NaN    NaN            NaN  NaN   \n",
       "1                       28    NaN    NaN            NaN  NaN   \n",
       "2                      NaN    NaN    NaN            NaN  NaN   \n",
       "3                       25    NaN    NaN            NaN  NaN   \n",
       "4                      NaN    NaN    NaN            NaN  NaN   \n",
       "..                     ...    ...    ...            ...  ...   \n",
       "187                    NaN    NaN    NaN            NaN  NaN   \n",
       "188                    NaN    NaN    NaN            NaN  NaN   \n",
       "189                    NaN    NaN    NaN            NaN  NaN   \n",
       "190                     26    NaN    NaN            NaN  NaN   \n",
       "191                     35    NaN    NaN            NaN  NaN   \n",
       "\n",
       "    Age (when shoulReceived) Photo not available  \n",
       "0                        NaN                 NaN  \n",
       "1                        NaN                 NaN  \n",
       "2                        NaN                 NaN  \n",
       "3                        NaN                 NaN  \n",
       "4                        NaN                 NaN  \n",
       "..                       ...                 ...  \n",
       "187                      NaN                Name  \n",
       "188                      NaN                 NaN  \n",
       "189                      NaN                 NaN  \n",
       "190                      NaN                 NaN  \n",
       "191                      NaN                Name  \n",
       "\n",
       "[192 rows x 24 columns]"
      ]
     },
     "execution_count": 331,
     "metadata": {},
     "output_type": "execute_result"
    }
   ],
   "source": [
    "## remove None's\n",
    "info_list = list(filter(None, info_list))\n",
    "\n",
    "## convert list to df\n",
    "info = pd.DataFrame(info_list)\n",
    "info.head(11)\n",
    "info"
   ]
  },
  {
   "cell_type": "markdown",
   "id": "d712ef44",
   "metadata": {},
   "source": [
    "#### Save prisoner information"
   ]
  },
  {
   "cell_type": "code",
   "execution_count": 341,
   "id": "d44fee46",
   "metadata": {},
   "outputs": [],
   "source": [
    "## date\n",
    "save_date = format(date.today(), '%Y%m%d')\n",
    "save_date\n",
    "\n",
    "## save info\n",
    "path = f'../data/prisoner_info_{save_date}.csv'\n",
    "info.to_csv(path, index = False)"
   ]
  },
  {
   "cell_type": "markdown",
   "id": "26596794",
   "metadata": {},
   "source": [
    "## 99. Code testing and validation"
   ]
  },
  {
   "cell_type": "markdown",
   "id": "770e98e4",
   "metadata": {},
   "source": [
    "#### Scraping prisoner information - specific example (developing `scrape_info()`)"
   ]
  },
  {
   "cell_type": "code",
   "execution_count": 296,
   "id": "ef26a256",
   "metadata": {},
   "outputs": [
    {
     "data": {
      "text/plain": [
       "'https://www.tdcj.texas.gov/death_row/dr_info/swearingenlarry.html'"
      ]
     },
     "execution_count": 296,
     "metadata": {},
     "output_type": "execute_result"
    }
   ],
   "source": [
    "url_base = 'https://www.tdcj.texas.gov/death_row/'\n",
    "url_test = url_base + executed['Inmate Information'].iloc[-562]\n",
    "url_test"
   ]
  },
  {
   "cell_type": "code",
   "execution_count": 297,
   "id": "f747f60b",
   "metadata": {},
   "outputs": [
    {
     "name": "stderr",
     "output_type": "stream",
     "text": [
      "C:\\Users\\Alfajiri\\anaconda3\\Lib\\site-packages\\urllib3\\connectionpool.py:1056: InsecureRequestWarning: Unverified HTTPS request is being made to host 'www.tdcj.texas.gov'. Adding certificate verification is strongly advised. See: https://urllib3.readthedocs.io/en/1.26.x/advanced-usage.html#ssl-warnings\n",
      "  warnings.warn(\n"
     ]
    },
    {
     "data": {
      "text/plain": [
       "<Response [200]>"
      ]
     },
     "execution_count": 297,
     "metadata": {},
     "output_type": "execute_result"
    }
   ],
   "source": [
    "## access\n",
    "status_test = requests.get(url_test, headers = headers, verify = False) # verify = True results in an SSL error. not the best practice to proceed without verifying TLS, but...\n",
    "status_test"
   ]
  },
  {
   "cell_type": "code",
   "execution_count": 298,
   "id": "759125f1",
   "metadata": {},
   "outputs": [],
   "source": [
    "status_test.close()"
   ]
  },
  {
   "cell_type": "code",
   "execution_count": 300,
   "id": "b378ce59",
   "metadata": {},
   "outputs": [
    {
     "data": {
      "text/plain": [
       "[<tr>\n",
       " <td rowspan=\"7\" style=\"vertical-align: top\"><img alt=\"Picture of Inmate\" src=\"swearingenlarry2.jpg\"/></td>\n",
       " <td class=\"table_deathrow_bold_align_right\" style=\"vertical-align: top\">Name</td>\n",
       " <td class=\"table_deathrow_align_left\" style=\"vertical-align: top\">Larry Ray Swearingen</td>\n",
       " </tr>,\n",
       " <tr>\n",
       " <td class=\"table_deathrow_bold_align_right\" style=\"vertical-align: top\">TDCJ Number</td>\n",
       " <td class=\"table_deathrow_align_left\" style=\"vertical-align: top\">999361</td>\n",
       " </tr>,\n",
       " <tr>\n",
       " <td class=\"table_deathrow_bold_align_right\" style=\"vertical-align: top\">Date of Birth</td>\n",
       " <td class=\"table_deathrow_align_left\" style=\"vertical-align: top\">5/21/1971</td>\n",
       " </tr>,\n",
       " <tr>\n",
       " <td class=\"table_deathrow_bold_align_right\" style=\"vertical-align: top\">Date Received</td>\n",
       " <td class=\"table_deathrow_align_left\" style=\"vertical-align: top\">7/12/2000</td>\n",
       " </tr>,\n",
       " <tr>\n",
       " <td class=\"table_deathrow_bold_align_right\" style=\"vertical-align: top\">Age (when    Received)</td>\n",
       " <td class=\"table_deathrow_align_left\" style=\"vertical-align: top\">29</td>\n",
       " </tr>,\n",
       " <tr>\n",
       " <td class=\"table_deathrow_bold_align_right\" style=\"vertical-align: top\">Education Level (Highest Grade Completed)</td>\n",
       " <td class=\"table_deathrow_align_left\" style=\"vertical-align: top\">11</td>\n",
       " </tr>,\n",
       " <tr>\n",
       " <td class=\"table_deathrow_bold_align_right\" style=\"vertical-align: top\">Date of Offense</td>\n",
       " <td class=\"table_deathrow_align_left\" style=\"vertical-align: top\">12/8/1998</td>\n",
       " </tr>,\n",
       " <tr>\n",
       " <td style=\"vertical-align: top\"> </td>\n",
       " <td class=\"table_deathrow_bold_align_right\" style=\"vertical-align: top\">Age (at the time of Offense)</td>\n",
       " <td class=\"table_deathrow_align_left\" style=\"vertical-align: top\">27</td>\n",
       " </tr>,\n",
       " <tr>\n",
       " <td style=\"vertical-align: top\"> </td>\n",
       " <td class=\"table_deathrow_bold_align_right\" style=\"vertical-align: top\">County</td>\n",
       " <td class=\"table_deathrow_align_left\" style=\"vertical-align: top\">Montgomery</td>\n",
       " </tr>,\n",
       " <tr>\n",
       " <td style=\"vertical-align: top\"> </td>\n",
       " <td class=\"table_deathrow_bold_align_right\" style=\"vertical-align: top\">Race</td>\n",
       " <td class=\"table_deathrow_align_left\" style=\"vertical-align: top\">White</td>\n",
       " </tr>,\n",
       " <tr>\n",
       " <td style=\"vertical-align: top\"> </td>\n",
       " <td class=\"table_deathrow_bold_align_right\" style=\"vertical-align: top\">Gender</td>\n",
       " <td class=\"table_deathrow_align_left\" style=\"vertical-align: top\">Male</td>\n",
       " </tr>,\n",
       " <tr>\n",
       " <td style=\"vertical-align: top\"> </td>\n",
       " <td class=\"table_deathrow_bold_align_right\" style=\"vertical-align: top\">Hair Color</td>\n",
       " <td class=\"table_deathrow_align_left\" style=\"vertical-align: top\">Brown</td>\n",
       " </tr>,\n",
       " <tr>\n",
       " <td style=\"vertical-align: top\"> </td>\n",
       " <td class=\"table_deathrow_bold_align_right\" style=\"vertical-align: top\">Height (in Feet and Inches)</td>\n",
       " <td class=\"table_deathrow_align_left\" style=\"vertical-align: top\">5′ 10″</td>\n",
       " </tr>,\n",
       " <tr>\n",
       " <td style=\"vertical-align: top\"> </td>\n",
       " <td class=\"table_deathrow_bold_align_right\" style=\"vertical-align: top\">Weight (in Pounds)</td>\n",
       " <td class=\"table_deathrow_align_left\" style=\"vertical-align: top\">194</td>\n",
       " </tr>,\n",
       " <tr>\n",
       " <td style=\"vertical-align: top\"> </td>\n",
       " <td class=\"table_deathrow_bold_align_right\" style=\"vertical-align: top\">Eye Color</td>\n",
       " <td class=\"table_deathrow_align_left\" style=\"vertical-align: top\">Blue</td>\n",
       " </tr>,\n",
       " <tr>\n",
       " <td style=\"vertical-align: top\"> </td>\n",
       " <td class=\"table_deathrow_bold_align_right\" style=\"vertical-align: top\">Native County</td>\n",
       " <td class=\"table_deathrow_align_left\" style=\"vertical-align: top\">Montgomery</td>\n",
       " </tr>,\n",
       " <tr>\n",
       " <td style=\"vertical-align: top\"> </td>\n",
       " <td class=\"table_deathrow_bold_align_right\" style=\"vertical-align: top\">Native State</td>\n",
       " <td class=\"table_deathrow_align_left\" style=\"vertical-align: top\">Texas</td>\n",
       " </tr>,\n",
       " <tr>\n",
       " <td style=\"vertical-align: top\"> </td>\n",
       " <td class=\"table_deathrow_bold_align_right\" style=\"vertical-align: top\"> </td>\n",
       " <td class=\"table_deathrow_align_left\" style=\"vertical-align: top\"> </td>\n",
       " </tr>]"
      ]
     },
     "execution_count": 300,
     "metadata": {},
     "output_type": "execute_result"
    }
   ],
   "source": [
    "## parse\n",
    "soup_test = bs4.BeautifulSoup(status_test.text, features = 'html.parser')\n",
    "html_table_test = soup_test.find_all('tr')\n",
    "html_table_test"
   ]
  },
  {
   "cell_type": "code",
   "execution_count": 317,
   "id": "6c05df5a",
   "metadata": {},
   "outputs": [
    {
     "name": "stdout",
     "output_type": "stream",
     "text": [
      "['Name', 'Larry Ray Swearingen']\n",
      "['TDCJ Number', '999361']\n",
      "['Date of Birth', '5/21/1971']\n",
      "['Date Received', '7/12/2000']\n",
      "['Age (when    Received)', '29']\n",
      "['Education Level (Highest Grade Completed)', '11']\n",
      "['Date of Offense', '12/8/1998']\n",
      "['Age (at the time of Offense)', '27']\n",
      "['County', 'Montgomery']\n",
      "['Race', 'White']\n",
      "['Gender', 'Male']\n",
      "['Hair Color', 'Brown']\n",
      "['Height (in Feet and Inches)', '5′ 10″']\n",
      "['Weight (in Pounds)', '194']\n",
      "['Eye Color', 'Blue']\n",
      "['Native County', 'Montgomery']\n",
      "['Native State', 'Texas']\n",
      "[None]\n"
     ]
    },
    {
     "data": {
      "text/plain": [
       "{'Name': 'Larry Ray Swearingen',\n",
       " 'TDCJ Number': '999361',\n",
       " 'Date of Birth': '5/21/1971',\n",
       " 'Date Received': '7/12/2000',\n",
       " 'Age (when    Received)': '29',\n",
       " 'Education Level (Highest Grade Completed)': '11',\n",
       " 'Date of Offense': '12/8/1998',\n",
       " 'Age (at the time of Offense)': '27',\n",
       " 'County': 'Montgomery',\n",
       " 'Race': 'White',\n",
       " 'Gender': 'Male',\n",
       " 'Hair Color': 'Brown',\n",
       " 'Height (in Feet and Inches)': '5′ 10″',\n",
       " 'Weight (in Pounds)': '194',\n",
       " 'Eye Color': 'Blue',\n",
       " 'Native County': 'Montgomery',\n",
       " 'Native State': 'Texas'}"
      ]
     },
     "execution_count": 317,
     "metadata": {},
     "output_type": "execute_result"
    }
   ],
   "source": [
    "## transform html to dict\n",
    "table_dict = {}\n",
    "\n",
    "for row in html_table_test:\n",
    "        row_content = [x for x in row.text.replace('\\xa0','').split('\\n') if x]\n",
    "        if len(row_content) < 2:\n",
    "            row_content.append(None)\n",
    "        print(row_content)\n",
    "        if row_content[0] is not None:\n",
    "            table_dict[row_content[0]] = row_content[1]\n",
    "        \n",
    "table_dict"
   ]
  },
  {
   "cell_type": "code",
   "execution_count": 162,
   "id": "a1cb9480",
   "metadata": {},
   "outputs": [
    {
     "data": {
      "text/html": [
       "<div>\n",
       "<style scoped>\n",
       "    .dataframe tbody tr th:only-of-type {\n",
       "        vertical-align: middle;\n",
       "    }\n",
       "\n",
       "    .dataframe tbody tr th {\n",
       "        vertical-align: top;\n",
       "    }\n",
       "\n",
       "    .dataframe thead th {\n",
       "        text-align: right;\n",
       "    }\n",
       "</style>\n",
       "<table border=\"1\" class=\"dataframe\">\n",
       "  <thead>\n",
       "    <tr style=\"text-align: right;\">\n",
       "      <th></th>\n",
       "      <th>Name</th>\n",
       "      <th>TDCJ Number</th>\n",
       "      <th>Date of Birth</th>\n",
       "      <th>Date Received</th>\n",
       "      <th>Age (when Received)</th>\n",
       "      <th>Education Level (Highest Grade Completed)</th>\n",
       "      <th>Date of Offense</th>\n",
       "      <th>Age (at the time of Offense)</th>\n",
       "      <th>County</th>\n",
       "      <th>Race</th>\n",
       "      <th>Gender</th>\n",
       "      <th>Hair Color</th>\n",
       "      <th>Height (in Feet and Inches)</th>\n",
       "      <th>Weight (in Pounds)</th>\n",
       "      <th>Eye Color</th>\n",
       "      <th>Native County</th>\n",
       "      <th>Native State</th>\n",
       "    </tr>\n",
       "  </thead>\n",
       "  <tbody>\n",
       "    <tr>\n",
       "      <th>0</th>\n",
       "      <td>Gonzales, Ramiro</td>\n",
       "      <td>999513</td>\n",
       "      <td>11/05/1982</td>\n",
       "      <td>09/27/2006</td>\n",
       "      <td>23</td>\n",
       "      <td>7th Grade</td>\n",
       "      <td>01/15/2001</td>\n",
       "      <td>18</td>\n",
       "      <td>Medina</td>\n",
       "      <td>Hispanic</td>\n",
       "      <td>Male</td>\n",
       "      <td>Black</td>\n",
       "      <td>5′ 2″</td>\n",
       "      <td>136</td>\n",
       "      <td>Brown</td>\n",
       "      <td>Frio</td>\n",
       "      <td>Texas</td>\n",
       "    </tr>\n",
       "    <tr>\n",
       "      <th>1</th>\n",
       "      <td>Gonzales, Ramiro</td>\n",
       "      <td>999513</td>\n",
       "      <td>11/05/1982</td>\n",
       "      <td>09/27/2006</td>\n",
       "      <td>23</td>\n",
       "      <td>7th Grade</td>\n",
       "      <td>01/15/2001</td>\n",
       "      <td>18</td>\n",
       "      <td>Medina</td>\n",
       "      <td>Hispanic</td>\n",
       "      <td>Male</td>\n",
       "      <td>Black</td>\n",
       "      <td>5′ 2″</td>\n",
       "      <td>136</td>\n",
       "      <td>Brown</td>\n",
       "      <td>Frio</td>\n",
       "      <td>Texas</td>\n",
       "    </tr>\n",
       "  </tbody>\n",
       "</table>\n",
       "</div>"
      ],
      "text/plain": [
       "               Name TDCJ Number Date of Birth Date Received  \\\n",
       "0  Gonzales, Ramiro      999513    11/05/1982    09/27/2006   \n",
       "1  Gonzales, Ramiro      999513    11/05/1982    09/27/2006   \n",
       "\n",
       "  Age (when Received) Education Level (Highest Grade Completed)  \\\n",
       "0                  23                                 7th Grade   \n",
       "1                  23                                 7th Grade   \n",
       "\n",
       "  Date of Offense Age (at the time of Offense)  County      Race Gender  \\\n",
       "0      01/15/2001                           18  Medina  Hispanic   Male   \n",
       "1      01/15/2001                           18  Medina  Hispanic   Male   \n",
       "\n",
       "  Hair Color Height (in Feet and Inches) Weight (in Pounds) Eye Color  \\\n",
       "0      Black                       5′ 2″                136     Brown   \n",
       "1      Black                       5′ 2″                136     Brown   \n",
       "\n",
       "  Native County Native State  \n",
       "0          Frio        Texas  \n",
       "1          Frio        Texas  "
      ]
     },
     "execution_count": 162,
     "metadata": {},
     "output_type": "execute_result"
    }
   ],
   "source": [
    "table_dict2 = table_dict\n",
    "table_dict_list = [table_dict, table_dict2]\n",
    "test = pd.DataFrame(table_dict_list)\n",
    "test"
   ]
  },
  {
   "cell_type": "code",
   "execution_count": 324,
   "id": "f92cb33d",
   "metadata": {},
   "outputs": [
    {
     "name": "stdout",
     "output_type": "stream",
     "text": [
      "Scraping https://www.tdcj.texas.gov/death_row/leedle.html ...\n"
     ]
    },
    {
     "name": "stderr",
     "output_type": "stream",
     "text": [
      "C:\\Users\\Alfajiri\\anaconda3\\Lib\\site-packages\\urllib3\\connectionpool.py:1056: InsecureRequestWarning: Unverified HTTPS request is being made to host 'www.tdcj.texas.gov'. Adding certificate verification is strongly advised. See: https://urllib3.readthedocs.io/en/1.26.x/advanced-usage.html#ssl-warnings\n",
      "  warnings.warn(\n"
     ]
    },
    {
     "name": "stdout",
     "output_type": "stream",
     "text": [
      "Invalid status code: 404. Conintuing...\n",
      "Invalid filetype https://www.tdcj.texas.gov/death_row/leedle.jpg . Continuing...\n",
      "Scraping https://www.tdcj.texas.gov/death_row/lee.html ...\n",
      "Invalid status code: 404. Conintuing...\n"
     ]
    },
    {
     "name": "stderr",
     "output_type": "stream",
     "text": [
      "C:\\Users\\Alfajiri\\anaconda3\\Lib\\site-packages\\urllib3\\connectionpool.py:1056: InsecureRequestWarning: Unverified HTTPS request is being made to host 'www.tdcj.texas.gov'. Adding certificate verification is strongly advised. See: https://urllib3.readthedocs.io/en/1.26.x/advanced-usage.html#ssl-warnings\n",
      "  warnings.warn(\n"
     ]
    },
    {
     "data": {
      "text/plain": [
       "[{}, None, {}]"
      ]
     },
     "execution_count": 324,
     "metadata": {},
     "output_type": "execute_result"
    }
   ],
   "source": [
    "## testing invalid responses/filetypes\n",
    "test_paths = ['leedle.html', 'leedle.jpg', 'lee.html']\n",
    "test = [scrape_info(pathname) for pathname in test_paths]\n",
    "test"
   ]
  },
  {
   "cell_type": "code",
   "execution_count": 325,
   "id": "21985caa",
   "metadata": {},
   "outputs": [
    {
     "data": {
      "text/plain": [
       "[{}, {}]"
      ]
     },
     "execution_count": 325,
     "metadata": {},
     "output_type": "execute_result"
    }
   ],
   "source": [
    "## dropping None's (Invalid filetype) and empty dicts (Invalid status code)\n",
    "test2 = list(filter(lambda item: item is not None, test))\n",
    "test2"
   ]
  },
  {
   "cell_type": "code",
   "execution_count": 326,
   "id": "e25e6c20",
   "metadata": {},
   "outputs": [
    {
     "data": {
      "text/plain": [
       "[]"
      ]
     },
     "execution_count": 326,
     "metadata": {},
     "output_type": "execute_result"
    }
   ],
   "source": [
    "test3 = list(filter(None, test))\n",
    "test3"
   ]
  },
  {
   "cell_type": "code",
   "execution_count": null,
   "id": "ac35634b",
   "metadata": {},
   "outputs": [],
   "source": []
  }
 ],
 "metadata": {
  "kernelspec": {
   "display_name": "Python 3 (ipykernel)",
   "language": "python",
   "name": "python3"
  },
  "language_info": {
   "codemirror_mode": {
    "name": "ipython",
    "version": 3
   },
   "file_extension": ".py",
   "mimetype": "text/x-python",
   "name": "python",
   "nbconvert_exporter": "python",
   "pygments_lexer": "ipython3",
   "version": "3.11.5"
  }
 },
 "nbformat": 4,
 "nbformat_minor": 5
}
