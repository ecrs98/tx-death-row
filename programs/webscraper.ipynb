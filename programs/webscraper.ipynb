{
 "cells": [
  {
   "cell_type": "markdown",
   "id": "c1088ad3",
   "metadata": {},
   "source": [
    "# Webscraper\n",
    "#### TX Death Row Last Words\n",
    "#### Kwadwo Alfajiri Shah\n",
    "#### 9 July 2024"
   ]
  },
  {
   "cell_type": "markdown",
   "id": "a9e634b5",
   "metadata": {},
   "source": [
    "Webscraping contains two main tasks\n",
    "* Scraping the main table of [TX Death Row Information](https://www.tdcj.texas.gov/death_row/dr_executed_offenders.html), which includes identifying information for prisoners and links to personal details and last words.\n",
    "* Programmatically accessing the links in the main table and scraping prisoner details and last words from all."
   ]
  },
  {
   "cell_type": "code",
   "execution_count": 58,
   "id": "72683af5",
   "metadata": {},
   "outputs": [],
   "source": [
    "import requests\n",
    "import bs4\n",
    "import pandas as pd"
   ]
  },
  {
   "cell_type": "markdown",
   "id": "6458267e",
   "metadata": {},
   "source": [
    "### 1. Scraping the main table"
   ]
  },
  {
   "cell_type": "markdown",
   "id": "1e4c859f",
   "metadata": {},
   "source": [
    "#### Access webpage"
   ]
  },
  {
   "cell_type": "code",
   "execution_count": 3,
   "id": "a303a03e",
   "metadata": {},
   "outputs": [],
   "source": [
    "## review\n",
    "url = 'https://www.tdcj.texas.gov/death_row/dr_executed_offenders.html'\n",
    "headers = {'User-Agent' : 'Mozilla/5.0 (Windows NT 10.0) AppleWebKit/537.36 (KHTML, like Gecko) Chrome/104.0.0.0 Safari/537.36'}"
   ]
  },
  {
   "cell_type": "code",
   "execution_count": 5,
   "id": "cf4291d0",
   "metadata": {},
   "outputs": [
    {
     "name": "stderr",
     "output_type": "stream",
     "text": [
      "C:\\Users\\Alfajiri\\anaconda3\\Lib\\site-packages\\urllib3\\connectionpool.py:1056: InsecureRequestWarning: Unverified HTTPS request is being made to host 'www.tdcj.texas.gov'. Adding certificate verification is strongly advised. See: https://urllib3.readthedocs.io/en/1.26.x/advanced-usage.html#ssl-warnings\n",
      "  warnings.warn(\n"
     ]
    },
    {
     "data": {
      "text/plain": [
       "<Response [200]>"
      ]
     },
     "execution_count": 5,
     "metadata": {},
     "output_type": "execute_result"
    }
   ],
   "source": [
    "## access\n",
    "status = requests.get(url, headers = headers, verify = False) # verify = True results in an SSL error. not the best practice to proceed without verifying TLS, but...\n",
    "status"
   ]
  },
  {
   "cell_type": "code",
   "execution_count": 6,
   "id": "3ac71988",
   "metadata": {},
   "outputs": [],
   "source": [
    "status.close()"
   ]
  },
  {
   "cell_type": "markdown",
   "id": "3abe4257",
   "metadata": {},
   "source": [
    "#### Parse results"
   ]
  },
  {
   "cell_type": "code",
   "execution_count": 67,
   "id": "629e8442",
   "metadata": {},
   "outputs": [],
   "source": [
    "## parse\n",
    "soup = bs4.BeautifulSoup(status.text, features = 'html.parser')\n",
    "html_table = soup.find_all('tr')"
   ]
  },
  {
   "cell_type": "markdown",
   "id": "9e584e0b",
   "metadata": {},
   "source": [
    "#### Transform"
   ]
  },
  {
   "cell_type": "markdown",
   "id": "be8d8399",
   "metadata": {},
   "source": [
    "Get column names:"
   ]
  },
  {
   "cell_type": "code",
   "execution_count": 77,
   "id": "41607d04",
   "metadata": {},
   "outputs": [],
   "source": [
    "columns_html = html_table.pop(0)\n",
    "columns_html"
   ]
  },
  {
   "cell_type": "code",
   "execution_count": 81,
   "id": "2f5c1b55",
   "metadata": {},
   "outputs": [
    {
     "data": {
      "text/plain": [
       "['Execution',\n",
       " 'Inmate Information',\n",
       " 'Last Words',\n",
       " 'Last Name',\n",
       " 'First Name',\n",
       " 'TDCJNumber',\n",
       " 'Age',\n",
       " 'Date',\n",
       " 'Race',\n",
       " 'County']"
      ]
     },
     "execution_count": 81,
     "metadata": {},
     "output_type": "execute_result"
    }
   ],
   "source": [
    "## create list of col names\n",
    "columns = []\n",
    "\n",
    "for tag in columns_html.find_all('th'):\n",
    "    column = tag.text\n",
    "    columns.append(column)\n",
    "\n",
    "# (custom names - webpage names are both simply 'Link')\n",
    "columns[1] = \"Inmate Information\"\n",
    "columns[2] = \"Last Words\"\n",
    "\n",
    "\n",
    "columns"
   ]
  },
  {
   "cell_type": "markdown",
   "id": "a7f24e24",
   "metadata": {},
   "source": [
    "Create data table:"
   ]
  },
  {
   "cell_type": "code",
   "execution_count": 82,
   "id": "af0fae0c",
   "metadata": {},
   "outputs": [],
   "source": [
    "## create list of table values\n",
    "info_list = []\n",
    "\n",
    "for row in html_table:\n",
    "    row_values = []\n",
    "    for cell in row.find_all('td'):\n",
    "        if cell.a is None:\n",
    "            cell_value = cell.text\n",
    "        else:\n",
    "            cell_value = cell.a['href']\n",
    "        row_values.append(cell_value)\n",
    "    info_list.append(row_values)"
   ]
  },
  {
   "cell_type": "code",
   "execution_count": 83,
   "id": "7caeac44",
   "metadata": {},
   "outputs": [
    {
     "data": {
      "text/html": [
       "<div>\n",
       "<style scoped>\n",
       "    .dataframe tbody tr th:only-of-type {\n",
       "        vertical-align: middle;\n",
       "    }\n",
       "\n",
       "    .dataframe tbody tr th {\n",
       "        vertical-align: top;\n",
       "    }\n",
       "\n",
       "    .dataframe thead th {\n",
       "        text-align: right;\n",
       "    }\n",
       "</style>\n",
       "<table border=\"1\" class=\"dataframe\">\n",
       "  <thead>\n",
       "    <tr style=\"text-align: right;\">\n",
       "      <th></th>\n",
       "      <th>Execution</th>\n",
       "      <th>Inmate Information</th>\n",
       "      <th>Last Words</th>\n",
       "      <th>Last Name</th>\n",
       "      <th>First Name</th>\n",
       "      <th>TDCJNumber</th>\n",
       "      <th>Age</th>\n",
       "      <th>Date</th>\n",
       "      <th>Race</th>\n",
       "      <th>County</th>\n",
       "    </tr>\n",
       "  </thead>\n",
       "  <tbody>\n",
       "    <tr>\n",
       "      <th>0</th>\n",
       "      <td>588</td>\n",
       "      <td>dr_info/gonzalesramiro.html</td>\n",
       "      <td>dr_info/gonzalesramirolast.html</td>\n",
       "      <td>Gonzales</td>\n",
       "      <td>Ramiro</td>\n",
       "      <td>999513</td>\n",
       "      <td>41</td>\n",
       "      <td>6/26/2024</td>\n",
       "      <td>Hispanic</td>\n",
       "      <td>Medina</td>\n",
       "    </tr>\n",
       "    <tr>\n",
       "      <th>1</th>\n",
       "      <td>587</td>\n",
       "      <td>dr_info/cantuivan.html</td>\n",
       "      <td>dr_info/cantuivanlast.html</td>\n",
       "      <td>Cantu</td>\n",
       "      <td>Ivan</td>\n",
       "      <td>999399</td>\n",
       "      <td>50</td>\n",
       "      <td>2/28/2024</td>\n",
       "      <td>Hispanic</td>\n",
       "      <td>Collin</td>\n",
       "    </tr>\n",
       "    <tr>\n",
       "      <th>2</th>\n",
       "      <td>586</td>\n",
       "      <td>dr_info/renteriadavid.html</td>\n",
       "      <td>dr_info/renteriadavidlast.html</td>\n",
       "      <td>Renteria</td>\n",
       "      <td>David</td>\n",
       "      <td>999460</td>\n",
       "      <td>53</td>\n",
       "      <td>11/16/2023</td>\n",
       "      <td>Other</td>\n",
       "      <td>El Paso</td>\n",
       "    </tr>\n",
       "    <tr>\n",
       "      <th>3</th>\n",
       "      <td>585</td>\n",
       "      <td>dr_info/brewer.jpg</td>\n",
       "      <td>dr_info/brewerbrentlast.html</td>\n",
       "      <td>Brewer</td>\n",
       "      <td>Brent</td>\n",
       "      <td>999000</td>\n",
       "      <td>53</td>\n",
       "      <td>11/9/2023</td>\n",
       "      <td>White</td>\n",
       "      <td>Randall</td>\n",
       "    </tr>\n",
       "    <tr>\n",
       "      <th>4</th>\n",
       "      <td>584</td>\n",
       "      <td>dr_info/murphyjedidiah.html</td>\n",
       "      <td>dr_info/murphyjedidiahlast.html</td>\n",
       "      <td>Murphy</td>\n",
       "      <td>Jedidiah</td>\n",
       "      <td>999392</td>\n",
       "      <td>48</td>\n",
       "      <td>10/10/2023</td>\n",
       "      <td>White</td>\n",
       "      <td>Dallas</td>\n",
       "    </tr>\n",
       "    <tr>\n",
       "      <th>...</th>\n",
       "      <td>...</td>\n",
       "      <td>...</td>\n",
       "      <td>...</td>\n",
       "      <td>...</td>\n",
       "      <td>...</td>\n",
       "      <td>...</td>\n",
       "      <td>...</td>\n",
       "      <td>...</td>\n",
       "      <td>...</td>\n",
       "      <td>...</td>\n",
       "    </tr>\n",
       "    <tr>\n",
       "      <th>583</th>\n",
       "      <td>5</td>\n",
       "      <td>dr_info/skillerndoyle.jpg</td>\n",
       "      <td>dr_info/skillerndoylelast.html</td>\n",
       "      <td>Skillern</td>\n",
       "      <td>Doyle</td>\n",
       "      <td>518</td>\n",
       "      <td>49</td>\n",
       "      <td>01/16/1985</td>\n",
       "      <td>White</td>\n",
       "      <td>Lubbock</td>\n",
       "    </tr>\n",
       "    <tr>\n",
       "      <th>584</th>\n",
       "      <td>4</td>\n",
       "      <td>dr_info/barefootthomas.jpg</td>\n",
       "      <td>dr_info/barefootthomaslast.html</td>\n",
       "      <td>Barefoot</td>\n",
       "      <td>Thomas</td>\n",
       "      <td>621</td>\n",
       "      <td>39</td>\n",
       "      <td>10/30/1984</td>\n",
       "      <td>White</td>\n",
       "      <td>Bell</td>\n",
       "    </tr>\n",
       "    <tr>\n",
       "      <th>585</th>\n",
       "      <td>3</td>\n",
       "      <td>dr_info/obryanronald.jpg</td>\n",
       "      <td>dr_info/obryanronaldlast.html</td>\n",
       "      <td>O'Bryan</td>\n",
       "      <td>Ronald</td>\n",
       "      <td>529</td>\n",
       "      <td>39</td>\n",
       "      <td>03/31/1984</td>\n",
       "      <td>White</td>\n",
       "      <td>Harris</td>\n",
       "    </tr>\n",
       "    <tr>\n",
       "      <th>586</th>\n",
       "      <td>2</td>\n",
       "      <td>dr_info/autryjames.html</td>\n",
       "      <td>dr_info/no_last_statement.html</td>\n",
       "      <td>Autry</td>\n",
       "      <td>James</td>\n",
       "      <td>670</td>\n",
       "      <td>29</td>\n",
       "      <td>03/14/1984</td>\n",
       "      <td>White</td>\n",
       "      <td>Jefferson</td>\n",
       "    </tr>\n",
       "    <tr>\n",
       "      <th>587</th>\n",
       "      <td>1</td>\n",
       "      <td>dr_info/brookscharlie.html</td>\n",
       "      <td>dr_info/brookscharlielast.html</td>\n",
       "      <td>Brooks, Jr.</td>\n",
       "      <td>Charlie</td>\n",
       "      <td>592</td>\n",
       "      <td>40</td>\n",
       "      <td>12/07/1982</td>\n",
       "      <td>Black</td>\n",
       "      <td>Tarrant</td>\n",
       "    </tr>\n",
       "  </tbody>\n",
       "</table>\n",
       "<p>588 rows × 10 columns</p>\n",
       "</div>"
      ],
      "text/plain": [
       "    Execution           Inmate Information                       Last Words  \\\n",
       "0         588  dr_info/gonzalesramiro.html  dr_info/gonzalesramirolast.html   \n",
       "1         587       dr_info/cantuivan.html       dr_info/cantuivanlast.html   \n",
       "2         586   dr_info/renteriadavid.html   dr_info/renteriadavidlast.html   \n",
       "3         585           dr_info/brewer.jpg     dr_info/brewerbrentlast.html   \n",
       "4         584  dr_info/murphyjedidiah.html  dr_info/murphyjedidiahlast.html   \n",
       "..        ...                          ...                              ...   \n",
       "583         5    dr_info/skillerndoyle.jpg   dr_info/skillerndoylelast.html   \n",
       "584         4   dr_info/barefootthomas.jpg  dr_info/barefootthomaslast.html   \n",
       "585         3     dr_info/obryanronald.jpg    dr_info/obryanronaldlast.html   \n",
       "586         2      dr_info/autryjames.html   dr_info/no_last_statement.html   \n",
       "587         1   dr_info/brookscharlie.html   dr_info/brookscharlielast.html   \n",
       "\n",
       "       Last Name First Name TDCJNumber Age        Date      Race     County  \n",
       "0       Gonzales     Ramiro     999513  41   6/26/2024  Hispanic     Medina  \n",
       "1          Cantu       Ivan     999399  50   2/28/2024  Hispanic     Collin  \n",
       "2       Renteria      David     999460  53  11/16/2023     Other    El Paso  \n",
       "3         Brewer      Brent     999000  53   11/9/2023     White    Randall  \n",
       "4         Murphy   Jedidiah     999392  48  10/10/2023     White     Dallas  \n",
       "..           ...        ...        ...  ..         ...       ...        ...  \n",
       "583     Skillern      Doyle        518  49  01/16/1985     White    Lubbock  \n",
       "584     Barefoot     Thomas        621  39  10/30/1984     White       Bell  \n",
       "585      O'Bryan     Ronald        529  39  03/31/1984     White     Harris  \n",
       "586        Autry      James        670  29  03/14/1984     White  Jefferson  \n",
       "587  Brooks, Jr.    Charlie        592  40  12/07/1982     Black    Tarrant  \n",
       "\n",
       "[588 rows x 10 columns]"
      ]
     },
     "execution_count": 83,
     "metadata": {},
     "output_type": "execute_result"
    }
   ],
   "source": [
    "## convert list to df\n",
    "info = pd.DataFrame(table_list, columns = name_list)\n",
    "info"
   ]
  },
  {
   "cell_type": "code",
   "execution_count": 84,
   "id": "4fe6f36e",
   "metadata": {},
   "outputs": [],
   "source": [
    "## save\n",
    "info.to_csv('../data/executed_inmates.csv', index=False)"
   ]
  },
  {
   "cell_type": "code",
   "execution_count": null,
   "id": "6d401000",
   "metadata": {},
   "outputs": [],
   "source": []
  }
 ],
 "metadata": {
  "kernelspec": {
   "display_name": "Python 3 (ipykernel)",
   "language": "python",
   "name": "python3"
  },
  "language_info": {
   "codemirror_mode": {
    "name": "ipython",
    "version": 3
   },
   "file_extension": ".py",
   "mimetype": "text/x-python",
   "name": "python",
   "nbconvert_exporter": "python",
   "pygments_lexer": "ipython3",
   "version": "3.11.5"
  }
 },
 "nbformat": 4,
 "nbformat_minor": 5
}
