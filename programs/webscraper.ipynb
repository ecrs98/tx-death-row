{
 "cells": [
  {
   "cell_type": "markdown",
   "id": "c1088ad3",
   "metadata": {},
   "source": [
    "# Webscraper\n",
    "#### TX Death Row Last Words\n",
    "#### Kwadwo Alfajiri Shah\n",
    "#### 9 July 2024"
   ]
  },
  {
   "cell_type": "markdown",
   "id": "a9e634b5",
   "metadata": {},
   "source": [
    "Webscraping contains two main tasks\n",
    "* Scraping the main table of [TX Death Row Information](https://www.tdcj.texas.gov/death_row/dr_executed_offenders.html), which includes identifying information for prisoners and links to personal details and last words.\n",
    "* Programmatically accessing the links in the main table and scraping prisoner details and last words from all."
   ]
  },
  {
   "cell_type": "code",
   "execution_count": 58,
   "id": "72683af5",
   "metadata": {},
   "outputs": [],
   "source": [
    "import requests\n",
    "import bs4\n",
    "import pandas as pd"
   ]
  },
  {
   "cell_type": "markdown",
   "id": "6458267e",
   "metadata": {},
   "source": [
    "### 1. Scraping the main table"
   ]
  },
  {
   "cell_type": "markdown",
   "id": "b0aae4c5",
   "metadata": {},
   "source": [
    "#### Access webpage"
   ]
  },
  {
   "cell_type": "code",
   "execution_count": 205,
   "id": "a303a03e",
   "metadata": {},
   "outputs": [],
   "source": [
    "## review\n",
    "url = 'https://www.tdcj.texas.gov/death_row/dr_executed_offenders.html'\n",
    "headers = {'User-Agent' : 'Mozilla/5.0 (Windows NT 10.0) AppleWebKit/537.36 (KHTML, like Gecko) Chrome/104.0.0.0 Safari/537.36'}"
   ]
  },
  {
   "cell_type": "code",
   "execution_count": 206,
   "id": "cf4291d0",
   "metadata": {},
   "outputs": [
    {
     "name": "stderr",
     "output_type": "stream",
     "text": [
      "C:\\Users\\Alfajiri\\anaconda3\\Lib\\site-packages\\urllib3\\connectionpool.py:1056: InsecureRequestWarning: Unverified HTTPS request is being made to host 'www.tdcj.texas.gov'. Adding certificate verification is strongly advised. See: https://urllib3.readthedocs.io/en/1.26.x/advanced-usage.html#ssl-warnings\n",
      "  warnings.warn(\n"
     ]
    },
    {
     "data": {
      "text/plain": [
       "<Response [200]>"
      ]
     },
     "execution_count": 206,
     "metadata": {},
     "output_type": "execute_result"
    }
   ],
   "source": [
    "## access\n",
    "status = requests.get(url, headers = headers, verify = False) # verify = True results in an SSL error. not the best practice to proceed without verifying TLS, but...\n",
    "status"
   ]
  },
  {
   "cell_type": "code",
   "execution_count": 207,
   "id": "3ac71988",
   "metadata": {},
   "outputs": [],
   "source": [
    "status.close()"
   ]
  },
  {
   "cell_type": "markdown",
   "id": "f3fadba8",
   "metadata": {},
   "source": [
    "#### Parse results"
   ]
  },
  {
   "cell_type": "code",
   "execution_count": 208,
   "id": "629e8442",
   "metadata": {},
   "outputs": [],
   "source": [
    "## parse\n",
    "soup = bs4.BeautifulSoup(status.text, features = 'html.parser')\n",
    "html_table = soup.find_all('tr')"
   ]
  },
  {
   "cell_type": "markdown",
   "id": "a127bb13",
   "metadata": {},
   "source": [
    "#### Transform"
   ]
  },
  {
   "cell_type": "markdown",
   "id": "529dc4d7",
   "metadata": {},
   "source": [
    "Get column names:"
   ]
  },
  {
   "cell_type": "code",
   "execution_count": 209,
   "id": "41607d04",
   "metadata": {},
   "outputs": [
    {
     "data": {
      "text/plain": [
       "<tr>\n",
       "<th scope=\"col\" style=\"text-align: center\">Execution</th>\n",
       "<th scope=\"col\" style=\"text-align: center; width: 16%\">Link</th>\n",
       "<th scope=\"col\" style=\"text-align: center; width: 13%\">Link</th>\n",
       "<th scope=\"col\" style=\"text-align: center\">Last Name</th>\n",
       "<th scope=\"col\" style=\"text-align: center\">First Name</th>\n",
       "<th scope=\"col\" style=\"text-align: center; width: 7%\">TDCJ<br/>Number</th>\n",
       "<th scope=\"col\" style=\"text-align: center\">Age</th>\n",
       "<th scope=\"col\" style=\"text-align: center\">Date</th>\n",
       "<th scope=\"col\" style=\"text-align: center\">Race</th>\n",
       "<th scope=\"col\" style=\"text-align: center\">County</th>\n",
       "</tr>"
      ]
     },
     "execution_count": 209,
     "metadata": {},
     "output_type": "execute_result"
    }
   ],
   "source": [
    "columns_html = html_table.pop(0)\n",
    "columns_html"
   ]
  },
  {
   "cell_type": "code",
   "execution_count": 210,
   "id": "2f5c1b55",
   "metadata": {},
   "outputs": [
    {
     "data": {
      "text/plain": [
       "['Execution',\n",
       " 'Inmate Information',\n",
       " 'Last Words',\n",
       " 'Last Name',\n",
       " 'First Name',\n",
       " 'TDCJNumber',\n",
       " 'Age',\n",
       " 'Date',\n",
       " 'Race',\n",
       " 'County']"
      ]
     },
     "execution_count": 210,
     "metadata": {},
     "output_type": "execute_result"
    }
   ],
   "source": [
    "## create list of col names\n",
    "columns = []\n",
    "\n",
    "for tag in columns_html.find_all('th'):\n",
    "    column = tag.text\n",
    "    columns.append(column)\n",
    "\n",
    "# (custom names - webpage names are both simply 'Link')\n",
    "columns[1] = \"Inmate Information\"\n",
    "columns[2] = \"Last Words\"\n",
    "\n",
    "\n",
    "columns"
   ]
  },
  {
   "cell_type": "markdown",
   "id": "c06d4ff1",
   "metadata": {},
   "source": [
    "Create data table:"
   ]
  },
  {
   "cell_type": "code",
   "execution_count": 213,
   "id": "af0fae0c",
   "metadata": {},
   "outputs": [],
   "source": [
    "## create list of table values\n",
    "executed_list = []\n",
    "\n",
    "for row in html_table:\n",
    "    row_values = []\n",
    "    for cell in row.find_all('td'):\n",
    "        if cell.a is None:\n",
    "            cell_value = cell.text\n",
    "        else:\n",
    "            cell_value = cell.a['href']\n",
    "        row_values.append(cell_value)\n",
    "    executed_list.append(row_values)"
   ]
  },
  {
   "cell_type": "code",
   "execution_count": 214,
   "id": "5c557e99",
   "metadata": {},
   "outputs": [
    {
     "data": {
      "text/html": [
       "<div>\n",
       "<style scoped>\n",
       "    .dataframe tbody tr th:only-of-type {\n",
       "        vertical-align: middle;\n",
       "    }\n",
       "\n",
       "    .dataframe tbody tr th {\n",
       "        vertical-align: top;\n",
       "    }\n",
       "\n",
       "    .dataframe thead th {\n",
       "        text-align: right;\n",
       "    }\n",
       "</style>\n",
       "<table border=\"1\" class=\"dataframe\">\n",
       "  <thead>\n",
       "    <tr style=\"text-align: right;\">\n",
       "      <th></th>\n",
       "      <th>Execution</th>\n",
       "      <th>Inmate Information</th>\n",
       "      <th>Last Words</th>\n",
       "      <th>Last Name</th>\n",
       "      <th>First Name</th>\n",
       "      <th>TDCJNumber</th>\n",
       "      <th>Age</th>\n",
       "      <th>Date</th>\n",
       "      <th>Race</th>\n",
       "      <th>County</th>\n",
       "    </tr>\n",
       "  </thead>\n",
       "  <tbody>\n",
       "    <tr>\n",
       "      <th>0</th>\n",
       "      <td>588</td>\n",
       "      <td>dr_info/gonzalesramiro.html</td>\n",
       "      <td>dr_info/gonzalesramirolast.html</td>\n",
       "      <td>Gonzales</td>\n",
       "      <td>Ramiro</td>\n",
       "      <td>999513</td>\n",
       "      <td>41</td>\n",
       "      <td>6/26/2024</td>\n",
       "      <td>Hispanic</td>\n",
       "      <td>Medina</td>\n",
       "    </tr>\n",
       "    <tr>\n",
       "      <th>1</th>\n",
       "      <td>587</td>\n",
       "      <td>dr_info/cantuivan.html</td>\n",
       "      <td>dr_info/cantuivanlast.html</td>\n",
       "      <td>Cantu</td>\n",
       "      <td>Ivan</td>\n",
       "      <td>999399</td>\n",
       "      <td>50</td>\n",
       "      <td>2/28/2024</td>\n",
       "      <td>Hispanic</td>\n",
       "      <td>Collin</td>\n",
       "    </tr>\n",
       "    <tr>\n",
       "      <th>2</th>\n",
       "      <td>586</td>\n",
       "      <td>dr_info/renteriadavid.html</td>\n",
       "      <td>dr_info/renteriadavidlast.html</td>\n",
       "      <td>Renteria</td>\n",
       "      <td>David</td>\n",
       "      <td>999460</td>\n",
       "      <td>53</td>\n",
       "      <td>11/16/2023</td>\n",
       "      <td>Other</td>\n",
       "      <td>El Paso</td>\n",
       "    </tr>\n",
       "    <tr>\n",
       "      <th>3</th>\n",
       "      <td>585</td>\n",
       "      <td>dr_info/brewer.jpg</td>\n",
       "      <td>dr_info/brewerbrentlast.html</td>\n",
       "      <td>Brewer</td>\n",
       "      <td>Brent</td>\n",
       "      <td>999000</td>\n",
       "      <td>53</td>\n",
       "      <td>11/9/2023</td>\n",
       "      <td>White</td>\n",
       "      <td>Randall</td>\n",
       "    </tr>\n",
       "    <tr>\n",
       "      <th>4</th>\n",
       "      <td>584</td>\n",
       "      <td>dr_info/murphyjedidiah.html</td>\n",
       "      <td>dr_info/murphyjedidiahlast.html</td>\n",
       "      <td>Murphy</td>\n",
       "      <td>Jedidiah</td>\n",
       "      <td>999392</td>\n",
       "      <td>48</td>\n",
       "      <td>10/10/2023</td>\n",
       "      <td>White</td>\n",
       "      <td>Dallas</td>\n",
       "    </tr>\n",
       "    <tr>\n",
       "      <th>5</th>\n",
       "      <td>583</td>\n",
       "      <td>dr_info/brownarthur.jpg</td>\n",
       "      <td>dr_info/brownarthurlast.html</td>\n",
       "      <td>Brown, Jr.</td>\n",
       "      <td>Arthur</td>\n",
       "      <td>999110</td>\n",
       "      <td>52</td>\n",
       "      <td>3/9/2023</td>\n",
       "      <td>Black</td>\n",
       "      <td>Harris</td>\n",
       "    </tr>\n",
       "    <tr>\n",
       "      <th>6</th>\n",
       "      <td>582</td>\n",
       "      <td>dr_info/greengary.html</td>\n",
       "      <td>dr_info/greengarylast.html</td>\n",
       "      <td>Green</td>\n",
       "      <td>Gary</td>\n",
       "      <td>999561</td>\n",
       "      <td>51</td>\n",
       "      <td>3/7/2023</td>\n",
       "      <td>Black</td>\n",
       "      <td>Dallas</td>\n",
       "    </tr>\n",
       "    <tr>\n",
       "      <th>7</th>\n",
       "      <td>581</td>\n",
       "      <td>dr_info/balentinejohn.html</td>\n",
       "      <td>dr_info/balentinejohnlast.html</td>\n",
       "      <td>Balentine</td>\n",
       "      <td>John</td>\n",
       "      <td>999315</td>\n",
       "      <td>54</td>\n",
       "      <td>2/9/2023</td>\n",
       "      <td>Black</td>\n",
       "      <td>Potter</td>\n",
       "    </tr>\n",
       "    <tr>\n",
       "      <th>8</th>\n",
       "      <td>580</td>\n",
       "      <td>dr_info/ruizwesley.html</td>\n",
       "      <td>dr_info/ruizwesleylast.html</td>\n",
       "      <td>Ruiz</td>\n",
       "      <td>Wesley</td>\n",
       "      <td>999536</td>\n",
       "      <td>43</td>\n",
       "      <td>2/1/2023</td>\n",
       "      <td>Hispanic</td>\n",
       "      <td>Dallas</td>\n",
       "    </tr>\n",
       "    <tr>\n",
       "      <th>9</th>\n",
       "      <td>579</td>\n",
       "      <td>dr_info/frattarobert.jpg</td>\n",
       "      <td>dr_info/frattarobertlast.html</td>\n",
       "      <td>Fratta</td>\n",
       "      <td>Robert</td>\n",
       "      <td>999189</td>\n",
       "      <td>65</td>\n",
       "      <td>1/10/2023</td>\n",
       "      <td>White</td>\n",
       "      <td>Harris</td>\n",
       "    </tr>\n",
       "  </tbody>\n",
       "</table>\n",
       "</div>"
      ],
      "text/plain": [
       "  Execution           Inmate Information                       Last Words  \\\n",
       "0       588  dr_info/gonzalesramiro.html  dr_info/gonzalesramirolast.html   \n",
       "1       587       dr_info/cantuivan.html       dr_info/cantuivanlast.html   \n",
       "2       586   dr_info/renteriadavid.html   dr_info/renteriadavidlast.html   \n",
       "3       585           dr_info/brewer.jpg     dr_info/brewerbrentlast.html   \n",
       "4       584  dr_info/murphyjedidiah.html  dr_info/murphyjedidiahlast.html   \n",
       "5       583      dr_info/brownarthur.jpg     dr_info/brownarthurlast.html   \n",
       "6       582       dr_info/greengary.html       dr_info/greengarylast.html   \n",
       "7       581   dr_info/balentinejohn.html   dr_info/balentinejohnlast.html   \n",
       "8       580      dr_info/ruizwesley.html      dr_info/ruizwesleylast.html   \n",
       "9       579     dr_info/frattarobert.jpg    dr_info/frattarobertlast.html   \n",
       "\n",
       "    Last Name First Name TDCJNumber Age        Date      Race    County  \n",
       "0    Gonzales     Ramiro     999513  41   6/26/2024  Hispanic    Medina  \n",
       "1       Cantu       Ivan     999399  50   2/28/2024  Hispanic    Collin  \n",
       "2    Renteria      David     999460  53  11/16/2023     Other   El Paso  \n",
       "3      Brewer      Brent     999000  53   11/9/2023     White   Randall  \n",
       "4      Murphy   Jedidiah     999392  48  10/10/2023     White    Dallas  \n",
       "5  Brown, Jr.     Arthur     999110  52    3/9/2023     Black    Harris  \n",
       "6       Green       Gary     999561  51    3/7/2023     Black    Dallas  \n",
       "7   Balentine       John     999315  54    2/9/2023     Black    Potter  \n",
       "8        Ruiz     Wesley     999536  43    2/1/2023  Hispanic    Dallas  \n",
       "9      Fratta     Robert     999189  65   1/10/2023     White    Harris  "
      ]
     },
     "execution_count": 214,
     "metadata": {},
     "output_type": "execute_result"
    }
   ],
   "source": [
    "## convert list to df\n",
    "executed = pd.DataFrame(executed_list, columns = name_list)\n",
    "executed.head(10)"
   ]
  },
  {
   "cell_type": "code",
   "execution_count": 84,
   "id": "8e729809",
   "metadata": {},
   "outputs": [],
   "source": [
    "## save\n",
    "info.to_csv('../data/executed_inmates.csv', index=False)"
   ]
  },
  {
   "cell_type": "code",
   "execution_count": null,
   "id": "b207f6a1",
   "metadata": {},
   "outputs": [],
   "source": []
  },
  {
   "cell_type": "markdown",
   "id": "65ed13d9",
   "metadata": {},
   "source": [
    "## 2. Scraping prisoner info and last words"
   ]
  },
  {
   "cell_type": "markdown",
   "id": "c3f519f6",
   "metadata": {},
   "source": [
    "#### Scraping info"
   ]
  },
  {
   "cell_type": "code",
   "execution_count": 178,
   "id": "b43c2f0d",
   "metadata": {},
   "outputs": [],
   "source": [
    "url_base = 'https://www.tdcj.texas.gov/death_row/'"
   ]
  },
  {
   "cell_type": "code",
   "execution_count": 199,
   "id": "5524dfd0",
   "metadata": {},
   "outputs": [],
   "source": [
    "def scrape_info(path_name):\n",
    "    '''Scrape prisoner information programatically.'''\n",
    "    \n",
    "    if path_name.endswith('.html'):\n",
    "    \n",
    "        url = url_base + path_name\n",
    "        print(f'Scraping {url} ...')\n",
    "    \n",
    "        ## access\n",
    "        status = requests.get(url, headers = headers, verify = False) # verify = True results in an SSL error. not the best practice to proceed without verifying TLS, but...\n",
    "        status.close()\n",
    "        \n",
    "        if status.status_code != 200:\n",
    "            raise ValueError(f'Invalid status code: {status.status_code}')\n",
    "            \n",
    "        ## parse\n",
    "        soup = bs4.BeautifulSoup(status.text, features = 'html.parser')\n",
    "        html_table = soup.find_all('tr')\n",
    "        \n",
    "        ## transform\n",
    "        table_dict = {}\n",
    "\n",
    "        for row in html_table:\n",
    "                row_content = [x for x in row.text.replace('\\xa0','').split('\\n') if x]\n",
    "                table_dict[row_content[0]] = row_content[1]\n",
    "        \n",
    "        return(table_dict)\n",
    "    \n",
    "    else:\n",
    "        print(f'Invalid filetype {url}. Continuing...')\n",
    "        \n",
    "        \n",
    "        \n",
    "    \n",
    "    "
   ]
  },
  {
   "cell_type": "code",
   "execution_count": 202,
   "id": "4d057fb1",
   "metadata": {},
   "outputs": [
    {
     "name": "stdout",
     "output_type": "stream",
     "text": [
      "Scraping https://www.tdcj.texas.gov/death_row/dr_info/gonzalesramiro.html ...\n"
     ]
    },
    {
     "name": "stderr",
     "output_type": "stream",
     "text": [
      "C:\\Users\\Alfajiri\\anaconda3\\Lib\\site-packages\\urllib3\\connectionpool.py:1056: InsecureRequestWarning: Unverified HTTPS request is being made to host 'www.tdcj.texas.gov'. Adding certificate verification is strongly advised. See: https://urllib3.readthedocs.io/en/1.26.x/advanced-usage.html#ssl-warnings\n",
      "  warnings.warn(\n"
     ]
    },
    {
     "name": "stdout",
     "output_type": "stream",
     "text": [
      "Scraping https://www.tdcj.texas.gov/death_row/dr_info/cantuivan.html ...\n"
     ]
    },
    {
     "name": "stderr",
     "output_type": "stream",
     "text": [
      "C:\\Users\\Alfajiri\\anaconda3\\Lib\\site-packages\\urllib3\\connectionpool.py:1056: InsecureRequestWarning: Unverified HTTPS request is being made to host 'www.tdcj.texas.gov'. Adding certificate verification is strongly advised. See: https://urllib3.readthedocs.io/en/1.26.x/advanced-usage.html#ssl-warnings\n",
      "  warnings.warn(\n"
     ]
    },
    {
     "name": "stdout",
     "output_type": "stream",
     "text": [
      "Scraping https://www.tdcj.texas.gov/death_row/dr_info/renteriadavid.html ...\n"
     ]
    },
    {
     "name": "stderr",
     "output_type": "stream",
     "text": [
      "C:\\Users\\Alfajiri\\anaconda3\\Lib\\site-packages\\urllib3\\connectionpool.py:1056: InsecureRequestWarning: Unverified HTTPS request is being made to host 'www.tdcj.texas.gov'. Adding certificate verification is strongly advised. See: https://urllib3.readthedocs.io/en/1.26.x/advanced-usage.html#ssl-warnings\n",
      "  warnings.warn(\n"
     ]
    },
    {
     "name": "stdout",
     "output_type": "stream",
     "text": [
      "Invalid filetype dr_info/brewer.jpg. Continuing...\n",
      "Scraping https://www.tdcj.texas.gov/death_row/dr_info/murphyjedidiah.html ...\n"
     ]
    },
    {
     "name": "stderr",
     "output_type": "stream",
     "text": [
      "C:\\Users\\Alfajiri\\anaconda3\\Lib\\site-packages\\urllib3\\connectionpool.py:1056: InsecureRequestWarning: Unverified HTTPS request is being made to host 'www.tdcj.texas.gov'. Adding certificate verification is strongly advised. See: https://urllib3.readthedocs.io/en/1.26.x/advanced-usage.html#ssl-warnings\n",
      "  warnings.warn(\n"
     ]
    },
    {
     "name": "stdout",
     "output_type": "stream",
     "text": [
      "Invalid filetype dr_info/brownarthur.jpg. Continuing...\n",
      "Scraping https://www.tdcj.texas.gov/death_row/dr_info/greengary.html ...\n"
     ]
    },
    {
     "name": "stderr",
     "output_type": "stream",
     "text": [
      "C:\\Users\\Alfajiri\\anaconda3\\Lib\\site-packages\\urllib3\\connectionpool.py:1056: InsecureRequestWarning: Unverified HTTPS request is being made to host 'www.tdcj.texas.gov'. Adding certificate verification is strongly advised. See: https://urllib3.readthedocs.io/en/1.26.x/advanced-usage.html#ssl-warnings\n",
      "  warnings.warn(\n"
     ]
    },
    {
     "ename": "IndexError",
     "evalue": "list index out of range",
     "output_type": "error",
     "traceback": [
      "\u001b[1;31m---------------------------------------------------------------------------\u001b[0m",
      "\u001b[1;31mIndexError\u001b[0m                                Traceback (most recent call last)",
      "Cell \u001b[1;32mIn[202], line 6\u001b[0m\n\u001b[0;32m      4\u001b[0m info_list \u001b[38;5;241m=\u001b[39m []\n\u001b[0;32m      5\u001b[0m \u001b[38;5;28;01mfor\u001b[39;00m pathname \u001b[38;5;129;01min\u001b[39;00m info[\u001b[38;5;124m'\u001b[39m\u001b[38;5;124mInmate Information\u001b[39m\u001b[38;5;124m'\u001b[39m]:\n\u001b[1;32m----> 6\u001b[0m     scraped_info \u001b[38;5;241m=\u001b[39m scrape_info(pathname)\n\u001b[0;32m      7\u001b[0m     info_list\u001b[38;5;241m.\u001b[39mappend(scraped_info)\n",
      "Cell \u001b[1;32mIn[199], line 25\u001b[0m, in \u001b[0;36mscrape_info\u001b[1;34m(path_name)\u001b[0m\n\u001b[0;32m     23\u001b[0m     \u001b[38;5;28;01mfor\u001b[39;00m row \u001b[38;5;129;01min\u001b[39;00m html_table:\n\u001b[0;32m     24\u001b[0m             row_content \u001b[38;5;241m=\u001b[39m [x \u001b[38;5;28;01mfor\u001b[39;00m x \u001b[38;5;129;01min\u001b[39;00m row\u001b[38;5;241m.\u001b[39mtext\u001b[38;5;241m.\u001b[39mreplace(\u001b[38;5;124m'\u001b[39m\u001b[38;5;130;01m\\xa0\u001b[39;00m\u001b[38;5;124m'\u001b[39m,\u001b[38;5;124m'\u001b[39m\u001b[38;5;124m'\u001b[39m)\u001b[38;5;241m.\u001b[39msplit(\u001b[38;5;124m'\u001b[39m\u001b[38;5;130;01m\\n\u001b[39;00m\u001b[38;5;124m'\u001b[39m) \u001b[38;5;28;01mif\u001b[39;00m x]\n\u001b[1;32m---> 25\u001b[0m             table_dict[row_content[\u001b[38;5;241m0\u001b[39m]] \u001b[38;5;241m=\u001b[39m row_content[\u001b[38;5;241m1\u001b[39m]\n\u001b[0;32m     27\u001b[0m     \u001b[38;5;28;01mreturn\u001b[39;00m(table_dict)\n\u001b[0;32m     29\u001b[0m \u001b[38;5;28;01melse\u001b[39;00m:\n",
      "\u001b[1;31mIndexError\u001b[0m: list index out of range"
     ]
    }
   ],
   "source": [
    "# scraped_info = [scrape_info(pathname) for pathname in info['Inmate Information']]\n",
    "\n",
    "# using for loop allows to save results even if there's an error in the process\n",
    "info_list = []\n",
    "for pathname in info['Inmate Information']:\n",
    "    scraped_info = scrape_info(pathname)\n",
    "    info_list.append(scraped_info)"
   ]
  },
  {
   "cell_type": "code",
   "execution_count": 203,
   "id": "b571952f",
   "metadata": {},
   "outputs": [
    {
     "data": {
      "text/plain": [
       "[{'Name': 'Gonzales, Ramiro',\n",
       "  'TDCJ Number': '999513',\n",
       "  'Date of Birth': '11/05/1982',\n",
       "  'Date Received': '09/27/2006',\n",
       "  'Age (when Received)': '23',\n",
       "  'Education Level (Highest Grade Completed)': '7th Grade',\n",
       "  'Date of Offense': '01/15/2001',\n",
       "  'Age (at the time of Offense)': '18',\n",
       "  'County': 'Medina',\n",
       "  'Race': 'Hispanic',\n",
       "  'Gender': 'Male',\n",
       "  'Hair Color': 'Black',\n",
       "  'Height (in Feet and Inches)': '5′ 2″',\n",
       "  'Weight (in Pounds)': '136',\n",
       "  'Eye Color': 'Brown',\n",
       "  'Native County': 'Frio',\n",
       "  'Native State': 'Texas'},\n",
       " {'Name': 'Cantu, Ivan Abner',\n",
       "  'TDCJ Number': '999399',\n",
       "  'Date of Birth': '06/14/1973',\n",
       "  'Date Received': '11/08/2001',\n",
       "  'Age (when    Received)': '28',\n",
       "  'Education Level (Highest Grade Completed)': '12',\n",
       "  'Date of Offense': '11/04/2000',\n",
       "  'Age (at the time of Offense)': '27',\n",
       "  'County': 'Collin',\n",
       "  'Race': 'Hispanic',\n",
       "  'Gender': 'Male',\n",
       "  'Hair Color': 'Black',\n",
       "  'Height (in Feet and Inches)': '5′ 7″',\n",
       "  'Weight (in Pounds)': '176',\n",
       "  'Eye Color': 'Brown',\n",
       "  'Native County': 'Dallas',\n",
       "  'Native State': 'Texas'},\n",
       " {'Name': 'Renteria, David Santiago',\n",
       "  'TDCJ Number': '999460',\n",
       "  'Date of Birth': '11/22/1969',\n",
       "  'Date Received': '11/20/2003',\n",
       "  'Age (when Received)': '33',\n",
       "  'Education Level (Highest Grade Completed)': '12',\n",
       "  'Date of Offense': '11/18/2001',\n",
       "  'Age (at the time of Offense)': '31',\n",
       "  'County': 'El Paso',\n",
       "  'Race': 'Other, (Native American)',\n",
       "  'Gender': 'Male',\n",
       "  'Hair Color': 'Black',\n",
       "  'Height (in Feet and Inches)': '5′ 5″',\n",
       "  'Weight (in Pounds)': '182',\n",
       "  'Eye Color': 'Brown',\n",
       "  'Native County': 'El Paso',\n",
       "  'Native State': 'Texas'},\n",
       " None,\n",
       " {'Name': 'Murphy, Jedidiah Isaac',\n",
       "  'TDCJ Number': '999392',\n",
       "  'Date of Birth': '09/01/1975',\n",
       "  'Date Received': '07/26/2001',\n",
       "  'Age (when    Received)': '25',\n",
       "  'Education Level (Highest Grade Completed)': '12',\n",
       "  'Date of Offense': '10/04/2000',\n",
       "  'Age (at the time of Offense)': '25',\n",
       "  'County': 'Dallas',\n",
       "  'Race': 'White',\n",
       "  'Gender': 'Male',\n",
       "  'Hair Color': 'Brown',\n",
       "  'Height (in Feet and Inches)': '5′ 7″',\n",
       "  'Weight (in Pounds)': '155',\n",
       "  'Eye Color': 'Brown',\n",
       "  'Native County': 'Sutton',\n",
       "  'Native State': 'Texas'},\n",
       " None]"
      ]
     },
     "execution_count": 203,
     "metadata": {},
     "output_type": "execute_result"
    }
   ],
   "source": [
    "info_list"
   ]
  },
  {
   "cell_type": "markdown",
   "id": "bd3b68d3",
   "metadata": {},
   "source": [
    "#### Starting with one (0)"
   ]
  },
  {
   "cell_type": "code",
   "execution_count": 86,
   "id": "8a6085b7",
   "metadata": {},
   "outputs": [
    {
     "data": {
      "text/plain": [
       "'https://www.tdcj.texas.gov/death_row/dr_info/gonzalesramiro.html'"
      ]
     },
     "execution_count": 86,
     "metadata": {},
     "output_type": "execute_result"
    }
   ],
   "source": [
    "url_base = 'https://www.tdcj.texas.gov/death_row/'\n",
    "url = url_base + info['Inmate Information'][0]\n",
    "url"
   ]
  },
  {
   "cell_type": "code",
   "execution_count": 164,
   "id": "25d20733",
   "metadata": {},
   "outputs": [
    {
     "name": "stderr",
     "output_type": "stream",
     "text": [
      "C:\\Users\\Alfajiri\\anaconda3\\Lib\\site-packages\\urllib3\\connectionpool.py:1056: InsecureRequestWarning: Unverified HTTPS request is being made to host 'www.tdcj.texas.gov'. Adding certificate verification is strongly advised. See: https://urllib3.readthedocs.io/en/1.26.x/advanced-usage.html#ssl-warnings\n",
      "  warnings.warn(\n"
     ]
    },
    {
     "data": {
      "text/plain": [
       "<Response [200]>"
      ]
     },
     "execution_count": 164,
     "metadata": {},
     "output_type": "execute_result"
    }
   ],
   "source": [
    "## access\n",
    "status = requests.get(url, headers = headers, verify = False) # verify = True results in an SSL error. not the best practice to proceed without verifying TLS, but...\n",
    "status"
   ]
  },
  {
   "cell_type": "code",
   "execution_count": 167,
   "id": "c4d9ca06",
   "metadata": {},
   "outputs": [],
   "source": [
    "status.close()"
   ]
  },
  {
   "cell_type": "code",
   "execution_count": 97,
   "id": "19a8a107",
   "metadata": {},
   "outputs": [],
   "source": [
    "## parse\n",
    "soup = bs4.BeautifulSoup(status.text, features = 'html.parser')\n",
    "html_table = soup.find_all('tr')"
   ]
  },
  {
   "cell_type": "code",
   "execution_count": 160,
   "id": "289ce52c",
   "metadata": {},
   "outputs": [
    {
     "data": {
      "text/plain": [
       "{'Name': 'Gonzales, Ramiro',\n",
       " 'TDCJ Number': '999513',\n",
       " 'Date of Birth': '11/05/1982',\n",
       " 'Date Received': '09/27/2006',\n",
       " 'Age (when Received)': '23',\n",
       " 'Education Level (Highest Grade Completed)': '7th Grade',\n",
       " 'Date of Offense': '01/15/2001',\n",
       " 'Age (at the time of Offense)': '18',\n",
       " 'County': 'Medina',\n",
       " 'Race': 'Hispanic',\n",
       " 'Gender': 'Male',\n",
       " 'Hair Color': 'Black',\n",
       " 'Height (in Feet and Inches)': '5′ 2″',\n",
       " 'Weight (in Pounds)': '136',\n",
       " 'Eye Color': 'Brown',\n",
       " 'Native County': 'Frio',\n",
       " 'Native State': 'Texas'}"
      ]
     },
     "execution_count": 160,
     "metadata": {},
     "output_type": "execute_result"
    }
   ],
   "source": [
    "table_dict = {}\n",
    "\n",
    "for row in html_table:\n",
    "        row_content = [x for x in row.text.replace('\\xa0','').split('\\n') if x]\n",
    "        table_dict[row_content[0]] = row_content[1]\n",
    "        \n",
    "table_dict"
   ]
  },
  {
   "cell_type": "code",
   "execution_count": 162,
   "id": "b43a1f52",
   "metadata": {},
   "outputs": [
    {
     "data": {
      "text/html": [
       "<div>\n",
       "<style scoped>\n",
       "    .dataframe tbody tr th:only-of-type {\n",
       "        vertical-align: middle;\n",
       "    }\n",
       "\n",
       "    .dataframe tbody tr th {\n",
       "        vertical-align: top;\n",
       "    }\n",
       "\n",
       "    .dataframe thead th {\n",
       "        text-align: right;\n",
       "    }\n",
       "</style>\n",
       "<table border=\"1\" class=\"dataframe\">\n",
       "  <thead>\n",
       "    <tr style=\"text-align: right;\">\n",
       "      <th></th>\n",
       "      <th>Name</th>\n",
       "      <th>TDCJ Number</th>\n",
       "      <th>Date of Birth</th>\n",
       "      <th>Date Received</th>\n",
       "      <th>Age (when Received)</th>\n",
       "      <th>Education Level (Highest Grade Completed)</th>\n",
       "      <th>Date of Offense</th>\n",
       "      <th>Age (at the time of Offense)</th>\n",
       "      <th>County</th>\n",
       "      <th>Race</th>\n",
       "      <th>Gender</th>\n",
       "      <th>Hair Color</th>\n",
       "      <th>Height (in Feet and Inches)</th>\n",
       "      <th>Weight (in Pounds)</th>\n",
       "      <th>Eye Color</th>\n",
       "      <th>Native County</th>\n",
       "      <th>Native State</th>\n",
       "    </tr>\n",
       "  </thead>\n",
       "  <tbody>\n",
       "    <tr>\n",
       "      <th>0</th>\n",
       "      <td>Gonzales, Ramiro</td>\n",
       "      <td>999513</td>\n",
       "      <td>11/05/1982</td>\n",
       "      <td>09/27/2006</td>\n",
       "      <td>23</td>\n",
       "      <td>7th Grade</td>\n",
       "      <td>01/15/2001</td>\n",
       "      <td>18</td>\n",
       "      <td>Medina</td>\n",
       "      <td>Hispanic</td>\n",
       "      <td>Male</td>\n",
       "      <td>Black</td>\n",
       "      <td>5′ 2″</td>\n",
       "      <td>136</td>\n",
       "      <td>Brown</td>\n",
       "      <td>Frio</td>\n",
       "      <td>Texas</td>\n",
       "    </tr>\n",
       "    <tr>\n",
       "      <th>1</th>\n",
       "      <td>Gonzales, Ramiro</td>\n",
       "      <td>999513</td>\n",
       "      <td>11/05/1982</td>\n",
       "      <td>09/27/2006</td>\n",
       "      <td>23</td>\n",
       "      <td>7th Grade</td>\n",
       "      <td>01/15/2001</td>\n",
       "      <td>18</td>\n",
       "      <td>Medina</td>\n",
       "      <td>Hispanic</td>\n",
       "      <td>Male</td>\n",
       "      <td>Black</td>\n",
       "      <td>5′ 2″</td>\n",
       "      <td>136</td>\n",
       "      <td>Brown</td>\n",
       "      <td>Frio</td>\n",
       "      <td>Texas</td>\n",
       "    </tr>\n",
       "  </tbody>\n",
       "</table>\n",
       "</div>"
      ],
      "text/plain": [
       "               Name TDCJ Number Date of Birth Date Received  \\\n",
       "0  Gonzales, Ramiro      999513    11/05/1982    09/27/2006   \n",
       "1  Gonzales, Ramiro      999513    11/05/1982    09/27/2006   \n",
       "\n",
       "  Age (when Received) Education Level (Highest Grade Completed)  \\\n",
       "0                  23                                 7th Grade   \n",
       "1                  23                                 7th Grade   \n",
       "\n",
       "  Date of Offense Age (at the time of Offense)  County      Race Gender  \\\n",
       "0      01/15/2001                           18  Medina  Hispanic   Male   \n",
       "1      01/15/2001                           18  Medina  Hispanic   Male   \n",
       "\n",
       "  Hair Color Height (in Feet and Inches) Weight (in Pounds) Eye Color  \\\n",
       "0      Black                       5′ 2″                136     Brown   \n",
       "1      Black                       5′ 2″                136     Brown   \n",
       "\n",
       "  Native County Native State  \n",
       "0          Frio        Texas  \n",
       "1          Frio        Texas  "
      ]
     },
     "execution_count": 162,
     "metadata": {},
     "output_type": "execute_result"
    }
   ],
   "source": [
    "table_dict2 = table_dict\n",
    "table_dict_list = [table_dict, table_dict2]\n",
    "test = pd.DataFrame(table_dict_list)\n",
    "test"
   ]
  },
  {
   "cell_type": "code",
   "execution_count": 153,
   "id": "d23541ea",
   "metadata": {},
   "outputs": [
    {
     "data": {
      "text/plain": [
       "[[('commentID', 'commentText', 'date'), ('123456', 'blahblahblah', '2019')],\n",
       " [('45678', 'hello world', '2018'), ('0', 'text', '2017')]]"
      ]
     },
     "execution_count": 153,
     "metadata": {},
     "output_type": "execute_result"
    }
   ],
   "source": [
    "tupList = [[('commentID', 'commentText', 'date'), ('123456', 'blahblahblah', '2019')], [('45678', 'hello world', '2018'), ('0', 'text', '2017')]]\n",
    "tupList\n"
   ]
  },
  {
   "cell_type": "code",
   "execution_count": null,
   "id": "5fc46fcf",
   "metadata": {},
   "outputs": [],
   "source": [
    "[t for lst in tupList for t in lst]"
   ]
  }
 ],
 "metadata": {
  "kernelspec": {
   "display_name": "Python 3 (ipykernel)",
   "language": "python",
   "name": "python3"
  },
  "language_info": {
   "codemirror_mode": {
    "name": "ipython",
    "version": 3
   },
   "file_extension": ".py",
   "mimetype": "text/x-python",
   "name": "python",
   "nbconvert_exporter": "python",
   "pygments_lexer": "ipython3",
   "version": "3.11.5"
  }
 },
 "nbformat": 4,
 "nbformat_minor": 5
}
